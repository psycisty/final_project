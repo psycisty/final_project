{
 "cells": [
  {
   "cell_type": "code",
   "execution_count": 1,
   "metadata": {
    "ExecuteTime": {
     "end_time": "2019-11-18T08:58:34.042346Z",
     "start_time": "2019-11-18T08:58:32.734774Z"
    }
   },
   "outputs": [],
   "source": [
    "import numpy as np\n",
    "import pandas as pd\n",
    "import matplotlib.pyplot as plt\n",
    "import seaborn as sns\n",
    "import datetime\n",
    "\n",
    "%matplotlib inline"
   ]
  },
  {
   "cell_type": "code",
   "execution_count": 2,
   "metadata": {
    "ExecuteTime": {
     "end_time": "2019-11-18T08:58:39.761473Z",
     "start_time": "2019-11-18T08:58:34.042346Z"
    }
   },
   "outputs": [
    {
     "name": "stderr",
     "output_type": "stream",
     "text": [
      "C:\\Users\\Asyariati\\Anaconda3\\lib\\site-packages\\IPython\\core\\interactiveshell.py:3057: DtypeWarning: Columns (2) have mixed types. Specify dtype option on import or set low_memory=False.\n",
      "  interactivity=interactivity, compiler=compiler, result=result)\n"
     ]
    }
   ],
   "source": [
    "users=pd.read_csv('data_preprocessed.csv')"
   ]
  },
  {
   "cell_type": "code",
   "execution_count": 3,
   "metadata": {
    "ExecuteTime": {
     "end_time": "2019-11-18T08:58:40.112189Z",
     "start_time": "2019-11-18T08:58:39.761473Z"
    }
   },
   "outputs": [],
   "source": [
    "users.drop('Unnamed: 0',axis=1,inplace=True)"
   ]
  },
  {
   "cell_type": "code",
   "execution_count": 4,
   "metadata": {
    "ExecuteTime": {
     "end_time": "2019-11-18T08:58:40.160187Z",
     "start_time": "2019-11-18T08:58:40.116198Z"
    }
   },
   "outputs": [
    {
     "data": {
      "text/html": [
       "<div>\n",
       "<style scoped>\n",
       "    .dataframe tbody tr th:only-of-type {\n",
       "        vertical-align: middle;\n",
       "    }\n",
       "\n",
       "    .dataframe tbody tr th {\n",
       "        vertical-align: top;\n",
       "    }\n",
       "\n",
       "    .dataframe thead th {\n",
       "        text-align: right;\n",
       "    }\n",
       "</style>\n",
       "<table border=\"1\" class=\"dataframe\">\n",
       "  <thead>\n",
       "    <tr style=\"text-align: right;\">\n",
       "      <th></th>\n",
       "      <th>id</th>\n",
       "      <th>country_destination</th>\n",
       "      <th>age_group</th>\n",
       "      <th>day_account_created</th>\n",
       "      <th>weekday_account_created</th>\n",
       "      <th>week_account_created</th>\n",
       "      <th>month_account_created</th>\n",
       "      <th>year_account_created</th>\n",
       "      <th>hours_account_created</th>\n",
       "      <th>day_first_active</th>\n",
       "      <th>...</th>\n",
       "      <th>most_used_device_Chromebook</th>\n",
       "      <th>most_used_device_Linux Desktop</th>\n",
       "      <th>most_used_device_Mac Desktop</th>\n",
       "      <th>most_used_device_Opera Phone</th>\n",
       "      <th>most_used_device_Tablet</th>\n",
       "      <th>most_used_device_Windows Desktop</th>\n",
       "      <th>most_used_device_Windows Phone</th>\n",
       "      <th>most_used_device_iPad Tablet</th>\n",
       "      <th>most_used_device_iPhone</th>\n",
       "      <th>most_used_device_iPodtouch</th>\n",
       "    </tr>\n",
       "  </thead>\n",
       "  <tbody>\n",
       "    <tr>\n",
       "      <th>0</th>\n",
       "      <td>gxn3p5htnn</td>\n",
       "      <td>NDF</td>\n",
       "      <td>0</td>\n",
       "      <td>28</td>\n",
       "      <td>0</td>\n",
       "      <td>26</td>\n",
       "      <td>6</td>\n",
       "      <td>2010</td>\n",
       "      <td>0</td>\n",
       "      <td>19</td>\n",
       "      <td>...</td>\n",
       "      <td>0</td>\n",
       "      <td>0</td>\n",
       "      <td>0</td>\n",
       "      <td>0</td>\n",
       "      <td>0</td>\n",
       "      <td>0</td>\n",
       "      <td>0</td>\n",
       "      <td>0</td>\n",
       "      <td>0</td>\n",
       "      <td>0</td>\n",
       "    </tr>\n",
       "    <tr>\n",
       "      <th>1</th>\n",
       "      <td>820tgsjxq7</td>\n",
       "      <td>NDF</td>\n",
       "      <td>4</td>\n",
       "      <td>25</td>\n",
       "      <td>2</td>\n",
       "      <td>21</td>\n",
       "      <td>5</td>\n",
       "      <td>2011</td>\n",
       "      <td>0</td>\n",
       "      <td>23</td>\n",
       "      <td>...</td>\n",
       "      <td>0</td>\n",
       "      <td>0</td>\n",
       "      <td>0</td>\n",
       "      <td>0</td>\n",
       "      <td>0</td>\n",
       "      <td>0</td>\n",
       "      <td>0</td>\n",
       "      <td>0</td>\n",
       "      <td>0</td>\n",
       "      <td>0</td>\n",
       "    </tr>\n",
       "    <tr>\n",
       "      <th>2</th>\n",
       "      <td>4ft3gnwmtx</td>\n",
       "      <td>US</td>\n",
       "      <td>6</td>\n",
       "      <td>28</td>\n",
       "      <td>1</td>\n",
       "      <td>39</td>\n",
       "      <td>9</td>\n",
       "      <td>2010</td>\n",
       "      <td>0</td>\n",
       "      <td>9</td>\n",
       "      <td>...</td>\n",
       "      <td>0</td>\n",
       "      <td>0</td>\n",
       "      <td>0</td>\n",
       "      <td>0</td>\n",
       "      <td>0</td>\n",
       "      <td>0</td>\n",
       "      <td>0</td>\n",
       "      <td>0</td>\n",
       "      <td>0</td>\n",
       "      <td>0</td>\n",
       "    </tr>\n",
       "    <tr>\n",
       "      <th>3</th>\n",
       "      <td>bjjt8pjhuk</td>\n",
       "      <td>other</td>\n",
       "      <td>5</td>\n",
       "      <td>5</td>\n",
       "      <td>0</td>\n",
       "      <td>49</td>\n",
       "      <td>12</td>\n",
       "      <td>2011</td>\n",
       "      <td>0</td>\n",
       "      <td>31</td>\n",
       "      <td>...</td>\n",
       "      <td>0</td>\n",
       "      <td>0</td>\n",
       "      <td>0</td>\n",
       "      <td>0</td>\n",
       "      <td>0</td>\n",
       "      <td>0</td>\n",
       "      <td>0</td>\n",
       "      <td>0</td>\n",
       "      <td>0</td>\n",
       "      <td>0</td>\n",
       "    </tr>\n",
       "    <tr>\n",
       "      <th>4</th>\n",
       "      <td>87mebub9p4</td>\n",
       "      <td>US</td>\n",
       "      <td>5</td>\n",
       "      <td>14</td>\n",
       "      <td>1</td>\n",
       "      <td>37</td>\n",
       "      <td>9</td>\n",
       "      <td>2010</td>\n",
       "      <td>0</td>\n",
       "      <td>8</td>\n",
       "      <td>...</td>\n",
       "      <td>0</td>\n",
       "      <td>0</td>\n",
       "      <td>0</td>\n",
       "      <td>0</td>\n",
       "      <td>0</td>\n",
       "      <td>0</td>\n",
       "      <td>0</td>\n",
       "      <td>0</td>\n",
       "      <td>0</td>\n",
       "      <td>0</td>\n",
       "    </tr>\n",
       "  </tbody>\n",
       "</table>\n",
       "<p>5 rows × 214 columns</p>\n",
       "</div>"
      ],
      "text/plain": [
       "           id country_destination  age_group  day_account_created  \\\n",
       "0  gxn3p5htnn                 NDF          0                   28   \n",
       "1  820tgsjxq7                 NDF          4                   25   \n",
       "2  4ft3gnwmtx                  US          6                   28   \n",
       "3  bjjt8pjhuk               other          5                    5   \n",
       "4  87mebub9p4                  US          5                   14   \n",
       "\n",
       "   weekday_account_created  week_account_created  month_account_created  \\\n",
       "0                        0                    26                      6   \n",
       "1                        2                    21                      5   \n",
       "2                        1                    39                      9   \n",
       "3                        0                    49                     12   \n",
       "4                        1                    37                      9   \n",
       "\n",
       "   year_account_created  hours_account_created  day_first_active  ...  \\\n",
       "0                  2010                      0                19  ...   \n",
       "1                  2011                      0                23  ...   \n",
       "2                  2010                      0                 9  ...   \n",
       "3                  2011                      0                31  ...   \n",
       "4                  2010                      0                 8  ...   \n",
       "\n",
       "   most_used_device_Chromebook  most_used_device_Linux Desktop  \\\n",
       "0                            0                               0   \n",
       "1                            0                               0   \n",
       "2                            0                               0   \n",
       "3                            0                               0   \n",
       "4                            0                               0   \n",
       "\n",
       "   most_used_device_Mac Desktop  most_used_device_Opera Phone  \\\n",
       "0                             0                             0   \n",
       "1                             0                             0   \n",
       "2                             0                             0   \n",
       "3                             0                             0   \n",
       "4                             0                             0   \n",
       "\n",
       "   most_used_device_Tablet  most_used_device_Windows Desktop  \\\n",
       "0                        0                                 0   \n",
       "1                        0                                 0   \n",
       "2                        0                                 0   \n",
       "3                        0                                 0   \n",
       "4                        0                                 0   \n",
       "\n",
       "   most_used_device_Windows Phone  most_used_device_iPad Tablet  \\\n",
       "0                               0                             0   \n",
       "1                               0                             0   \n",
       "2                               0                             0   \n",
       "3                               0                             0   \n",
       "4                               0                             0   \n",
       "\n",
       "   most_used_device_iPhone  most_used_device_iPodtouch  \n",
       "0                        0                           0  \n",
       "1                        0                           0  \n",
       "2                        0                           0  \n",
       "3                        0                           0  \n",
       "4                        0                           0  \n",
       "\n",
       "[5 rows x 214 columns]"
      ]
     },
     "execution_count": 4,
     "metadata": {},
     "output_type": "execute_result"
    }
   ],
   "source": [
    "users.head()"
   ]
  },
  {
   "cell_type": "code",
   "execution_count": 5,
   "metadata": {
    "ExecuteTime": {
     "end_time": "2019-11-18T08:58:42.439033Z",
     "start_time": "2019-11-18T08:58:40.160187Z"
    }
   },
   "outputs": [
    {
     "name": "stdout",
     "output_type": "stream",
     "text": [
      "age_group\n",
      "day_account_created\n",
      "weekday_account_created\n",
      "week_account_created\n",
      "month_account_created\n",
      "year_account_created\n",
      "day_first_active\n",
      "weekday_first_active\n",
      "week_first_active\n",
      "month_first_active\n",
      "year_first_active\n",
      "hours_first_active\n",
      "time_lag\n",
      "action\n",
      "-unknown-_count\n",
      "click_count\n",
      "data_count\n",
      "message_post_count\n",
      "submit_count\n",
      "view_count\n",
      "-unknown-_sum\n",
      "booking_request_sum\n",
      "booking_response_sum\n",
      "click_sum\n",
      "data_sum\n",
      "message_post_sum\n",
      "partner_callback_sum\n",
      "submit_sum\n",
      "view_sum\n",
      "-unknown-_pct\n",
      "booking_request_pct\n",
      "click_pct\n",
      "data_pct\n",
      "message_post_pct\n",
      "submit_pct\n",
      "view_pct\n",
      "action_detail\n",
      "secs_elapsed_sum\n",
      "secs_elapsed_mean\n",
      "secs_elapsed_min\n",
      "secs_elapsed_max\n",
      "secs_elapsed_median\n",
      "secs_elapsed_std\n",
      "secs_elapsed_var\n",
      "day_pauses\n",
      "long_pauses\n",
      "short_pauses\n",
      "session_length\n"
     ]
    }
   ],
   "source": [
    "colx = users.columns.tolist()\n",
    "rm_list = ['id','country_destination']\n",
    "for x in rm_list:\n",
    "    colx.remove(x)\n",
    "X = users[~(users['country_destination'].isnull())][colx]\n",
    "X.fillna(0,inplace=True)\n",
    "\n",
    "from sklearn.feature_selection import VarianceThreshold\n",
    "sel = VarianceThreshold(threshold=(0.8))\n",
    "sel.fit_transform(X)\n",
    "idxs = sel.get_support(indices=True)\n",
    "colo = [X.columns.tolist()[i] for i in idxs]\n",
    "print ('\\n'.join(colo))\n",
    "for y in rm_list:\n",
    "    colo.append(y)"
   ]
  },
  {
   "cell_type": "code",
   "execution_count": 6,
   "metadata": {
    "ExecuteTime": {
     "end_time": "2019-11-18T08:58:42.451035Z",
     "start_time": "2019-11-18T08:58:42.439033Z"
    }
   },
   "outputs": [
    {
     "data": {
      "text/plain": [
       "50"
      ]
     },
     "execution_count": 6,
     "metadata": {},
     "output_type": "execute_result"
    }
   ],
   "source": [
    "len(colo)"
   ]
  },
  {
   "cell_type": "code",
   "execution_count": 7,
   "metadata": {
    "ExecuteTime": {
     "end_time": "2019-11-18T08:58:42.459035Z",
     "start_time": "2019-11-18T08:58:42.451035Z"
    }
   },
   "outputs": [],
   "source": [
    "categorical_features = [\n",
    "    'gender', 'signup_method', 'signup_flow', 'language',\n",
    "    'affiliate_channel', 'affiliate_provider', 'first_affiliate_tracked',\n",
    "    'signup_app', 'first_device_type', 'first_browser', 'most_used_device']"
   ]
  },
  {
   "cell_type": "code",
   "execution_count": 8,
   "metadata": {
    "ExecuteTime": {
     "end_time": "2019-11-18T08:58:55.610997Z",
     "start_time": "2019-11-18T08:58:42.463033Z"
    }
   },
   "outputs": [],
   "source": [
    "categorical_features_1 = [val for val in categorical_features if val in colo]\n",
    "users_encode = pd.get_dummies(users[colo], columns=categorical_features_1)\n",
    "users_encode.to_csv('users_data_feature.csv')"
   ]
  },
  {
   "cell_type": "markdown",
   "metadata": {},
   "source": [
    "#### Model Building"
   ]
  },
  {
   "cell_type": "code",
   "execution_count": 10,
   "metadata": {
    "ExecuteTime": {
     "end_time": "2019-11-18T08:59:25.362812Z",
     "start_time": "2019-11-18T08:59:25.342836Z"
    }
   },
   "outputs": [],
   "source": [
    "users = users_encode\n",
    "users.set_index('id',inplace=True)"
   ]
  },
  {
   "cell_type": "code",
   "execution_count": 11,
   "metadata": {
    "ExecuteTime": {
     "end_time": "2019-11-18T08:59:26.756673Z",
     "start_time": "2019-11-18T08:59:25.874545Z"
    }
   },
   "outputs": [],
   "source": [
    "from sklearn.model_selection import train_test_split\n",
    "\n",
    "colx = users.columns.tolist()\n",
    "\n",
    "rm_list = ['country_destination']\n",
    "\n",
    "for x in rm_list:\n",
    "    colx.remove(x)\n",
    "    \n",
    "X_1 = users[(users['country_destination'].isnull())][colx]\n",
    "X_1.fillna(0,inplace=True)\n",
    "\n",
    "X = users[~(users['country_destination'].isnull())][colx]\n",
    "X.fillna(0,inplace=True)\n",
    "\n",
    "y = users[~(users['country_destination'].isnull())]['country_destination']\n",
    "\n",
    "X_train, X_test, y_train, y_test = train_test_split(X, y, test_size=0.3, random_state=42,stratify=y)"
   ]
  },
  {
   "cell_type": "code",
   "execution_count": 56,
   "metadata": {
    "ExecuteTime": {
     "end_time": "2019-11-18T09:46:21.166322Z",
     "start_time": "2019-11-18T09:46:17.917909Z"
    }
   },
   "outputs": [],
   "source": [
    "X_1.to_csv('test_set.csv')"
   ]
  },
  {
   "cell_type": "code",
   "execution_count": 58,
   "metadata": {
    "ExecuteTime": {
     "end_time": "2019-11-18T09:46:30.245591Z",
     "start_time": "2019-11-18T09:46:29.643744Z"
    }
   },
   "outputs": [
    {
     "data": {
      "text/html": [
       "<div>\n",
       "<style scoped>\n",
       "    .dataframe tbody tr th:only-of-type {\n",
       "        vertical-align: middle;\n",
       "    }\n",
       "\n",
       "    .dataframe tbody tr th {\n",
       "        vertical-align: top;\n",
       "    }\n",
       "\n",
       "    .dataframe thead th {\n",
       "        text-align: right;\n",
       "    }\n",
       "</style>\n",
       "<table border=\"1\" class=\"dataframe\">\n",
       "  <thead>\n",
       "    <tr style=\"text-align: right;\">\n",
       "      <th></th>\n",
       "      <th>id</th>\n",
       "      <th>age_group</th>\n",
       "      <th>day_account_created</th>\n",
       "      <th>weekday_account_created</th>\n",
       "      <th>week_account_created</th>\n",
       "      <th>month_account_created</th>\n",
       "      <th>year_account_created</th>\n",
       "      <th>day_first_active</th>\n",
       "      <th>weekday_first_active</th>\n",
       "      <th>week_first_active</th>\n",
       "      <th>...</th>\n",
       "      <th>secs_elapsed_mean</th>\n",
       "      <th>secs_elapsed_min</th>\n",
       "      <th>secs_elapsed_max</th>\n",
       "      <th>secs_elapsed_median</th>\n",
       "      <th>secs_elapsed_std</th>\n",
       "      <th>secs_elapsed_var</th>\n",
       "      <th>day_pauses</th>\n",
       "      <th>long_pauses</th>\n",
       "      <th>short_pauses</th>\n",
       "      <th>session_length</th>\n",
       "    </tr>\n",
       "  </thead>\n",
       "  <tbody>\n",
       "    <tr>\n",
       "      <th>0</th>\n",
       "      <td>5uwns89zht</td>\n",
       "      <td>4</td>\n",
       "      <td>1</td>\n",
       "      <td>1</td>\n",
       "      <td>27</td>\n",
       "      <td>7</td>\n",
       "      <td>2014</td>\n",
       "      <td>1</td>\n",
       "      <td>1</td>\n",
       "      <td>27</td>\n",
       "      <td>...</td>\n",
       "      <td>17026.714286</td>\n",
       "      <td>79.0</td>\n",
       "      <td>64883.0</td>\n",
       "      <td>2940.0</td>\n",
       "      <td>24104.681093</td>\n",
       "      <td>5.810357e+08</td>\n",
       "      <td>0.0</td>\n",
       "      <td>0.0</td>\n",
       "      <td>4.0</td>\n",
       "      <td>8.0</td>\n",
       "    </tr>\n",
       "    <tr>\n",
       "      <th>1</th>\n",
       "      <td>jtl0dijy2j</td>\n",
       "      <td>0</td>\n",
       "      <td>1</td>\n",
       "      <td>1</td>\n",
       "      <td>27</td>\n",
       "      <td>7</td>\n",
       "      <td>2014</td>\n",
       "      <td>1</td>\n",
       "      <td>1</td>\n",
       "      <td>27</td>\n",
       "      <td>...</td>\n",
       "      <td>13895.500000</td>\n",
       "      <td>95.0</td>\n",
       "      <td>61881.0</td>\n",
       "      <td>3342.5</td>\n",
       "      <td>18953.220183</td>\n",
       "      <td>3.592246e+08</td>\n",
       "      <td>0.0</td>\n",
       "      <td>0.0</td>\n",
       "      <td>10.0</td>\n",
       "      <td>19.0</td>\n",
       "    </tr>\n",
       "    <tr>\n",
       "      <th>2</th>\n",
       "      <td>xx0ulgorjt</td>\n",
       "      <td>0</td>\n",
       "      <td>1</td>\n",
       "      <td>1</td>\n",
       "      <td>27</td>\n",
       "      <td>7</td>\n",
       "      <td>2014</td>\n",
       "      <td>1</td>\n",
       "      <td>1</td>\n",
       "      <td>27</td>\n",
       "      <td>...</td>\n",
       "      <td>17115.350877</td>\n",
       "      <td>280.0</td>\n",
       "      <td>270618.0</td>\n",
       "      <td>10758.0</td>\n",
       "      <td>37259.885170</td>\n",
       "      <td>1.388299e+09</td>\n",
       "      <td>1.0</td>\n",
       "      <td>0.0</td>\n",
       "      <td>24.0</td>\n",
       "      <td>58.0</td>\n",
       "    </tr>\n",
       "    <tr>\n",
       "      <th>3</th>\n",
       "      <td>6c6puo6ix0</td>\n",
       "      <td>0</td>\n",
       "      <td>1</td>\n",
       "      <td>1</td>\n",
       "      <td>27</td>\n",
       "      <td>7</td>\n",
       "      <td>2014</td>\n",
       "      <td>1</td>\n",
       "      <td>1</td>\n",
       "      <td>27</td>\n",
       "      <td>...</td>\n",
       "      <td>12300.100000</td>\n",
       "      <td>5.0</td>\n",
       "      <td>106481.0</td>\n",
       "      <td>233.5</td>\n",
       "      <td>33347.363329</td>\n",
       "      <td>1.112047e+09</td>\n",
       "      <td>1.0</td>\n",
       "      <td>0.0</td>\n",
       "      <td>8.0</td>\n",
       "      <td>11.0</td>\n",
       "    </tr>\n",
       "    <tr>\n",
       "      <th>4</th>\n",
       "      <td>czqhjk3yfe</td>\n",
       "      <td>0</td>\n",
       "      <td>1</td>\n",
       "      <td>1</td>\n",
       "      <td>27</td>\n",
       "      <td>7</td>\n",
       "      <td>2014</td>\n",
       "      <td>1</td>\n",
       "      <td>1</td>\n",
       "      <td>27</td>\n",
       "      <td>...</td>\n",
       "      <td>25223.500000</td>\n",
       "      <td>0.0</td>\n",
       "      <td>219369.0</td>\n",
       "      <td>1170.0</td>\n",
       "      <td>56569.579369</td>\n",
       "      <td>3.200117e+09</td>\n",
       "      <td>2.0</td>\n",
       "      <td>0.0</td>\n",
       "      <td>12.0</td>\n",
       "      <td>18.0</td>\n",
       "    </tr>\n",
       "  </tbody>\n",
       "</table>\n",
       "<p>5 rows × 49 columns</p>\n",
       "</div>"
      ],
      "text/plain": [
       "           id  age_group  day_account_created  weekday_account_created  \\\n",
       "0  5uwns89zht          4                    1                        1   \n",
       "1  jtl0dijy2j          0                    1                        1   \n",
       "2  xx0ulgorjt          0                    1                        1   \n",
       "3  6c6puo6ix0          0                    1                        1   \n",
       "4  czqhjk3yfe          0                    1                        1   \n",
       "\n",
       "   week_account_created  month_account_created  year_account_created  \\\n",
       "0                    27                      7                  2014   \n",
       "1                    27                      7                  2014   \n",
       "2                    27                      7                  2014   \n",
       "3                    27                      7                  2014   \n",
       "4                    27                      7                  2014   \n",
       "\n",
       "   day_first_active  weekday_first_active  week_first_active  ...  \\\n",
       "0                 1                     1                 27  ...   \n",
       "1                 1                     1                 27  ...   \n",
       "2                 1                     1                 27  ...   \n",
       "3                 1                     1                 27  ...   \n",
       "4                 1                     1                 27  ...   \n",
       "\n",
       "   secs_elapsed_mean  secs_elapsed_min  secs_elapsed_max  secs_elapsed_median  \\\n",
       "0       17026.714286              79.0           64883.0               2940.0   \n",
       "1       13895.500000              95.0           61881.0               3342.5   \n",
       "2       17115.350877             280.0          270618.0              10758.0   \n",
       "3       12300.100000               5.0          106481.0                233.5   \n",
       "4       25223.500000               0.0          219369.0               1170.0   \n",
       "\n",
       "   secs_elapsed_std  secs_elapsed_var  day_pauses  long_pauses  short_pauses  \\\n",
       "0      24104.681093      5.810357e+08         0.0          0.0           4.0   \n",
       "1      18953.220183      3.592246e+08         0.0          0.0          10.0   \n",
       "2      37259.885170      1.388299e+09         1.0          0.0          24.0   \n",
       "3      33347.363329      1.112047e+09         1.0          0.0           8.0   \n",
       "4      56569.579369      3.200117e+09         2.0          0.0          12.0   \n",
       "\n",
       "   session_length  \n",
       "0             8.0  \n",
       "1            19.0  \n",
       "2            58.0  \n",
       "3            11.0  \n",
       "4            18.0  \n",
       "\n",
       "[5 rows x 49 columns]"
      ]
     },
     "execution_count": 58,
     "metadata": {},
     "output_type": "execute_result"
    }
   ],
   "source": [
    "pd.read_csv('test_set.csv').head()"
   ]
  },
  {
   "cell_type": "code",
   "execution_count": null,
   "metadata": {},
   "outputs": [],
   "source": []
  },
  {
   "cell_type": "code",
   "execution_count": 15,
   "metadata": {
    "ExecuteTime": {
     "end_time": "2019-11-18T09:00:13.705019Z",
     "start_time": "2019-11-18T08:59:42.487717Z"
    }
   },
   "outputs": [
    {
     "data": {
      "text/plain": [
       "LGBMClassifier(boosting_type='gbdt', class_weight=None, colsample_bytree=1.0,\n",
       "               importance_type='split', learning_rate=0.1, max_depth=-1,\n",
       "               min_child_samples=20, min_child_weight=0.001, min_split_gain=0.0,\n",
       "               n_estimators=100, n_jobs=-1, num_leaves=31, objective=None,\n",
       "               random_state=101, reg_alpha=0.0, reg_lambda=0.0, silent=True,\n",
       "               subsample=1.0, subsample_for_bin=200000, subsample_freq=0)"
      ]
     },
     "execution_count": 15,
     "metadata": {},
     "output_type": "execute_result"
    }
   ],
   "source": [
    "from lightgbm import LGBMClassifier\n",
    "\n",
    "lgbm=LGBMClassifier(random_state=101)\n",
    "lgbm.fit(X_train,y_train)"
   ]
  },
  {
   "cell_type": "code",
   "execution_count": 16,
   "metadata": {
    "ExecuteTime": {
     "end_time": "2019-11-18T09:00:16.523194Z",
     "start_time": "2019-11-18T09:00:13.705019Z"
    }
   },
   "outputs": [
    {
     "data": {
      "text/html": [
       "<div>\n",
       "<style scoped>\n",
       "    .dataframe tbody tr th:only-of-type {\n",
       "        vertical-align: middle;\n",
       "    }\n",
       "\n",
       "    .dataframe tbody tr th {\n",
       "        vertical-align: top;\n",
       "    }\n",
       "\n",
       "    .dataframe thead th {\n",
       "        text-align: right;\n",
       "    }\n",
       "</style>\n",
       "<table border=\"1\" class=\"dataframe\">\n",
       "  <thead>\n",
       "    <tr style=\"text-align: right;\">\n",
       "      <th>Predicted Destination</th>\n",
       "      <th>AU</th>\n",
       "      <th>ES</th>\n",
       "      <th>FR</th>\n",
       "      <th>NDF</th>\n",
       "      <th>NL</th>\n",
       "      <th>PT</th>\n",
       "      <th>US</th>\n",
       "      <th>other</th>\n",
       "    </tr>\n",
       "    <tr>\n",
       "      <th>Actual Destination</th>\n",
       "      <th></th>\n",
       "      <th></th>\n",
       "      <th></th>\n",
       "      <th></th>\n",
       "      <th></th>\n",
       "      <th></th>\n",
       "      <th></th>\n",
       "      <th></th>\n",
       "    </tr>\n",
       "  </thead>\n",
       "  <tbody>\n",
       "    <tr>\n",
       "      <th>AU</th>\n",
       "      <td>0</td>\n",
       "      <td>0</td>\n",
       "      <td>0</td>\n",
       "      <td>126</td>\n",
       "      <td>0</td>\n",
       "      <td>0</td>\n",
       "      <td>36</td>\n",
       "      <td>0</td>\n",
       "    </tr>\n",
       "    <tr>\n",
       "      <th>CA</th>\n",
       "      <td>0</td>\n",
       "      <td>0</td>\n",
       "      <td>0</td>\n",
       "      <td>303</td>\n",
       "      <td>0</td>\n",
       "      <td>0</td>\n",
       "      <td>125</td>\n",
       "      <td>0</td>\n",
       "    </tr>\n",
       "    <tr>\n",
       "      <th>DE</th>\n",
       "      <td>0</td>\n",
       "      <td>0</td>\n",
       "      <td>0</td>\n",
       "      <td>249</td>\n",
       "      <td>0</td>\n",
       "      <td>0</td>\n",
       "      <td>69</td>\n",
       "      <td>0</td>\n",
       "    </tr>\n",
       "    <tr>\n",
       "      <th>ES</th>\n",
       "      <td>0</td>\n",
       "      <td>0</td>\n",
       "      <td>0</td>\n",
       "      <td>513</td>\n",
       "      <td>0</td>\n",
       "      <td>0</td>\n",
       "      <td>162</td>\n",
       "      <td>0</td>\n",
       "    </tr>\n",
       "    <tr>\n",
       "      <th>FR</th>\n",
       "      <td>0</td>\n",
       "      <td>0</td>\n",
       "      <td>0</td>\n",
       "      <td>1160</td>\n",
       "      <td>1</td>\n",
       "      <td>0</td>\n",
       "      <td>346</td>\n",
       "      <td>0</td>\n",
       "    </tr>\n",
       "    <tr>\n",
       "      <th>GB</th>\n",
       "      <td>0</td>\n",
       "      <td>0</td>\n",
       "      <td>0</td>\n",
       "      <td>521</td>\n",
       "      <td>0</td>\n",
       "      <td>0</td>\n",
       "      <td>176</td>\n",
       "      <td>0</td>\n",
       "    </tr>\n",
       "    <tr>\n",
       "      <th>IT</th>\n",
       "      <td>0</td>\n",
       "      <td>0</td>\n",
       "      <td>0</td>\n",
       "      <td>658</td>\n",
       "      <td>0</td>\n",
       "      <td>0</td>\n",
       "      <td>193</td>\n",
       "      <td>0</td>\n",
       "    </tr>\n",
       "    <tr>\n",
       "      <th>NDF</th>\n",
       "      <td>0</td>\n",
       "      <td>0</td>\n",
       "      <td>0</td>\n",
       "      <td>34127</td>\n",
       "      <td>0</td>\n",
       "      <td>2</td>\n",
       "      <td>3234</td>\n",
       "      <td>0</td>\n",
       "    </tr>\n",
       "    <tr>\n",
       "      <th>NL</th>\n",
       "      <td>0</td>\n",
       "      <td>0</td>\n",
       "      <td>0</td>\n",
       "      <td>165</td>\n",
       "      <td>0</td>\n",
       "      <td>0</td>\n",
       "      <td>64</td>\n",
       "      <td>0</td>\n",
       "    </tr>\n",
       "    <tr>\n",
       "      <th>PT</th>\n",
       "      <td>0</td>\n",
       "      <td>0</td>\n",
       "      <td>0</td>\n",
       "      <td>49</td>\n",
       "      <td>0</td>\n",
       "      <td>0</td>\n",
       "      <td>16</td>\n",
       "      <td>0</td>\n",
       "    </tr>\n",
       "    <tr>\n",
       "      <th>US</th>\n",
       "      <td>1</td>\n",
       "      <td>1</td>\n",
       "      <td>0</td>\n",
       "      <td>13541</td>\n",
       "      <td>2</td>\n",
       "      <td>1</td>\n",
       "      <td>5165</td>\n",
       "      <td>2</td>\n",
       "    </tr>\n",
       "    <tr>\n",
       "      <th>other</th>\n",
       "      <td>0</td>\n",
       "      <td>0</td>\n",
       "      <td>1</td>\n",
       "      <td>2264</td>\n",
       "      <td>0</td>\n",
       "      <td>0</td>\n",
       "      <td>762</td>\n",
       "      <td>1</td>\n",
       "    </tr>\n",
       "  </tbody>\n",
       "</table>\n",
       "</div>"
      ],
      "text/plain": [
       "Predicted Destination  AU  ES  FR    NDF  NL  PT    US  other\n",
       "Actual Destination                                           \n",
       "AU                      0   0   0    126   0   0    36      0\n",
       "CA                      0   0   0    303   0   0   125      0\n",
       "DE                      0   0   0    249   0   0    69      0\n",
       "ES                      0   0   0    513   0   0   162      0\n",
       "FR                      0   0   0   1160   1   0   346      0\n",
       "GB                      0   0   0    521   0   0   176      0\n",
       "IT                      0   0   0    658   0   0   193      0\n",
       "NDF                     0   0   0  34127   0   2  3234      0\n",
       "NL                      0   0   0    165   0   0    64      0\n",
       "PT                      0   0   0     49   0   0    16      0\n",
       "US                      1   1   0  13541   2   1  5165      2\n",
       "other                   0   0   1   2264   0   0   762      1"
      ]
     },
     "execution_count": 16,
     "metadata": {},
     "output_type": "execute_result"
    }
   ],
   "source": [
    "y_pred=lgbm.predict(X_test)\n",
    "pd.crosstab(y_test, y_pred, rownames=['Actual Destination'], colnames=['Predicted Destination'])"
   ]
  },
  {
   "cell_type": "code",
   "execution_count": 17,
   "metadata": {
    "ExecuteTime": {
     "end_time": "2019-11-18T09:00:16.536835Z",
     "start_time": "2019-11-18T09:00:16.524834Z"
    }
   },
   "outputs": [],
   "source": [
    "def dcg_at_k(r, k, method=1):\n",
    "    r = np.asfarray(r)[:k]\n",
    "    return np.sum(r / np.log2(np.arange(2, len(r) + 2)))\n",
    "\n",
    "\n",
    "def ndcg_at_k(r, k=5, method=1):\n",
    "    dcg_max = dcg_at_k(sorted(r, reverse=True), k, method)\n",
    "    return dcg_at_k(r, k, method) / dcg_max\n",
    "\n",
    "\n",
    "def score_predictions(preds, truth,model):\n",
    "    truth=truth.tolist()\n",
    "    \n",
    "    sorted_asli=[]\n",
    "    for i in np.argsort(preds):\n",
    "        sorted_asli.append(i[::-1].tolist())\n",
    "    \n",
    "    pred=pd.DataFrame(np.take(model.classes_,sorted_asli).tolist())\n",
    "        \n",
    "    \"\"\"\n",
    "    preds: pd.DataFrame\n",
    "      one row for each observation, one column for each prediction.\n",
    "      Columns are sorted from left to right descending in order of likelihood.\n",
    "    truth: pd.Series\n",
    "      one row for each obeservation.\n",
    "    \"\"\"\n",
    "    r = pd.DataFrame(0, index=pred.index, columns=pred.columns, dtype=np.float64)\n",
    "    for col in pred.columns:\n",
    "        r[col] = (pred[col] == truth)\n",
    "\n",
    "    score = pd.Series(r.apply(ndcg_at_k, axis=1, reduce=True), name='score')\n",
    "    return score"
   ]
  },
  {
   "cell_type": "code",
   "execution_count": 18,
   "metadata": {
    "ExecuteTime": {
     "end_time": "2019-11-18T09:00:25.549196Z",
     "start_time": "2019-11-18T09:00:16.540833Z"
    },
    "scrolled": true
   },
   "outputs": [
    {
     "name": "stderr",
     "output_type": "stream",
     "text": [
      "C:\\Users\\Asyariati\\Anaconda3\\lib\\site-packages\\ipykernel_launcher.py:31: FutureWarning: The reduce argument is deprecated and will be removed in a future version. You can specify result_type='reduce' to try to reduce the result to the original dimensions\n"
     ]
    },
    {
     "name": "stdout",
     "output_type": "stream",
     "text": [
      "nDCG:0.8174522635411616\n"
     ]
    }
   ],
   "source": [
    "y_pred_prob=lgbm.predict_proba(X_test)\n",
    "print('nDCG:' + str(score_predictions(y_pred_prob,y_test,lgbm).mean()))"
   ]
  },
  {
   "cell_type": "code",
   "execution_count": 19,
   "metadata": {
    "ExecuteTime": {
     "end_time": "2019-11-18T09:00:30.451386Z",
     "start_time": "2019-11-18T09:00:25.549196Z"
    }
   },
   "outputs": [],
   "source": [
    "y_pred_prob_1=lgbm.predict_proba(X_1)\n",
    "id_test = X_1.reset_index()['id']\n",
    "ids = []  #list of ids\n",
    "cts = []  #list of countries\n",
    "for i in range(len(id_test)):\n",
    "    idx = id_test[i]\n",
    "    ids += [idx] * 5\n",
    "    arr = [lgbm.classes_.tolist()[k] for k in np.argsort(y_pred_prob_1[i])[::-1]] \n",
    "    cts += arr[:5]\n",
    "\n",
    "#Generate submission\n",
    "sub = pd.DataFrame(np.column_stack((ids, cts)), columns=['id', 'country'])\n",
    "sub.to_csv('sub_lgbm.csv',index=False)"
   ]
  },
  {
   "cell_type": "code",
   "execution_count": 33,
   "metadata": {
    "ExecuteTime": {
     "end_time": "2019-11-18T09:09:07.350817Z",
     "start_time": "2019-11-18T09:09:07.342823Z"
    }
   },
   "outputs": [
    {
     "data": {
      "text/plain": [
       "['NDF', 'US', 'other', 'FR', 'IT']"
      ]
     },
     "execution_count": 33,
     "metadata": {},
     "output_type": "execute_result"
    }
   ],
   "source": [
    "[lgbm.classes_.tolist()[k] for k in np.argsort(y_pred_prob_1[879])[::-1]][:5]"
   ]
  },
  {
   "cell_type": "code",
   "execution_count": null,
   "metadata": {},
   "outputs": [],
   "source": []
  },
  {
   "cell_type": "code",
   "execution_count": null,
   "metadata": {},
   "outputs": [],
   "source": []
  },
  {
   "cell_type": "markdown",
   "metadata": {},
   "source": [
    "#### Cross validation"
   ]
  },
  {
   "cell_type": "code",
   "execution_count": 20,
   "metadata": {
    "ExecuteTime": {
     "end_time": "2019-11-18T09:00:30.459116Z",
     "start_time": "2019-11-18T09:00:30.451386Z"
    }
   },
   "outputs": [],
   "source": [
    "from sklearn.model_selection import KFold\n",
    "k=5\n",
    "kf=KFold(n_splits=k,shuffle=True,random_state=101)"
   ]
  },
  {
   "cell_type": "code",
   "execution_count": 21,
   "metadata": {
    "ExecuteTime": {
     "end_time": "2019-11-18T09:00:30.467119Z",
     "start_time": "2019-11-18T09:00:30.459116Z"
    }
   },
   "outputs": [],
   "source": [
    "from sklearn.metrics import accuracy_score"
   ]
  },
  {
   "cell_type": "code",
   "execution_count": 22,
   "metadata": {
    "ExecuteTime": {
     "end_time": "2019-11-18T09:00:30.495118Z",
     "start_time": "2019-11-18T09:00:30.471114Z"
    }
   },
   "outputs": [],
   "source": [
    "def calc_train_error(X_train,y_train,model):\n",
    "    preds=model.predict(X_train)\n",
    "    predictProba=model.predict_proba(X_train)\n",
    "    accuracy=accuracy_score(y_train,preds)\n",
    "    ndcg=score_predictions(predictProba,y_train,model).mean()\n",
    "    return {\n",
    "        'accuracy':accuracy,\n",
    "        'ndcg':ndcg\n",
    "    }\n",
    "\n",
    "def calc_validation_error(X_test,y_test,model):\n",
    "    preds=model.predict(X_test)\n",
    "    predictProba=model.predict_proba(X_test)\n",
    "    accuracy=accuracy_score(y_test,preds)\n",
    "    ndcg=score_predictions(predictProba,y_test,model).mean()\n",
    "    return {\n",
    "        'accuracy':accuracy,\n",
    "        'ndcg':ndcg\n",
    "    }\n",
    "\n",
    "def calc_metrics(X_train, y_train, X_test,y_test,model):\n",
    "    model.fit(X_train,y_train)\n",
    "    train_error=calc_train_error(X_train,y_train,model)\n",
    "    validation_error=calc_validation_error(X_test,y_test,model)\n",
    "    return train_error,validation_error"
   ]
  },
  {
   "cell_type": "code",
   "execution_count": 23,
   "metadata": {
    "ExecuteTime": {
     "end_time": "2019-11-18T09:05:58.423417Z",
     "start_time": "2019-11-18T09:00:30.495118Z"
    }
   },
   "outputs": [
    {
     "name": "stderr",
     "output_type": "stream",
     "text": [
      "C:\\Users\\Asyariati\\Anaconda3\\lib\\site-packages\\ipykernel_launcher.py:31: FutureWarning: The reduce argument is deprecated and will be removed in a future version. You can specify result_type='reduce' to try to reduce the result to the original dimensions\n"
     ]
    }
   ],
   "source": [
    "train_errors=[]\n",
    "validation_errors=[]\n",
    "for train_index,val_index in kf.split(X,y):\n",
    "    \n",
    "    X_train,X_val=X.iloc[train_index],X.iloc[val_index]\n",
    "    y_train,y_val=y.iloc[train_index],y.iloc[val_index]\n",
    "    \n",
    "    \n",
    "    train_error,val_error=calc_metrics(X_train,y_train,X_val,y_val,lgbm)\n",
    "    \n",
    "    train_errors.append(train_error)\n",
    "    validation_errors.append(val_error)"
   ]
  },
  {
   "cell_type": "code",
   "execution_count": 24,
   "metadata": {
    "ExecuteTime": {
     "end_time": "2019-11-18T09:05:58.455665Z",
     "start_time": "2019-11-18T09:05:58.423417Z"
    }
   },
   "outputs": [
    {
     "data": {
      "text/html": [
       "<div>\n",
       "<style scoped>\n",
       "    .dataframe tbody tr th:only-of-type {\n",
       "        vertical-align: middle;\n",
       "    }\n",
       "\n",
       "    .dataframe tbody tr th {\n",
       "        vertical-align: top;\n",
       "    }\n",
       "\n",
       "    .dataframe thead th {\n",
       "        text-align: right;\n",
       "    }\n",
       "</style>\n",
       "<table border=\"1\" class=\"dataframe\">\n",
       "  <thead>\n",
       "    <tr style=\"text-align: right;\">\n",
       "      <th></th>\n",
       "      <th>train_acc</th>\n",
       "      <th>val_acc</th>\n",
       "      <th>train_nDCG</th>\n",
       "      <th>val_nDCG</th>\n",
       "    </tr>\n",
       "  </thead>\n",
       "  <tbody>\n",
       "    <tr>\n",
       "      <th>Iterasi 1</th>\n",
       "      <td>0.627624</td>\n",
       "      <td>0.611511</td>\n",
       "      <td>0.833677</td>\n",
       "      <td>0.816649</td>\n",
       "    </tr>\n",
       "    <tr>\n",
       "      <th>Iterasi 2</th>\n",
       "      <td>0.626513</td>\n",
       "      <td>0.615273</td>\n",
       "      <td>0.833234</td>\n",
       "      <td>0.817615</td>\n",
       "    </tr>\n",
       "    <tr>\n",
       "      <th>Iterasi 3</th>\n",
       "      <td>0.627081</td>\n",
       "      <td>0.612579</td>\n",
       "      <td>0.833481</td>\n",
       "      <td>0.816600</td>\n",
       "    </tr>\n",
       "    <tr>\n",
       "      <th>Iterasi 4</th>\n",
       "      <td>0.625892</td>\n",
       "      <td>0.612462</td>\n",
       "      <td>0.833100</td>\n",
       "      <td>0.816703</td>\n",
       "    </tr>\n",
       "    <tr>\n",
       "      <th>Iterasi 5</th>\n",
       "      <td>0.625723</td>\n",
       "      <td>0.618927</td>\n",
       "      <td>0.832677</td>\n",
       "      <td>0.820839</td>\n",
       "    </tr>\n",
       "    <tr>\n",
       "      <th>Average</th>\n",
       "      <td>0.626567</td>\n",
       "      <td>0.614150</td>\n",
       "      <td>0.833234</td>\n",
       "      <td>0.817681</td>\n",
       "    </tr>\n",
       "    <tr>\n",
       "      <th>Deviation</th>\n",
       "      <td>0.000799</td>\n",
       "      <td>0.003015</td>\n",
       "      <td>0.000383</td>\n",
       "      <td>0.001814</td>\n",
       "    </tr>\n",
       "  </tbody>\n",
       "</table>\n",
       "</div>"
      ],
      "text/plain": [
       "           train_acc   val_acc  train_nDCG  val_nDCG\n",
       "Iterasi 1   0.627624  0.611511    0.833677  0.816649\n",
       "Iterasi 2   0.626513  0.615273    0.833234  0.817615\n",
       "Iterasi 3   0.627081  0.612579    0.833481  0.816600\n",
       "Iterasi 4   0.625892  0.612462    0.833100  0.816703\n",
       "Iterasi 5   0.625723  0.618927    0.832677  0.820839\n",
       "Average     0.626567  0.614150    0.833234  0.817681\n",
       "Deviation   0.000799  0.003015    0.000383  0.001814"
      ]
     },
     "execution_count": 24,
     "metadata": {},
     "output_type": "execute_result"
    }
   ],
   "source": [
    "iterasi=[]\n",
    "for i,j in zip(train_errors,validation_errors):\n",
    "    iterasi.append([i['accuracy'],j['accuracy'],i['ndcg'],j['ndcg']])\n",
    "\n",
    "index=['Iterasi {}'.format(i) for i in range(1,k+1,1)]\n",
    "col=['train_acc','val_acc','train_nDCG','val_nDCG']\n",
    "\n",
    "calc_matrix=pd.DataFrame(iterasi,index=index,columns=col)\n",
    "\n",
    "average=[]\n",
    "for i in calc_matrix.columns:\n",
    "    average.append(calc_matrix[i].mean())\n",
    "\n",
    "std=[]\n",
    "for i in calc_matrix.columns:\n",
    "    std.append(calc_matrix[i].std())\n",
    "\n",
    "calc_matrix.loc['Average']=average\n",
    "calc_matrix.loc['Deviation']=std\n",
    "calc_matrix"
   ]
  },
  {
   "cell_type": "markdown",
   "metadata": {},
   "source": [
    "#### Learning Curve"
   ]
  },
  {
   "cell_type": "code",
   "execution_count": 49,
   "metadata": {
    "ExecuteTime": {
     "end_time": "2019-11-18T04:56:06.768202Z",
     "start_time": "2019-11-18T04:55:38.947637Z"
    },
    "collapsed": true
   },
   "outputs": [
    {
     "name": "stderr",
     "output_type": "stream",
     "text": [
      "C:\\Users\\Asyariati\\Anaconda3\\lib\\site-packages\\ipykernel_launcher.py:31: FutureWarning: The reduce argument is deprecated and will be removed in a future version. You can specify result_type='reduce' to try to reduce the result to the original dimensions\n"
     ]
    },
    {
     "ename": "ValueError",
     "evalue": "For evaluating multiple scores, use sklearn.model_selection.cross_validate instead. 0         1.000000\n1         0.630930\n2         1.000000\n3         0.430677\n4         1.000000\n5         0.630930\n6         1.000000\n7         1.000000\n8         1.000000\n9         1.000000\n10        1.000000\n11        0.630930\n12        0.500000\n13        1.000000\n14        0.630930\n15        0.430677\n16        1.000000\n17        1.000000\n18        1.000000\n19        0.500000\n20        0.630930\n21        1.000000\n22        1.000000\n23        1.000000\n24        0.630930\n25        0.500000\n26        1.000000\n27        1.000000\n28        0.500000\n29        1.000000\n            ...   \n213421    1.000000\n213422    1.000000\n213423    1.000000\n213424    1.000000\n213425    1.000000\n213426    1.000000\n213427    1.000000\n213428    1.000000\n213429    1.000000\n213430    1.000000\n213431    1.000000\n213432    1.000000\n213433    1.000000\n213434    1.000000\n213435    1.000000\n213436    1.000000\n213437    1.000000\n213438    1.000000\n213439    0.630930\n213440    1.000000\n213441    0.386853\n213442    1.000000\n213443    1.000000\n213444    1.000000\n213445    0.630930\n213446    1.000000\n213447    1.000000\n213448    1.000000\n213449    1.000000\n213450    1.000000\nName: score, Length: 213451, dtype: float64 was passed.",
     "output_type": "error",
     "traceback": [
      "\u001b[1;31m---------------------------------------------------------------------------\u001b[0m",
      "\u001b[1;31mValueError\u001b[0m                                Traceback (most recent call last)",
      "\u001b[1;32m<ipython-input-49-ce10b5bce218>\u001b[0m in \u001b[0;36m<module>\u001b[1;34m\u001b[0m\n\u001b[0;32m      6\u001b[0m                                                        \u001b[0mtrain_sizes\u001b[0m\u001b[1;33m=\u001b[0m\u001b[0mnp\u001b[0m\u001b[1;33m.\u001b[0m\u001b[0mlinspace\u001b[0m\u001b[1;33m(\u001b[0m\u001b[1;36m0.5\u001b[0m\u001b[1;33m,\u001b[0m \u001b[1;36m1.0\u001b[0m\u001b[1;33m,\u001b[0m \u001b[1;36m5\u001b[0m\u001b[1;33m)\u001b[0m\u001b[1;33m,\u001b[0m\u001b[1;33m\u001b[0m\u001b[1;33m\u001b[0m\u001b[0m\n\u001b[0;32m      7\u001b[0m                                                        \u001b[0mscoring\u001b[0m\u001b[1;33m=\u001b[0m\u001b[0mscore_predictions\u001b[0m\u001b[1;33m(\u001b[0m\u001b[0mlgbm\u001b[0m\u001b[1;33m.\u001b[0m\u001b[0mpredict_proba\u001b[0m\u001b[1;33m(\u001b[0m\u001b[0mX\u001b[0m\u001b[1;33m)\u001b[0m\u001b[1;33m,\u001b[0m\u001b[0my\u001b[0m\u001b[1;33m,\u001b[0m\u001b[0mlgbm\u001b[0m\u001b[1;33m)\u001b[0m\u001b[1;33m,\u001b[0m\u001b[1;33m\u001b[0m\u001b[1;33m\u001b[0m\u001b[0m\n\u001b[1;32m----> 8\u001b[1;33m                                                        cv=5)\n\u001b[0m\u001b[0;32m      9\u001b[0m \u001b[1;31m# Mean value of accuracy against training data\u001b[0m\u001b[1;33m\u001b[0m\u001b[1;33m\u001b[0m\u001b[1;33m\u001b[0m\u001b[0m\n\u001b[0;32m     10\u001b[0m \u001b[0mtrain_mean\u001b[0m \u001b[1;33m=\u001b[0m \u001b[0mnp\u001b[0m\u001b[1;33m.\u001b[0m\u001b[0mmean\u001b[0m\u001b[1;33m(\u001b[0m\u001b[0mtrain_scores\u001b[0m\u001b[1;33m,\u001b[0m \u001b[0maxis\u001b[0m\u001b[1;33m=\u001b[0m\u001b[1;36m1\u001b[0m\u001b[1;33m)\u001b[0m\u001b[1;33m\u001b[0m\u001b[1;33m\u001b[0m\u001b[0m\n",
      "\u001b[1;32m~\\Anaconda3\\lib\\site-packages\\sklearn\\model_selection\\_validation.py\u001b[0m in \u001b[0;36mlearning_curve\u001b[1;34m(estimator, X, y, groups, train_sizes, cv, scoring, exploit_incremental_learning, n_jobs, pre_dispatch, verbose, shuffle, random_state, error_score)\u001b[0m\n\u001b[0;32m   1250\u001b[0m     \u001b[0mcv_iter\u001b[0m \u001b[1;33m=\u001b[0m \u001b[0mlist\u001b[0m\u001b[1;33m(\u001b[0m\u001b[0mcv\u001b[0m\u001b[1;33m.\u001b[0m\u001b[0msplit\u001b[0m\u001b[1;33m(\u001b[0m\u001b[0mX\u001b[0m\u001b[1;33m,\u001b[0m \u001b[0my\u001b[0m\u001b[1;33m,\u001b[0m \u001b[0mgroups\u001b[0m\u001b[1;33m)\u001b[0m\u001b[1;33m)\u001b[0m\u001b[1;33m\u001b[0m\u001b[1;33m\u001b[0m\u001b[0m\n\u001b[0;32m   1251\u001b[0m \u001b[1;33m\u001b[0m\u001b[0m\n\u001b[1;32m-> 1252\u001b[1;33m     \u001b[0mscorer\u001b[0m \u001b[1;33m=\u001b[0m \u001b[0mcheck_scoring\u001b[0m\u001b[1;33m(\u001b[0m\u001b[0mestimator\u001b[0m\u001b[1;33m,\u001b[0m \u001b[0mscoring\u001b[0m\u001b[1;33m=\u001b[0m\u001b[0mscoring\u001b[0m\u001b[1;33m)\u001b[0m\u001b[1;33m\u001b[0m\u001b[1;33m\u001b[0m\u001b[0m\n\u001b[0m\u001b[0;32m   1253\u001b[0m \u001b[1;33m\u001b[0m\u001b[0m\n\u001b[0;32m   1254\u001b[0m     \u001b[0mn_max_training_samples\u001b[0m \u001b[1;33m=\u001b[0m \u001b[0mlen\u001b[0m\u001b[1;33m(\u001b[0m\u001b[0mcv_iter\u001b[0m\u001b[1;33m[\u001b[0m\u001b[1;36m0\u001b[0m\u001b[1;33m]\u001b[0m\u001b[1;33m[\u001b[0m\u001b[1;36m0\u001b[0m\u001b[1;33m]\u001b[0m\u001b[1;33m)\u001b[0m\u001b[1;33m\u001b[0m\u001b[1;33m\u001b[0m\u001b[0m\n",
      "\u001b[1;32m~\\Anaconda3\\lib\\site-packages\\sklearn\\metrics\\scorer.py\u001b[0m in \u001b[0;36mcheck_scoring\u001b[1;34m(estimator, scoring, allow_none)\u001b[0m\n\u001b[0;32m    297\u001b[0m         raise ValueError(\"For evaluating multiple scores, use \"\n\u001b[0;32m    298\u001b[0m                          \u001b[1;34m\"sklearn.model_selection.cross_validate instead. \"\u001b[0m\u001b[1;33m\u001b[0m\u001b[1;33m\u001b[0m\u001b[0m\n\u001b[1;32m--> 299\u001b[1;33m                          \"{0} was passed.\".format(scoring))\n\u001b[0m\u001b[0;32m    300\u001b[0m     \u001b[1;32melse\u001b[0m\u001b[1;33m:\u001b[0m\u001b[1;33m\u001b[0m\u001b[1;33m\u001b[0m\u001b[0m\n\u001b[0;32m    301\u001b[0m         raise ValueError(\"scoring value should either be a callable, string or\"\n",
      "\u001b[1;31mValueError\u001b[0m: For evaluating multiple scores, use sklearn.model_selection.cross_validate instead. 0         1.000000\n1         0.630930\n2         1.000000\n3         0.430677\n4         1.000000\n5         0.630930\n6         1.000000\n7         1.000000\n8         1.000000\n9         1.000000\n10        1.000000\n11        0.630930\n12        0.500000\n13        1.000000\n14        0.630930\n15        0.430677\n16        1.000000\n17        1.000000\n18        1.000000\n19        0.500000\n20        0.630930\n21        1.000000\n22        1.000000\n23        1.000000\n24        0.630930\n25        0.500000\n26        1.000000\n27        1.000000\n28        0.500000\n29        1.000000\n            ...   \n213421    1.000000\n213422    1.000000\n213423    1.000000\n213424    1.000000\n213425    1.000000\n213426    1.000000\n213427    1.000000\n213428    1.000000\n213429    1.000000\n213430    1.000000\n213431    1.000000\n213432    1.000000\n213433    1.000000\n213434    1.000000\n213435    1.000000\n213436    1.000000\n213437    1.000000\n213438    1.000000\n213439    0.630930\n213440    1.000000\n213441    0.386853\n213442    1.000000\n213443    1.000000\n213444    1.000000\n213445    0.630930\n213446    1.000000\n213447    1.000000\n213448    1.000000\n213449    1.000000\n213450    1.000000\nName: score, Length: 213451, dtype: float64 was passed."
     ]
    }
   ],
   "source": [
    "from sklearn.model_selection import learning_curve\n",
    "\n",
    "train_sizes, train_scores, test_scores = learning_curve(estimator=lgbm,\n",
    "                                                       X=X,\n",
    "                                                       y=y,\n",
    "                                                       train_sizes=np.linspace(0.5, 1.0, 5),\n",
    "                                                       cv=5)\n",
    "# Mean value of accuracy against training data\n",
    "train_mean = np.mean(train_scores, axis=1)\n",
    "\n",
    "# Standard deviation of training accuracy per number of training samples\n",
    "train_std = np.std(train_scores, axis=1)\n",
    "\n",
    "# Same as above for test data\n",
    "test_mean = np.mean(test_scores, axis=1)\n",
    "test_std = np.std(test_scores, axis=1)\n",
    "\n",
    "# Plot training accuracies \n",
    "plt.plot(train_sizes, train_mean, color='red', marker='o', label='Training Accuracy')\n",
    "# Plot the variance of training accuracies\n",
    "plt.fill_between(train_sizes,\n",
    "                train_mean + train_std,\n",
    "                train_mean - train_std,\n",
    "                alpha=0.15, color='red')\n",
    "\n",
    "# Plot for test data as training data\n",
    "plt.plot(train_sizes, test_mean, color='blue', linestyle='--', marker='s', \n",
    "        label='Test Accuracy')\n",
    "plt.fill_between(train_sizes,\n",
    "                test_mean + test_std,\n",
    "                test_mean - test_std,\n",
    "                alpha=0.15, color='blue')\n",
    "\n",
    "plt.xlabel('Number of training samples')\n",
    "plt.ylabel('Accuracy')\n",
    "plt.legend()\n",
    "plt.show()"
   ]
  },
  {
   "cell_type": "code",
   "execution_count": 34,
   "metadata": {
    "ExecuteTime": {
     "end_time": "2019-11-18T09:20:02.180055Z",
     "start_time": "2019-11-18T09:20:01.897506Z"
    }
   },
   "outputs": [],
   "source": [
    "import pickle\n",
    "pickle.dump(lgbm,open('airbnb_recom.sav','wb'))"
   ]
  },
  {
   "cell_type": "code",
   "execution_count": 37,
   "metadata": {
    "ExecuteTime": {
     "end_time": "2019-11-18T09:31:39.428766Z",
     "start_time": "2019-11-18T09:31:39.364766Z"
    }
   },
   "outputs": [],
   "source": [
    "loadModel = pickle.load(open('airbnb_recom.sav', 'rb'))"
   ]
  },
  {
   "cell_type": "code",
   "execution_count": 44,
   "metadata": {
    "ExecuteTime": {
     "end_time": "2019-11-18T09:33:24.680632Z",
     "start_time": "2019-11-18T09:33:24.672600Z"
    }
   },
   "outputs": [
    {
     "data": {
      "text/plain": [
       "array(['AU', 'CA', 'DE', 'ES', 'FR', 'GB', 'IT', 'NDF', 'NL', 'PT', 'US',\n",
       "       'other'], dtype=object)"
      ]
     },
     "execution_count": 44,
     "metadata": {},
     "output_type": "execute_result"
    }
   ],
   "source": [
    "loadModel.classes_"
   ]
  },
  {
   "cell_type": "code",
   "execution_count": 49,
   "metadata": {
    "ExecuteTime": {
     "end_time": "2019-11-18T09:35:22.911137Z",
     "start_time": "2019-11-18T09:35:22.903136Z"
    }
   },
   "outputs": [],
   "source": [
    "pred_probs=loadModel.predict_proba(np.array(X_1.iloc[0,:]).reshape(1,-1))"
   ]
  },
  {
   "cell_type": "code",
   "execution_count": 51,
   "metadata": {
    "ExecuteTime": {
     "end_time": "2019-11-18T09:35:45.544941Z",
     "start_time": "2019-11-18T09:35:45.532939Z"
    }
   },
   "outputs": [
    {
     "data": {
      "text/plain": [
       "array([[7.51912927e-03, 3.98774834e-03, 3.39952587e-03, 6.32360585e-03,\n",
       "        2.03623580e-02, 8.73350310e-03, 2.90903791e-02, 5.43140085e-01,\n",
       "        1.68074039e-03, 1.15653068e-04, 3.23871953e-01, 5.17753187e-02]])"
      ]
     },
     "execution_count": 51,
     "metadata": {},
     "output_type": "execute_result"
    }
   ],
   "source": [
    "pred_probs"
   ]
  },
  {
   "cell_type": "code",
   "execution_count": 60,
   "metadata": {
    "ExecuteTime": {
     "end_time": "2019-11-18T09:51:31.890177Z",
     "start_time": "2019-11-18T09:51:31.312489Z"
    }
   },
   "outputs": [],
   "source": [
    "iseng=pd.read_csv('test_set.csv')"
   ]
  },
  {
   "cell_type": "code",
   "execution_count": 64,
   "metadata": {
    "ExecuteTime": {
     "end_time": "2019-11-18T09:52:22.302086Z",
     "start_time": "2019-11-18T09:52:22.282082Z"
    }
   },
   "outputs": [],
   "source": [
    "iseng=iseng.set_index('id')"
   ]
  },
  {
   "cell_type": "code",
   "execution_count": 65,
   "metadata": {
    "ExecuteTime": {
     "end_time": "2019-11-18T09:52:32.672220Z",
     "start_time": "2019-11-18T09:52:32.632252Z"
    }
   },
   "outputs": [
    {
     "data": {
      "text/html": [
       "<div>\n",
       "<style scoped>\n",
       "    .dataframe tbody tr th:only-of-type {\n",
       "        vertical-align: middle;\n",
       "    }\n",
       "\n",
       "    .dataframe tbody tr th {\n",
       "        vertical-align: top;\n",
       "    }\n",
       "\n",
       "    .dataframe thead th {\n",
       "        text-align: right;\n",
       "    }\n",
       "</style>\n",
       "<table border=\"1\" class=\"dataframe\">\n",
       "  <thead>\n",
       "    <tr style=\"text-align: right;\">\n",
       "      <th></th>\n",
       "      <th>age_group</th>\n",
       "      <th>day_account_created</th>\n",
       "      <th>weekday_account_created</th>\n",
       "      <th>week_account_created</th>\n",
       "      <th>month_account_created</th>\n",
       "      <th>year_account_created</th>\n",
       "      <th>day_first_active</th>\n",
       "      <th>weekday_first_active</th>\n",
       "      <th>week_first_active</th>\n",
       "      <th>month_first_active</th>\n",
       "      <th>...</th>\n",
       "      <th>secs_elapsed_mean</th>\n",
       "      <th>secs_elapsed_min</th>\n",
       "      <th>secs_elapsed_max</th>\n",
       "      <th>secs_elapsed_median</th>\n",
       "      <th>secs_elapsed_std</th>\n",
       "      <th>secs_elapsed_var</th>\n",
       "      <th>day_pauses</th>\n",
       "      <th>long_pauses</th>\n",
       "      <th>short_pauses</th>\n",
       "      <th>session_length</th>\n",
       "    </tr>\n",
       "    <tr>\n",
       "      <th>id</th>\n",
       "      <th></th>\n",
       "      <th></th>\n",
       "      <th></th>\n",
       "      <th></th>\n",
       "      <th></th>\n",
       "      <th></th>\n",
       "      <th></th>\n",
       "      <th></th>\n",
       "      <th></th>\n",
       "      <th></th>\n",
       "      <th></th>\n",
       "      <th></th>\n",
       "      <th></th>\n",
       "      <th></th>\n",
       "      <th></th>\n",
       "      <th></th>\n",
       "      <th></th>\n",
       "      <th></th>\n",
       "      <th></th>\n",
       "      <th></th>\n",
       "      <th></th>\n",
       "    </tr>\n",
       "  </thead>\n",
       "  <tbody>\n",
       "    <tr>\n",
       "      <th>5uwns89zht</th>\n",
       "      <td>4</td>\n",
       "      <td>1</td>\n",
       "      <td>1</td>\n",
       "      <td>27</td>\n",
       "      <td>7</td>\n",
       "      <td>2014</td>\n",
       "      <td>1</td>\n",
       "      <td>1</td>\n",
       "      <td>27</td>\n",
       "      <td>7</td>\n",
       "      <td>...</td>\n",
       "      <td>17026.714286</td>\n",
       "      <td>79.0</td>\n",
       "      <td>64883.0</td>\n",
       "      <td>2940.0</td>\n",
       "      <td>24104.681093</td>\n",
       "      <td>5.810357e+08</td>\n",
       "      <td>0.0</td>\n",
       "      <td>0.0</td>\n",
       "      <td>4.0</td>\n",
       "      <td>8.0</td>\n",
       "    </tr>\n",
       "    <tr>\n",
       "      <th>jtl0dijy2j</th>\n",
       "      <td>0</td>\n",
       "      <td>1</td>\n",
       "      <td>1</td>\n",
       "      <td>27</td>\n",
       "      <td>7</td>\n",
       "      <td>2014</td>\n",
       "      <td>1</td>\n",
       "      <td>1</td>\n",
       "      <td>27</td>\n",
       "      <td>7</td>\n",
       "      <td>...</td>\n",
       "      <td>13895.500000</td>\n",
       "      <td>95.0</td>\n",
       "      <td>61881.0</td>\n",
       "      <td>3342.5</td>\n",
       "      <td>18953.220183</td>\n",
       "      <td>3.592246e+08</td>\n",
       "      <td>0.0</td>\n",
       "      <td>0.0</td>\n",
       "      <td>10.0</td>\n",
       "      <td>19.0</td>\n",
       "    </tr>\n",
       "    <tr>\n",
       "      <th>xx0ulgorjt</th>\n",
       "      <td>0</td>\n",
       "      <td>1</td>\n",
       "      <td>1</td>\n",
       "      <td>27</td>\n",
       "      <td>7</td>\n",
       "      <td>2014</td>\n",
       "      <td>1</td>\n",
       "      <td>1</td>\n",
       "      <td>27</td>\n",
       "      <td>7</td>\n",
       "      <td>...</td>\n",
       "      <td>17115.350877</td>\n",
       "      <td>280.0</td>\n",
       "      <td>270618.0</td>\n",
       "      <td>10758.0</td>\n",
       "      <td>37259.885170</td>\n",
       "      <td>1.388299e+09</td>\n",
       "      <td>1.0</td>\n",
       "      <td>0.0</td>\n",
       "      <td>24.0</td>\n",
       "      <td>58.0</td>\n",
       "    </tr>\n",
       "    <tr>\n",
       "      <th>6c6puo6ix0</th>\n",
       "      <td>0</td>\n",
       "      <td>1</td>\n",
       "      <td>1</td>\n",
       "      <td>27</td>\n",
       "      <td>7</td>\n",
       "      <td>2014</td>\n",
       "      <td>1</td>\n",
       "      <td>1</td>\n",
       "      <td>27</td>\n",
       "      <td>7</td>\n",
       "      <td>...</td>\n",
       "      <td>12300.100000</td>\n",
       "      <td>5.0</td>\n",
       "      <td>106481.0</td>\n",
       "      <td>233.5</td>\n",
       "      <td>33347.363329</td>\n",
       "      <td>1.112047e+09</td>\n",
       "      <td>1.0</td>\n",
       "      <td>0.0</td>\n",
       "      <td>8.0</td>\n",
       "      <td>11.0</td>\n",
       "    </tr>\n",
       "    <tr>\n",
       "      <th>czqhjk3yfe</th>\n",
       "      <td>0</td>\n",
       "      <td>1</td>\n",
       "      <td>1</td>\n",
       "      <td>27</td>\n",
       "      <td>7</td>\n",
       "      <td>2014</td>\n",
       "      <td>1</td>\n",
       "      <td>1</td>\n",
       "      <td>27</td>\n",
       "      <td>7</td>\n",
       "      <td>...</td>\n",
       "      <td>25223.500000</td>\n",
       "      <td>0.0</td>\n",
       "      <td>219369.0</td>\n",
       "      <td>1170.0</td>\n",
       "      <td>56569.579369</td>\n",
       "      <td>3.200117e+09</td>\n",
       "      <td>2.0</td>\n",
       "      <td>0.0</td>\n",
       "      <td>12.0</td>\n",
       "      <td>18.0</td>\n",
       "    </tr>\n",
       "  </tbody>\n",
       "</table>\n",
       "<p>5 rows × 48 columns</p>\n",
       "</div>"
      ],
      "text/plain": [
       "            age_group  day_account_created  weekday_account_created  \\\n",
       "id                                                                    \n",
       "5uwns89zht          4                    1                        1   \n",
       "jtl0dijy2j          0                    1                        1   \n",
       "xx0ulgorjt          0                    1                        1   \n",
       "6c6puo6ix0          0                    1                        1   \n",
       "czqhjk3yfe          0                    1                        1   \n",
       "\n",
       "            week_account_created  month_account_created  year_account_created  \\\n",
       "id                                                                              \n",
       "5uwns89zht                    27                      7                  2014   \n",
       "jtl0dijy2j                    27                      7                  2014   \n",
       "xx0ulgorjt                    27                      7                  2014   \n",
       "6c6puo6ix0                    27                      7                  2014   \n",
       "czqhjk3yfe                    27                      7                  2014   \n",
       "\n",
       "            day_first_active  weekday_first_active  week_first_active  \\\n",
       "id                                                                      \n",
       "5uwns89zht                 1                     1                 27   \n",
       "jtl0dijy2j                 1                     1                 27   \n",
       "xx0ulgorjt                 1                     1                 27   \n",
       "6c6puo6ix0                 1                     1                 27   \n",
       "czqhjk3yfe                 1                     1                 27   \n",
       "\n",
       "            month_first_active  ...  secs_elapsed_mean  secs_elapsed_min  \\\n",
       "id                              ...                                        \n",
       "5uwns89zht                   7  ...       17026.714286              79.0   \n",
       "jtl0dijy2j                   7  ...       13895.500000              95.0   \n",
       "xx0ulgorjt                   7  ...       17115.350877             280.0   \n",
       "6c6puo6ix0                   7  ...       12300.100000               5.0   \n",
       "czqhjk3yfe                   7  ...       25223.500000               0.0   \n",
       "\n",
       "            secs_elapsed_max  secs_elapsed_median  secs_elapsed_std  \\\n",
       "id                                                                    \n",
       "5uwns89zht           64883.0               2940.0      24104.681093   \n",
       "jtl0dijy2j           61881.0               3342.5      18953.220183   \n",
       "xx0ulgorjt          270618.0              10758.0      37259.885170   \n",
       "6c6puo6ix0          106481.0                233.5      33347.363329   \n",
       "czqhjk3yfe          219369.0               1170.0      56569.579369   \n",
       "\n",
       "            secs_elapsed_var  day_pauses  long_pauses  short_pauses  \\\n",
       "id                                                                    \n",
       "5uwns89zht      5.810357e+08         0.0          0.0           4.0   \n",
       "jtl0dijy2j      3.592246e+08         0.0          0.0          10.0   \n",
       "xx0ulgorjt      1.388299e+09         1.0          0.0          24.0   \n",
       "6c6puo6ix0      1.112047e+09         1.0          0.0           8.0   \n",
       "czqhjk3yfe      3.200117e+09         2.0          0.0          12.0   \n",
       "\n",
       "            session_length  \n",
       "id                          \n",
       "5uwns89zht             8.0  \n",
       "jtl0dijy2j            19.0  \n",
       "xx0ulgorjt            58.0  \n",
       "6c6puo6ix0            11.0  \n",
       "czqhjk3yfe            18.0  \n",
       "\n",
       "[5 rows x 48 columns]"
      ]
     },
     "execution_count": 65,
     "metadata": {},
     "output_type": "execute_result"
    }
   ],
   "source": [
    "iseng.head()"
   ]
  },
  {
   "cell_type": "code",
   "execution_count": 66,
   "metadata": {
    "ExecuteTime": {
     "end_time": "2019-11-18T09:52:40.538079Z",
     "start_time": "2019-11-18T09:52:40.494074Z"
    }
   },
   "outputs": [
    {
     "data": {
      "text/html": [
       "<div>\n",
       "<style scoped>\n",
       "    .dataframe tbody tr th:only-of-type {\n",
       "        vertical-align: middle;\n",
       "    }\n",
       "\n",
       "    .dataframe tbody tr th {\n",
       "        vertical-align: top;\n",
       "    }\n",
       "\n",
       "    .dataframe thead th {\n",
       "        text-align: right;\n",
       "    }\n",
       "</style>\n",
       "<table border=\"1\" class=\"dataframe\">\n",
       "  <thead>\n",
       "    <tr style=\"text-align: right;\">\n",
       "      <th></th>\n",
       "      <th>age_group</th>\n",
       "      <th>day_account_created</th>\n",
       "      <th>weekday_account_created</th>\n",
       "      <th>week_account_created</th>\n",
       "      <th>month_account_created</th>\n",
       "      <th>year_account_created</th>\n",
       "      <th>day_first_active</th>\n",
       "      <th>weekday_first_active</th>\n",
       "      <th>week_first_active</th>\n",
       "      <th>month_first_active</th>\n",
       "      <th>...</th>\n",
       "      <th>secs_elapsed_mean</th>\n",
       "      <th>secs_elapsed_min</th>\n",
       "      <th>secs_elapsed_max</th>\n",
       "      <th>secs_elapsed_median</th>\n",
       "      <th>secs_elapsed_std</th>\n",
       "      <th>secs_elapsed_var</th>\n",
       "      <th>day_pauses</th>\n",
       "      <th>long_pauses</th>\n",
       "      <th>short_pauses</th>\n",
       "      <th>session_length</th>\n",
       "    </tr>\n",
       "    <tr>\n",
       "      <th>id</th>\n",
       "      <th></th>\n",
       "      <th></th>\n",
       "      <th></th>\n",
       "      <th></th>\n",
       "      <th></th>\n",
       "      <th></th>\n",
       "      <th></th>\n",
       "      <th></th>\n",
       "      <th></th>\n",
       "      <th></th>\n",
       "      <th></th>\n",
       "      <th></th>\n",
       "      <th></th>\n",
       "      <th></th>\n",
       "      <th></th>\n",
       "      <th></th>\n",
       "      <th></th>\n",
       "      <th></th>\n",
       "      <th></th>\n",
       "      <th></th>\n",
       "      <th></th>\n",
       "    </tr>\n",
       "  </thead>\n",
       "  <tbody>\n",
       "    <tr>\n",
       "      <th>5uwns89zht</th>\n",
       "      <td>4</td>\n",
       "      <td>1</td>\n",
       "      <td>1</td>\n",
       "      <td>27</td>\n",
       "      <td>7</td>\n",
       "      <td>2014</td>\n",
       "      <td>1</td>\n",
       "      <td>1</td>\n",
       "      <td>27</td>\n",
       "      <td>7</td>\n",
       "      <td>...</td>\n",
       "      <td>17026.714286</td>\n",
       "      <td>79.0</td>\n",
       "      <td>64883.0</td>\n",
       "      <td>2940.0</td>\n",
       "      <td>24104.681093</td>\n",
       "      <td>5.810357e+08</td>\n",
       "      <td>0.0</td>\n",
       "      <td>0.0</td>\n",
       "      <td>4.0</td>\n",
       "      <td>8.0</td>\n",
       "    </tr>\n",
       "  </tbody>\n",
       "</table>\n",
       "<p>1 rows × 48 columns</p>\n",
       "</div>"
      ],
      "text/plain": [
       "            age_group  day_account_created  weekday_account_created  \\\n",
       "id                                                                    \n",
       "5uwns89zht          4                    1                        1   \n",
       "\n",
       "            week_account_created  month_account_created  year_account_created  \\\n",
       "id                                                                              \n",
       "5uwns89zht                    27                      7                  2014   \n",
       "\n",
       "            day_first_active  weekday_first_active  week_first_active  \\\n",
       "id                                                                      \n",
       "5uwns89zht                 1                     1                 27   \n",
       "\n",
       "            month_first_active  ...  secs_elapsed_mean  secs_elapsed_min  \\\n",
       "id                              ...                                        \n",
       "5uwns89zht                   7  ...       17026.714286              79.0   \n",
       "\n",
       "            secs_elapsed_max  secs_elapsed_median  secs_elapsed_std  \\\n",
       "id                                                                    \n",
       "5uwns89zht           64883.0               2940.0      24104.681093   \n",
       "\n",
       "            secs_elapsed_var  day_pauses  long_pauses  short_pauses  \\\n",
       "id                                                                    \n",
       "5uwns89zht      5.810357e+08         0.0          0.0           4.0   \n",
       "\n",
       "            session_length  \n",
       "id                          \n",
       "5uwns89zht             8.0  \n",
       "\n",
       "[1 rows x 48 columns]"
      ]
     },
     "execution_count": 66,
     "metadata": {},
     "output_type": "execute_result"
    }
   ],
   "source": [
    "iseng[iseng.index=='5uwns89zht']"
   ]
  },
  {
   "cell_type": "code",
   "execution_count": 71,
   "metadata": {
    "ExecuteTime": {
     "end_time": "2019-11-18T09:57:05.443957Z",
     "start_time": "2019-11-18T09:57:05.419959Z"
    }
   },
   "outputs": [
    {
     "data": {
      "text/plain": [
       "array([[7.51912927e-03, 3.98774834e-03, 3.39952587e-03, 6.32360585e-03,\n",
       "        2.03623580e-02, 8.73350310e-03, 2.90903791e-02, 5.43140085e-01,\n",
       "        1.68074039e-03, 1.15653068e-04, 3.23871953e-01, 5.17753187e-02]])"
      ]
     },
     "execution_count": 71,
     "metadata": {},
     "output_type": "execute_result"
    }
   ],
   "source": [
    "loadModel.predict_proba(np.array(iseng[iseng.index=='5uwns89zht'])).reshape(1,-1)"
   ]
  },
  {
   "cell_type": "code",
   "execution_count": 55,
   "metadata": {
    "ExecuteTime": {
     "end_time": "2019-11-18T09:39:43.872777Z",
     "start_time": "2019-11-18T09:39:43.864781Z"
    }
   },
   "outputs": [
    {
     "data": {
      "text/plain": [
       "['NDF', 'US', 'other', 'IT', 'FR']"
      ]
     },
     "execution_count": 55,
     "metadata": {},
     "output_type": "execute_result"
    }
   ],
   "source": [
    "[loadModel.classes_.tolist()[k] for k in np.argsort(pred_probs[0])[::-1]][:5]"
   ]
  },
  {
   "cell_type": "code",
   "execution_count": 46,
   "metadata": {
    "ExecuteTime": {
     "end_time": "2019-11-18T09:34:21.091062Z",
     "start_time": "2019-11-18T09:34:21.083070Z"
    }
   },
   "outputs": [
    {
     "data": {
      "text/plain": [
       "['NDF', 'US', 'other', 'FR', 'IT']"
      ]
     },
     "execution_count": 46,
     "metadata": {},
     "output_type": "execute_result"
    }
   ],
   "source": [
    "[lgbm.classes_.tolist()[k] for k in np.argsort(y_pred_prob_1[0])[::-1]][:5]"
   ]
  },
  {
   "cell_type": "code",
   "execution_count": null,
   "metadata": {},
   "outputs": [],
   "source": []
  },
  {
   "cell_type": "code",
   "execution_count": null,
   "metadata": {},
   "outputs": [],
   "source": []
  },
  {
   "cell_type": "markdown",
   "metadata": {},
   "source": [
    "#### Optimization"
   ]
  },
  {
   "cell_type": "raw",
   "metadata": {
    "ExecuteTime": {
     "end_time": "2019-11-17T09:20:32.663202Z",
     "start_time": "2019-11-17T09:20:32.659200Z"
    }
   },
   "source": [
    "from lightgbm import LGBMClassifier\n",
    "\n",
    "lgbm=LGBMClassifier(objective='multiclass',random_state=101)"
   ]
  },
  {
   "cell_type": "raw",
   "metadata": {
    "ExecuteTime": {
     "end_time": "2019-11-17T09:34:43.619459Z",
     "start_time": "2019-11-17T09:34:43.611459Z"
    }
   },
   "source": [
    "from sklearn.model_selection import GridSearchCV\n",
    "\n",
    "param_grid= {'learning_rate':[.1,.2,.3,.4],\n",
    "            'num_leaves':[31,46,63,91],\n",
    "            'n_estimators':[100,200,300,400]}\n",
    "\n",
    "searcher=GridSearchCV(estimator=lgbm,\n",
    "                         param_grid=param_grid,\n",
    "                         n_jobs=2,\n",
    "                         scoring='f1_weighted',verbose=2,\n",
    "                         cv=3)"
   ]
  },
  {
   "cell_type": "raw",
   "metadata": {
    "ExecuteTime": {
     "start_time": "2019-11-17T09:34:47.931Z"
    }
   },
   "source": [
    "searcher.fit(X_train,y_train)"
   ]
  },
  {
   "cell_type": "raw",
   "metadata": {},
   "source": [
    "y_conv = [searcher.best_estimator_.classes_.tolist().index(k) for k in y_test.tolist()]\n",
    "y_pred_prob=searcher.best_estimator_.predict_proba(X_test)\n",
    "print('nDCG:' + str(ndcg_score(y_conv,y_pred_prob)))\n",
    "model_perf['lgbm_opt','nDCG'] = ndcg_score(y_conv,y_pred_prob)"
   ]
  },
  {
   "cell_type": "code",
   "execution_count": null,
   "metadata": {},
   "outputs": [],
   "source": []
  },
  {
   "cell_type": "markdown",
   "metadata": {},
   "source": [
    "#### Pred satuan"
   ]
  },
  {
   "cell_type": "code",
   "execution_count": 24,
   "metadata": {
    "ExecuteTime": {
     "end_time": "2019-11-18T04:09:43.304763Z",
     "start_time": "2019-11-18T04:09:43.278764Z"
    }
   },
   "outputs": [],
   "source": [
    "pred_probs=lgbm.predict_proba(X_1[X_1.index=='6c6puo6ix0'])"
   ]
  },
  {
   "cell_type": "code",
   "execution_count": 25,
   "metadata": {
    "ExecuteTime": {
     "end_time": "2019-11-18T04:09:43.314764Z",
     "start_time": "2019-11-18T04:09:43.308766Z"
    }
   },
   "outputs": [
    {
     "data": {
      "text/plain": [
       "array([[2.35816895e-04, 1.25033273e-03, 1.00533716e-03, 1.74250222e-03,\n",
       "        4.32770008e-03, 2.31312895e-03, 2.81643666e-03, 9.20452374e-01,\n",
       "        6.98052255e-04, 1.21623087e-04, 5.31564209e-02, 1.18802754e-02]])"
      ]
     },
     "execution_count": 25,
     "metadata": {},
     "output_type": "execute_result"
    }
   ],
   "source": [
    "pred_probs"
   ]
  },
  {
   "cell_type": "code",
   "execution_count": 26,
   "metadata": {
    "ExecuteTime": {
     "end_time": "2019-11-18T04:09:43.330765Z",
     "start_time": "2019-11-18T04:09:43.318764Z"
    }
   },
   "outputs": [
    {
     "data": {
      "text/plain": [
       "['NDF', 'US', 'other', 'FR', 'IT']"
      ]
     },
     "execution_count": 26,
     "metadata": {},
     "output_type": "execute_result"
    }
   ],
   "source": [
    "[lgbm.classes_.tolist()[i] for i in np.argsort(pred_probs)[0][::-1]][:5]"
   ]
  },
  {
   "cell_type": "markdown",
   "metadata": {},
   "source": [
    "### Detail nDCG"
   ]
  },
  {
   "cell_type": "code",
   "execution_count": 27,
   "metadata": {
    "ExecuteTime": {
     "end_time": "2019-11-18T04:09:43.350766Z",
     "start_time": "2019-11-18T04:09:43.333770Z"
    }
   },
   "outputs": [],
   "source": [
    "import numpy as np\n",
    "import pandas as pd\n",
    "\n",
    "def dcg_at_k(r, k, method=1):\n",
    "    r = np.asfarray(r)[:k]\n",
    "    return np.sum(r / np.log2(np.arange(2, len(r) + 2)))\n",
    "\n",
    "\n",
    "def ndcg_at_k(r, k=5, method=1):\n",
    "    dcg_max = dcg_at_k(sorted(r, reverse=True), k, method)\n",
    "    return dcg_at_k(r, k, method) / dcg_max\n",
    "\n",
    "\n",
    "def score_predictions(preds, truth,model):\n",
    "    truth=truth.tolist()\n",
    "    \n",
    "    sorted_asli=[]\n",
    "    for i in np.argsort(preds):\n",
    "        sorted_asli.append(i[::-1].tolist())\n",
    "    \n",
    "    pred=pd.DataFrame(np.take(model.classes_,sorted_asli).tolist())\n",
    "        \n",
    "    \"\"\"\n",
    "    preds: pd.DataFrame\n",
    "      one row for each observation, one column for each prediction.\n",
    "      Columns are sorted from left to right descending in order of likelihood.\n",
    "    truth: pd.Series\n",
    "      one row for each obeservation.\n",
    "    \"\"\"\n",
    "    r = pd.DataFrame(0, index=pred.index, columns=pred.columns, dtype=np.float64)\n",
    "    for col in pred.columns:\n",
    "        r[col] = (pred[col] == truth)\n",
    "\n",
    "    score = pd.Series(r.apply(ndcg_at_k, axis=1, reduce=True), name='score')\n",
    "    return score"
   ]
  },
  {
   "cell_type": "raw",
   "metadata": {
    "ExecuteTime": {
     "end_time": "2019-11-17T18:26:56.332641Z",
     "start_time": "2019-11-17T18:26:56.310641Z"
    }
   },
   "source": [
    "from sklearn.preprocessing import LabelBinarizer\n",
    "from sklearn.metrics import make_scorer\n",
    "\n",
    "\n",
    "def dcg_score(y_true, y_score, k=5):\n",
    "    order = np.argsort(y_score)[::-1]\n",
    "    y_true = np.take(y_true, order[:k])\n",
    "    gain = 2 ** y_true - 1\n",
    "    discounts = np.log2(np.arange(len(y_true)) + 2)\n",
    "    return np.sum(gain / discounts)\n",
    "\n",
    "\n",
    "def ndcg_score(ground_truth, predictions, k=5):\n",
    "    lb = LabelBinarizer()\n",
    "    lb.fit(range(predictions.shape[1]))\n",
    "    T = lb.transform(ground_truth)\n",
    "\n",
    "    scores = []\n",
    "    for y_true, y_score in zip(T, predictions):\n",
    "        actual = dcg_score(y_true, y_score, k)\n",
    "        best = dcg_score(y_true, y_true, k)\n",
    "        score = float(actual) / float(best)\n",
    "        scores.append(score)\n",
    "\n",
    "    return np.mean(scores)\n",
    "\n",
    "model_perf={}"
   ]
  },
  {
   "cell_type": "raw",
   "metadata": {
    "ExecuteTime": {
     "end_time": "2019-11-17T18:26:56.343639Z",
     "start_time": "2019-11-17T18:26:56.335642Z"
    }
   },
   "source": [
    "lb = LabelBinarizer()"
   ]
  },
  {
   "cell_type": "raw",
   "metadata": {
    "ExecuteTime": {
     "end_time": "2019-11-17T18:26:56.383640Z",
     "start_time": "2019-11-17T18:26:56.347640Z"
    }
   },
   "source": [
    "lb.fit(range(lgbm.predict_proba(X_1[X_1.index=='6c6puo6ix0']).shape[1]))"
   ]
  },
  {
   "cell_type": "raw",
   "metadata": {
    "ExecuteTime": {
     "end_time": "2019-11-17T18:26:56.393640Z",
     "start_time": "2019-11-17T18:26:56.386640Z"
    }
   },
   "source": [
    "lb.classes_"
   ]
  },
  {
   "cell_type": "raw",
   "metadata": {
    "ExecuteTime": {
     "end_time": "2019-11-17T18:26:56.432638Z",
     "start_time": "2019-11-17T18:26:56.400640Z"
    }
   },
   "source": [
    "T=lb.transform(y_conv)"
   ]
  },
  {
   "cell_type": "markdown",
   "metadata": {
    "ExecuteTime": {
     "end_time": "2019-11-17T08:05:15.772241Z",
     "start_time": "2019-11-17T08:05:15.747248Z"
    }
   },
   "source": [
    "#### Actual (DCG)"
   ]
  },
  {
   "cell_type": "raw",
   "metadata": {
    "ExecuteTime": {
     "end_time": "2019-11-17T18:26:56.471643Z",
     "start_time": "2019-11-17T18:26:56.435639Z"
    }
   },
   "source": [
    "T[0],np.argsort(lgbm.predict_proba(X_1[X_1.index=='5uwns89zht']))[0][::-1]"
   ]
  },
  {
   "cell_type": "raw",
   "metadata": {
    "ExecuteTime": {
     "end_time": "2019-11-17T18:26:56.510638Z",
     "start_time": "2019-11-17T18:26:56.476639Z"
    }
   },
   "source": [
    "np.take(T[0],np.argsort(lgbm.predict_proba(X_1[X_1.index=='5uwns89zht']))[0][::-1])"
   ]
  },
  {
   "cell_type": "markdown",
   "metadata": {
    "ExecuteTime": {
     "end_time": "2019-11-17T08:36:40.284970Z",
     "start_time": "2019-11-17T08:36:40.271970Z"
    }
   },
   "source": [
    "Gain"
   ]
  },
  {
   "cell_type": "raw",
   "metadata": {
    "ExecuteTime": {
     "end_time": "2019-11-17T18:26:56.553638Z",
     "start_time": "2019-11-17T18:26:56.514648Z"
    }
   },
   "source": [
    "(2 ** np.take(T[0],np.argsort(lgbm.predict_proba(X_1[X_1.index=='6c6puo6ix0']))[0][::-1][:5]) -1)"
   ]
  },
  {
   "cell_type": "markdown",
   "metadata": {},
   "source": [
    "Discount factor"
   ]
  },
  {
   "cell_type": "raw",
   "metadata": {
    "ExecuteTime": {
     "end_time": "2019-11-17T18:26:56.592640Z",
     "start_time": "2019-11-17T18:26:56.556640Z"
    }
   },
   "source": [
    "np.log2(np.arange(len(np.take(T[0],np.argsort(lgbm.predict_proba(X_1[X_1.index=='6c6puo6ix0']))[0][::-1][:5])))+2)"
   ]
  },
  {
   "cell_type": "raw",
   "metadata": {
    "ExecuteTime": {
     "end_time": "2019-11-17T18:26:56.664639Z",
     "start_time": "2019-11-17T18:26:56.597640Z"
    }
   },
   "source": [
    "np.sum((2 ** np.take(T[0],np.argsort(lgbm.predict_proba(X_1[X_1.index=='6c6puo6ix0']))[0][::-1][:5]) -1)/np.log2(np.arange(len(np.take(T[0],np.argsort(lgbm.predict_proba(X_1[X_1.index=='6c6puo6ix0']))[0][::-1][:5])))+2))"
   ]
  },
  {
   "cell_type": "markdown",
   "metadata": {},
   "source": [
    "#### Best (IDCG)"
   ]
  },
  {
   "cell_type": "raw",
   "metadata": {
    "ExecuteTime": {
     "end_time": "2019-11-17T18:26:56.675639Z",
     "start_time": "2019-11-17T18:26:56.667641Z"
    }
   },
   "source": [
    "np.argsort(T[0])[::-1]"
   ]
  },
  {
   "cell_type": "raw",
   "metadata": {
    "ExecuteTime": {
     "end_time": "2019-11-17T18:26:56.688639Z",
     "start_time": "2019-11-17T18:26:56.678645Z"
    }
   },
   "source": [
    "T[0],np.argsort(T[0])[::-1]"
   ]
  },
  {
   "cell_type": "raw",
   "metadata": {
    "ExecuteTime": {
     "end_time": "2019-11-17T18:26:56.701642Z",
     "start_time": "2019-11-17T18:26:56.691641Z"
    }
   },
   "source": [
    "(2 ** np.take(T[0],np.argsort(T[0])[::-1][:5]) -1)"
   ]
  },
  {
   "cell_type": "raw",
   "metadata": {
    "ExecuteTime": {
     "end_time": "2019-11-17T18:26:56.721641Z",
     "start_time": "2019-11-17T18:26:56.707643Z"
    }
   },
   "source": [
    "np.sum((2 ** np.take(T[0],np.argsort(T[0])[::-1][:5]) -1)/np.log2(np.arange(len(np.take(T[0],np.argsort(T[0])[::-1][:5]))) + 2))"
   ]
  },
  {
   "cell_type": "markdown",
   "metadata": {},
   "source": [
    "#### nDCG"
   ]
  },
  {
   "cell_type": "raw",
   "metadata": {
    "ExecuteTime": {
     "end_time": "2019-11-17T18:26:56.797642Z",
     "start_time": "2019-11-17T18:26:56.724641Z"
    }
   },
   "source": [
    "np.sum((2 ** np.take(T[0],np.argsort(lgbm.predict_proba(X_1[X_1.index=='6c6puo6ix0']))[0][::-1][:5]) -1)/np.log2(np.arange(len(np.take(T[0],np.argsort(lgbm.predict_proba(X_1[X_1.index=='6c6puo6ix0']))[0][::-1][:5])))+2)) / np.sum((2 ** np.take(T[0],np.argsort(T[0])[::-1][:5]) -1)/np.log2(np.arange(len(np.take(T[0],np.argsort(T[0])[::-1][:5]))) + 2))"
   ]
  },
  {
   "cell_type": "markdown",
   "metadata": {},
   "source": [
    "### ----------------"
   ]
  },
  {
   "cell_type": "raw",
   "metadata": {
    "ExecuteTime": {
     "end_time": "2019-11-17T08:44:28.075838Z",
     "start_time": "2019-11-17T08:44:28.030841Z"
    }
   },
   "source": [
    "from sklearn.preprocessing import LabelEncoder\n",
    "label_encoder = LabelEncoder()\n",
    "encoded_y_train = label_encoder.fit_transform(y_train)"
   ]
  },
  {
   "cell_type": "raw",
   "metadata": {
    "ExecuteTime": {
     "end_time": "2019-11-17T08:44:28.524857Z",
     "start_time": "2019-11-17T08:44:28.254836Z"
    }
   },
   "source": [
    "import xgboost"
   ]
  },
  {
   "cell_type": "raw",
   "metadata": {
    "ExecuteTime": {
     "end_time": "2019-11-17T08:44:28.801833Z",
     "start_time": "2019-11-17T08:44:28.526837Z"
    }
   },
   "source": [
    "train_data = xgboost.DMatrix(X_train, encoded_y_train)"
   ]
  },
  {
   "cell_type": "raw",
   "metadata": {
    "ExecuteTime": {
     "end_time": "2019-11-17T08:44:28.813840Z",
     "start_time": "2019-11-17T08:44:28.803837Z"
    }
   },
   "source": [
    "def ndcg5_score(preds, dtrain):\n",
    "    labels = dtrain.get_label()\n",
    "    top = []\n",
    "\n",
    "    for i in range(preds.shape[0]):\n",
    "        top.append(np.argsort(preds[i])[::-1][:5])\n",
    "\n",
    "    mat = np.reshape(np.repeat(labels,np.shape(top)[1]) == np.array(top).ravel(),np.array(top).shape).astype(int)\n",
    "    score = np.mean(np.sum(mat/np.log2(np.arange(2, mat.shape[1] + 2)),axis = 1))\n",
    "    return 'ndcg5', score"
   ]
  },
  {
   "cell_type": "raw",
   "metadata": {
    "ExecuteTime": {
     "end_time": "2019-11-17T08:47:22.034641Z",
     "start_time": "2019-11-17T08:44:29.621400Z"
    }
   },
   "source": [
    "param = {\n",
    "    'max_depth': 10,\n",
    "    'learning_rate': 1,\n",
    "    'n_estimators': 5,\n",
    "    'objective': 'multi:softprob',\n",
    "    'num_class': 12,\n",
    "    'gamma': 0,\n",
    "    'min_child_weight': 1,\n",
    "    'max_delta_step': 0,\n",
    "    'subsample': 1,\n",
    "    'colsample_bytree': 1,\n",
    "    'colsample_bylevel': 1,\n",
    "    'reg_alpha': 0,\n",
    "    'reg_lambda': 1,\n",
    "    'scale_pos_weight': 1,\n",
    "    'base_score': 0.5,\n",
    "    'missing': None,\n",
    "    'silent': True,\n",
    "    'nthread': 4,\n",
    "    'seed': 42\n",
    "}\n",
    "\n",
    "num_round = 10\n",
    "xgboost.cv(param, train_data, num_boost_round=num_round, metrics=['mlogloss'], feval=ndcg5_score)"
   ]
  }
 ],
 "metadata": {
  "kernelspec": {
   "display_name": "Python 3",
   "language": "python",
   "name": "python3"
  },
  "language_info": {
   "codemirror_mode": {
    "name": "ipython",
    "version": 3
   },
   "file_extension": ".py",
   "mimetype": "text/x-python",
   "name": "python",
   "nbconvert_exporter": "python",
   "pygments_lexer": "ipython3",
   "version": "3.7.3"
  }
 },
 "nbformat": 4,
 "nbformat_minor": 2
}
