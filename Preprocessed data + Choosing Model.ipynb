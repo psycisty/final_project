{
 "cells": [
  {
   "cell_type": "code",
   "execution_count": 2,
   "metadata": {
    "ExecuteTime": {
     "end_time": "2019-11-18T04:17:21.696960Z",
     "start_time": "2019-11-18T04:17:20.528119Z"
    }
   },
   "outputs": [],
   "source": [
    "import numpy as np\n",
    "import pandas as pd\n",
    "import matplotlib.pyplot as plt\n",
    "import seaborn as sns\n",
    "import datetime\n",
    "\n",
    "%matplotlib inline"
   ]
  },
  {
   "cell_type": "code",
   "execution_count": 3,
   "metadata": {
    "ExecuteTime": {
     "end_time": "2019-11-18T04:17:32.100713Z",
     "start_time": "2019-11-18T04:17:21.696960Z"
    }
   },
   "outputs": [],
   "source": [
    "train_users = pd.read_csv('train_users_2.csv')\n",
    "test_users = pd.read_csv('test_users.csv')\n",
    "sessions = pd.read_csv('sessions.csv')"
   ]
  },
  {
   "cell_type": "code",
   "execution_count": 11,
   "metadata": {
    "ExecuteTime": {
     "end_time": "2019-11-18T04:20:33.682872Z",
     "start_time": "2019-11-18T04:20:33.520560Z"
    }
   },
   "outputs": [
    {
     "name": "stdout",
     "output_type": "stream",
     "text": [
      "<class 'pandas.core.frame.DataFrame'>\n",
      "RangeIndex: 213451 entries, 0 to 213450\n",
      "Data columns (total 16 columns):\n",
      "id                         213451 non-null object\n",
      "date_account_created       213451 non-null object\n",
      "timestamp_first_active     213451 non-null int64\n",
      "date_first_booking         88908 non-null object\n",
      "gender                     213451 non-null object\n",
      "age                        125461 non-null float64\n",
      "signup_method              213451 non-null object\n",
      "signup_flow                213451 non-null int64\n",
      "language                   213451 non-null object\n",
      "affiliate_channel          213451 non-null object\n",
      "affiliate_provider         213451 non-null object\n",
      "first_affiliate_tracked    207386 non-null object\n",
      "signup_app                 213451 non-null object\n",
      "first_device_type          213451 non-null object\n",
      "first_browser              213451 non-null object\n",
      "country_destination        213451 non-null object\n",
      "dtypes: float64(1), int64(2), object(13)\n",
      "memory usage: 26.1+ MB\n"
     ]
    }
   ],
   "source": [
    "train_users.info()"
   ]
  },
  {
   "cell_type": "code",
   "execution_count": 7,
   "metadata": {
    "ExecuteTime": {
     "end_time": "2019-11-18T04:18:54.371379Z",
     "start_time": "2019-11-18T04:18:54.340379Z"
    }
   },
   "outputs": [
    {
     "data": {
      "text/html": [
       "<div>\n",
       "<style scoped>\n",
       "    .dataframe tbody tr th:only-of-type {\n",
       "        vertical-align: middle;\n",
       "    }\n",
       "\n",
       "    .dataframe tbody tr th {\n",
       "        vertical-align: top;\n",
       "    }\n",
       "\n",
       "    .dataframe thead th {\n",
       "        text-align: right;\n",
       "    }\n",
       "</style>\n",
       "<table border=\"1\" class=\"dataframe\">\n",
       "  <thead>\n",
       "    <tr style=\"text-align: right;\">\n",
       "      <th></th>\n",
       "      <th>id</th>\n",
       "      <th>date_account_created</th>\n",
       "      <th>timestamp_first_active</th>\n",
       "      <th>date_first_booking</th>\n",
       "      <th>gender</th>\n",
       "      <th>age</th>\n",
       "      <th>signup_method</th>\n",
       "      <th>signup_flow</th>\n",
       "      <th>language</th>\n",
       "      <th>affiliate_channel</th>\n",
       "      <th>affiliate_provider</th>\n",
       "      <th>first_affiliate_tracked</th>\n",
       "      <th>signup_app</th>\n",
       "      <th>first_device_type</th>\n",
       "      <th>first_browser</th>\n",
       "    </tr>\n",
       "  </thead>\n",
       "  <tbody>\n",
       "    <tr>\n",
       "      <th>3</th>\n",
       "      <td>6c6puo6ix0</td>\n",
       "      <td>2014-07-01</td>\n",
       "      <td>20140701000215</td>\n",
       "      <td>NaN</td>\n",
       "      <td>-unknown-</td>\n",
       "      <td>NaN</td>\n",
       "      <td>basic</td>\n",
       "      <td>0</td>\n",
       "      <td>en</td>\n",
       "      <td>direct</td>\n",
       "      <td>direct</td>\n",
       "      <td>linked</td>\n",
       "      <td>Web</td>\n",
       "      <td>Windows Desktop</td>\n",
       "      <td>IE</td>\n",
       "    </tr>\n",
       "  </tbody>\n",
       "</table>\n",
       "</div>"
      ],
      "text/plain": [
       "           id date_account_created  timestamp_first_active  \\\n",
       "3  6c6puo6ix0           2014-07-01          20140701000215   \n",
       "\n",
       "   date_first_booking     gender  age signup_method  signup_flow language  \\\n",
       "3                 NaN  -unknown-  NaN         basic            0       en   \n",
       "\n",
       "  affiliate_channel affiliate_provider first_affiliate_tracked signup_app  \\\n",
       "3            direct             direct                  linked        Web   \n",
       "\n",
       "  first_device_type first_browser  \n",
       "3   Windows Desktop            IE  "
      ]
     },
     "execution_count": 7,
     "metadata": {},
     "output_type": "execute_result"
    }
   ],
   "source": [
    "test_users[test_users['id']=='6c6puo6ix0']"
   ]
  },
  {
   "cell_type": "code",
   "execution_count": 5,
   "metadata": {
    "ExecuteTime": {
     "end_time": "2019-11-18T04:18:07.542835Z",
     "start_time": "2019-11-18T04:18:06.829406Z"
    }
   },
   "outputs": [
    {
     "data": {
      "text/html": [
       "<div>\n",
       "<style scoped>\n",
       "    .dataframe tbody tr th:only-of-type {\n",
       "        vertical-align: middle;\n",
       "    }\n",
       "\n",
       "    .dataframe tbody tr th {\n",
       "        vertical-align: top;\n",
       "    }\n",
       "\n",
       "    .dataframe thead th {\n",
       "        text-align: right;\n",
       "    }\n",
       "</style>\n",
       "<table border=\"1\" class=\"dataframe\">\n",
       "  <thead>\n",
       "    <tr style=\"text-align: right;\">\n",
       "      <th></th>\n",
       "      <th>user_id</th>\n",
       "      <th>action</th>\n",
       "      <th>action_type</th>\n",
       "      <th>action_detail</th>\n",
       "      <th>device_type</th>\n",
       "      <th>secs_elapsed</th>\n",
       "    </tr>\n",
       "  </thead>\n",
       "  <tbody>\n",
       "    <tr>\n",
       "      <th>5555365</th>\n",
       "      <td>6c6puo6ix0</td>\n",
       "      <td>personalize</td>\n",
       "      <td>data</td>\n",
       "      <td>wishlist_content_update</td>\n",
       "      <td>Windows Desktop</td>\n",
       "      <td>106481.0</td>\n",
       "    </tr>\n",
       "    <tr>\n",
       "      <th>5555366</th>\n",
       "      <td>6c6puo6ix0</td>\n",
       "      <td>header_userpic</td>\n",
       "      <td>data</td>\n",
       "      <td>header_userpic</td>\n",
       "      <td>Windows Desktop</td>\n",
       "      <td>236.0</td>\n",
       "    </tr>\n",
       "    <tr>\n",
       "      <th>5555367</th>\n",
       "      <td>6c6puo6ix0</td>\n",
       "      <td>header_userpic</td>\n",
       "      <td>data</td>\n",
       "      <td>header_userpic</td>\n",
       "      <td>Windows Desktop</td>\n",
       "      <td>231.0</td>\n",
       "    </tr>\n",
       "    <tr>\n",
       "      <th>5555368</th>\n",
       "      <td>6c6puo6ix0</td>\n",
       "      <td>show</td>\n",
       "      <td>view</td>\n",
       "      <td>p3</td>\n",
       "      <td>Windows Desktop</td>\n",
       "      <td>5.0</td>\n",
       "    </tr>\n",
       "    <tr>\n",
       "      <th>5555369</th>\n",
       "      <td>6c6puo6ix0</td>\n",
       "      <td>index</td>\n",
       "      <td>view</td>\n",
       "      <td>view_search_results</td>\n",
       "      <td>Windows Desktop</td>\n",
       "      <td>1372.0</td>\n",
       "    </tr>\n",
       "    <tr>\n",
       "      <th>5555370</th>\n",
       "      <td>6c6puo6ix0</td>\n",
       "      <td>similar_listings_v2</td>\n",
       "      <td>NaN</td>\n",
       "      <td>NaN</td>\n",
       "      <td>Windows Desktop</td>\n",
       "      <td>154.0</td>\n",
       "    </tr>\n",
       "    <tr>\n",
       "      <th>5555371</th>\n",
       "      <td>6c6puo6ix0</td>\n",
       "      <td>personalize</td>\n",
       "      <td>data</td>\n",
       "      <td>wishlist_content_update</td>\n",
       "      <td>Windows Desktop</td>\n",
       "      <td>7.0</td>\n",
       "    </tr>\n",
       "    <tr>\n",
       "      <th>5555372</th>\n",
       "      <td>6c6puo6ix0</td>\n",
       "      <td>ajax_refresh_subtotal</td>\n",
       "      <td>click</td>\n",
       "      <td>change_trip_characteristics</td>\n",
       "      <td>Windows Desktop</td>\n",
       "      <td>1091.0</td>\n",
       "    </tr>\n",
       "    <tr>\n",
       "      <th>5555373</th>\n",
       "      <td>6c6puo6ix0</td>\n",
       "      <td>create</td>\n",
       "      <td>submit</td>\n",
       "      <td>create_user</td>\n",
       "      <td>Windows Desktop</td>\n",
       "      <td>NaN</td>\n",
       "    </tr>\n",
       "    <tr>\n",
       "      <th>5555374</th>\n",
       "      <td>6c6puo6ix0</td>\n",
       "      <td>show</td>\n",
       "      <td>NaN</td>\n",
       "      <td>NaN</td>\n",
       "      <td>Windows Desktop</td>\n",
       "      <td>13414.0</td>\n",
       "    </tr>\n",
       "    <tr>\n",
       "      <th>5555375</th>\n",
       "      <td>6c6puo6ix0</td>\n",
       "      <td>personalize</td>\n",
       "      <td>data</td>\n",
       "      <td>wishlist_content_update</td>\n",
       "      <td>Windows Desktop</td>\n",
       "      <td>10.0</td>\n",
       "    </tr>\n",
       "  </tbody>\n",
       "</table>\n",
       "</div>"
      ],
      "text/plain": [
       "            user_id                 action action_type  \\\n",
       "5555365  6c6puo6ix0            personalize        data   \n",
       "5555366  6c6puo6ix0         header_userpic        data   \n",
       "5555367  6c6puo6ix0         header_userpic        data   \n",
       "5555368  6c6puo6ix0                   show        view   \n",
       "5555369  6c6puo6ix0                  index        view   \n",
       "5555370  6c6puo6ix0    similar_listings_v2         NaN   \n",
       "5555371  6c6puo6ix0            personalize        data   \n",
       "5555372  6c6puo6ix0  ajax_refresh_subtotal       click   \n",
       "5555373  6c6puo6ix0                 create      submit   \n",
       "5555374  6c6puo6ix0                   show         NaN   \n",
       "5555375  6c6puo6ix0            personalize        data   \n",
       "\n",
       "                       action_detail      device_type  secs_elapsed  \n",
       "5555365      wishlist_content_update  Windows Desktop      106481.0  \n",
       "5555366               header_userpic  Windows Desktop         236.0  \n",
       "5555367               header_userpic  Windows Desktop         231.0  \n",
       "5555368                           p3  Windows Desktop           5.0  \n",
       "5555369          view_search_results  Windows Desktop        1372.0  \n",
       "5555370                          NaN  Windows Desktop         154.0  \n",
       "5555371      wishlist_content_update  Windows Desktop           7.0  \n",
       "5555372  change_trip_characteristics  Windows Desktop        1091.0  \n",
       "5555373                  create_user  Windows Desktop           NaN  \n",
       "5555374                          NaN  Windows Desktop       13414.0  \n",
       "5555375      wishlist_content_update  Windows Desktop          10.0  "
      ]
     },
     "execution_count": 5,
     "metadata": {},
     "output_type": "execute_result"
    }
   ],
   "source": [
    "sessions[sessions['user_id']=='6c6puo6ix0']"
   ]
  },
  {
   "cell_type": "code",
   "execution_count": 3,
   "metadata": {
    "ExecuteTime": {
     "end_time": "2019-11-16T16:31:20.295001Z",
     "start_time": "2019-11-16T16:31:20.246999Z"
    }
   },
   "outputs": [
    {
     "data": {
      "text/html": [
       "<div>\n",
       "<style scoped>\n",
       "    .dataframe tbody tr th:only-of-type {\n",
       "        vertical-align: middle;\n",
       "    }\n",
       "\n",
       "    .dataframe tbody tr th {\n",
       "        vertical-align: top;\n",
       "    }\n",
       "\n",
       "    .dataframe thead th {\n",
       "        text-align: right;\n",
       "    }\n",
       "</style>\n",
       "<table border=\"1\" class=\"dataframe\">\n",
       "  <thead>\n",
       "    <tr style=\"text-align: right;\">\n",
       "      <th></th>\n",
       "      <th>id</th>\n",
       "      <th>date_account_created</th>\n",
       "      <th>timestamp_first_active</th>\n",
       "      <th>date_first_booking</th>\n",
       "      <th>gender</th>\n",
       "      <th>age</th>\n",
       "      <th>signup_method</th>\n",
       "      <th>signup_flow</th>\n",
       "      <th>language</th>\n",
       "      <th>affiliate_channel</th>\n",
       "      <th>affiliate_provider</th>\n",
       "      <th>first_affiliate_tracked</th>\n",
       "      <th>signup_app</th>\n",
       "      <th>first_device_type</th>\n",
       "      <th>first_browser</th>\n",
       "      <th>country_destination</th>\n",
       "    </tr>\n",
       "  </thead>\n",
       "  <tbody>\n",
       "    <tr>\n",
       "      <th>0</th>\n",
       "      <td>gxn3p5htnn</td>\n",
       "      <td>2010-06-28</td>\n",
       "      <td>20090319043255</td>\n",
       "      <td>NaN</td>\n",
       "      <td>-unknown-</td>\n",
       "      <td>NaN</td>\n",
       "      <td>facebook</td>\n",
       "      <td>0</td>\n",
       "      <td>en</td>\n",
       "      <td>direct</td>\n",
       "      <td>direct</td>\n",
       "      <td>untracked</td>\n",
       "      <td>Web</td>\n",
       "      <td>Mac Desktop</td>\n",
       "      <td>Chrome</td>\n",
       "      <td>NDF</td>\n",
       "    </tr>\n",
       "    <tr>\n",
       "      <th>1</th>\n",
       "      <td>820tgsjxq7</td>\n",
       "      <td>2011-05-25</td>\n",
       "      <td>20090523174809</td>\n",
       "      <td>NaN</td>\n",
       "      <td>MALE</td>\n",
       "      <td>38.0</td>\n",
       "      <td>facebook</td>\n",
       "      <td>0</td>\n",
       "      <td>en</td>\n",
       "      <td>seo</td>\n",
       "      <td>google</td>\n",
       "      <td>untracked</td>\n",
       "      <td>Web</td>\n",
       "      <td>Mac Desktop</td>\n",
       "      <td>Chrome</td>\n",
       "      <td>NDF</td>\n",
       "    </tr>\n",
       "    <tr>\n",
       "      <th>2</th>\n",
       "      <td>4ft3gnwmtx</td>\n",
       "      <td>2010-09-28</td>\n",
       "      <td>20090609231247</td>\n",
       "      <td>2010-08-02</td>\n",
       "      <td>FEMALE</td>\n",
       "      <td>56.0</td>\n",
       "      <td>basic</td>\n",
       "      <td>3</td>\n",
       "      <td>en</td>\n",
       "      <td>direct</td>\n",
       "      <td>direct</td>\n",
       "      <td>untracked</td>\n",
       "      <td>Web</td>\n",
       "      <td>Windows Desktop</td>\n",
       "      <td>IE</td>\n",
       "      <td>US</td>\n",
       "    </tr>\n",
       "    <tr>\n",
       "      <th>3</th>\n",
       "      <td>bjjt8pjhuk</td>\n",
       "      <td>2011-12-05</td>\n",
       "      <td>20091031060129</td>\n",
       "      <td>2012-09-08</td>\n",
       "      <td>FEMALE</td>\n",
       "      <td>42.0</td>\n",
       "      <td>facebook</td>\n",
       "      <td>0</td>\n",
       "      <td>en</td>\n",
       "      <td>direct</td>\n",
       "      <td>direct</td>\n",
       "      <td>untracked</td>\n",
       "      <td>Web</td>\n",
       "      <td>Mac Desktop</td>\n",
       "      <td>Firefox</td>\n",
       "      <td>other</td>\n",
       "    </tr>\n",
       "    <tr>\n",
       "      <th>4</th>\n",
       "      <td>87mebub9p4</td>\n",
       "      <td>2010-09-14</td>\n",
       "      <td>20091208061105</td>\n",
       "      <td>2010-02-18</td>\n",
       "      <td>-unknown-</td>\n",
       "      <td>41.0</td>\n",
       "      <td>basic</td>\n",
       "      <td>0</td>\n",
       "      <td>en</td>\n",
       "      <td>direct</td>\n",
       "      <td>direct</td>\n",
       "      <td>untracked</td>\n",
       "      <td>Web</td>\n",
       "      <td>Mac Desktop</td>\n",
       "      <td>Chrome</td>\n",
       "      <td>US</td>\n",
       "    </tr>\n",
       "  </tbody>\n",
       "</table>\n",
       "</div>"
      ],
      "text/plain": [
       "           id date_account_created  timestamp_first_active date_first_booking  \\\n",
       "0  gxn3p5htnn           2010-06-28          20090319043255                NaN   \n",
       "1  820tgsjxq7           2011-05-25          20090523174809                NaN   \n",
       "2  4ft3gnwmtx           2010-09-28          20090609231247         2010-08-02   \n",
       "3  bjjt8pjhuk           2011-12-05          20091031060129         2012-09-08   \n",
       "4  87mebub9p4           2010-09-14          20091208061105         2010-02-18   \n",
       "\n",
       "      gender   age signup_method  signup_flow language affiliate_channel  \\\n",
       "0  -unknown-   NaN      facebook            0       en            direct   \n",
       "1       MALE  38.0      facebook            0       en               seo   \n",
       "2     FEMALE  56.0         basic            3       en            direct   \n",
       "3     FEMALE  42.0      facebook            0       en            direct   \n",
       "4  -unknown-  41.0         basic            0       en            direct   \n",
       "\n",
       "  affiliate_provider first_affiliate_tracked signup_app first_device_type  \\\n",
       "0             direct               untracked        Web       Mac Desktop   \n",
       "1             google               untracked        Web       Mac Desktop   \n",
       "2             direct               untracked        Web   Windows Desktop   \n",
       "3             direct               untracked        Web       Mac Desktop   \n",
       "4             direct               untracked        Web       Mac Desktop   \n",
       "\n",
       "  first_browser country_destination  \n",
       "0        Chrome                 NDF  \n",
       "1        Chrome                 NDF  \n",
       "2            IE                  US  \n",
       "3       Firefox               other  \n",
       "4        Chrome                  US  "
      ]
     },
     "execution_count": 3,
     "metadata": {},
     "output_type": "execute_result"
    }
   ],
   "source": [
    "train_users.head()"
   ]
  },
  {
   "cell_type": "code",
   "execution_count": 4,
   "metadata": {
    "ExecuteTime": {
     "end_time": "2019-11-16T16:31:20.436005Z",
     "start_time": "2019-11-16T16:31:20.298004Z"
    }
   },
   "outputs": [
    {
     "name": "stderr",
     "output_type": "stream",
     "text": [
      "C:\\Users\\Asyariati\\Anaconda3\\lib\\site-packages\\ipykernel_launcher.py:1: FutureWarning: Sorting because non-concatenation axis is not aligned. A future version\n",
      "of pandas will change to not sort by default.\n",
      "\n",
      "To accept the future behavior, pass 'sort=False'.\n",
      "\n",
      "To retain the current behavior and silence the warning, pass 'sort=True'.\n",
      "\n",
      "  \"\"\"Entry point for launching an IPython kernel.\n"
     ]
    },
    {
     "data": {
      "text/html": [
       "<div>\n",
       "<style scoped>\n",
       "    .dataframe tbody tr th:only-of-type {\n",
       "        vertical-align: middle;\n",
       "    }\n",
       "\n",
       "    .dataframe tbody tr th {\n",
       "        vertical-align: top;\n",
       "    }\n",
       "\n",
       "    .dataframe thead th {\n",
       "        text-align: right;\n",
       "    }\n",
       "</style>\n",
       "<table border=\"1\" class=\"dataframe\">\n",
       "  <thead>\n",
       "    <tr style=\"text-align: right;\">\n",
       "      <th></th>\n",
       "      <th>affiliate_channel</th>\n",
       "      <th>affiliate_provider</th>\n",
       "      <th>age</th>\n",
       "      <th>country_destination</th>\n",
       "      <th>date_account_created</th>\n",
       "      <th>date_first_booking</th>\n",
       "      <th>first_affiliate_tracked</th>\n",
       "      <th>first_browser</th>\n",
       "      <th>first_device_type</th>\n",
       "      <th>gender</th>\n",
       "      <th>language</th>\n",
       "      <th>signup_app</th>\n",
       "      <th>signup_flow</th>\n",
       "      <th>signup_method</th>\n",
       "      <th>timestamp_first_active</th>\n",
       "    </tr>\n",
       "    <tr>\n",
       "      <th>id</th>\n",
       "      <th></th>\n",
       "      <th></th>\n",
       "      <th></th>\n",
       "      <th></th>\n",
       "      <th></th>\n",
       "      <th></th>\n",
       "      <th></th>\n",
       "      <th></th>\n",
       "      <th></th>\n",
       "      <th></th>\n",
       "      <th></th>\n",
       "      <th></th>\n",
       "      <th></th>\n",
       "      <th></th>\n",
       "      <th></th>\n",
       "    </tr>\n",
       "  </thead>\n",
       "  <tbody>\n",
       "    <tr>\n",
       "      <th>gxn3p5htnn</th>\n",
       "      <td>direct</td>\n",
       "      <td>direct</td>\n",
       "      <td>NaN</td>\n",
       "      <td>NDF</td>\n",
       "      <td>2010-06-28</td>\n",
       "      <td>NaN</td>\n",
       "      <td>untracked</td>\n",
       "      <td>Chrome</td>\n",
       "      <td>Mac Desktop</td>\n",
       "      <td>-unknown-</td>\n",
       "      <td>en</td>\n",
       "      <td>Web</td>\n",
       "      <td>0</td>\n",
       "      <td>facebook</td>\n",
       "      <td>20090319043255</td>\n",
       "    </tr>\n",
       "    <tr>\n",
       "      <th>820tgsjxq7</th>\n",
       "      <td>seo</td>\n",
       "      <td>google</td>\n",
       "      <td>38.0</td>\n",
       "      <td>NDF</td>\n",
       "      <td>2011-05-25</td>\n",
       "      <td>NaN</td>\n",
       "      <td>untracked</td>\n",
       "      <td>Chrome</td>\n",
       "      <td>Mac Desktop</td>\n",
       "      <td>MALE</td>\n",
       "      <td>en</td>\n",
       "      <td>Web</td>\n",
       "      <td>0</td>\n",
       "      <td>facebook</td>\n",
       "      <td>20090523174809</td>\n",
       "    </tr>\n",
       "    <tr>\n",
       "      <th>4ft3gnwmtx</th>\n",
       "      <td>direct</td>\n",
       "      <td>direct</td>\n",
       "      <td>56.0</td>\n",
       "      <td>US</td>\n",
       "      <td>2010-09-28</td>\n",
       "      <td>2010-08-02</td>\n",
       "      <td>untracked</td>\n",
       "      <td>IE</td>\n",
       "      <td>Windows Desktop</td>\n",
       "      <td>FEMALE</td>\n",
       "      <td>en</td>\n",
       "      <td>Web</td>\n",
       "      <td>3</td>\n",
       "      <td>basic</td>\n",
       "      <td>20090609231247</td>\n",
       "    </tr>\n",
       "    <tr>\n",
       "      <th>bjjt8pjhuk</th>\n",
       "      <td>direct</td>\n",
       "      <td>direct</td>\n",
       "      <td>42.0</td>\n",
       "      <td>other</td>\n",
       "      <td>2011-12-05</td>\n",
       "      <td>2012-09-08</td>\n",
       "      <td>untracked</td>\n",
       "      <td>Firefox</td>\n",
       "      <td>Mac Desktop</td>\n",
       "      <td>FEMALE</td>\n",
       "      <td>en</td>\n",
       "      <td>Web</td>\n",
       "      <td>0</td>\n",
       "      <td>facebook</td>\n",
       "      <td>20091031060129</td>\n",
       "    </tr>\n",
       "    <tr>\n",
       "      <th>87mebub9p4</th>\n",
       "      <td>direct</td>\n",
       "      <td>direct</td>\n",
       "      <td>41.0</td>\n",
       "      <td>US</td>\n",
       "      <td>2010-09-14</td>\n",
       "      <td>2010-02-18</td>\n",
       "      <td>untracked</td>\n",
       "      <td>Chrome</td>\n",
       "      <td>Mac Desktop</td>\n",
       "      <td>-unknown-</td>\n",
       "      <td>en</td>\n",
       "      <td>Web</td>\n",
       "      <td>0</td>\n",
       "      <td>basic</td>\n",
       "      <td>20091208061105</td>\n",
       "    </tr>\n",
       "  </tbody>\n",
       "</table>\n",
       "</div>"
      ],
      "text/plain": [
       "           affiliate_channel affiliate_provider   age country_destination  \\\n",
       "id                                                                          \n",
       "gxn3p5htnn            direct             direct   NaN                 NDF   \n",
       "820tgsjxq7               seo             google  38.0                 NDF   \n",
       "4ft3gnwmtx            direct             direct  56.0                  US   \n",
       "bjjt8pjhuk            direct             direct  42.0               other   \n",
       "87mebub9p4            direct             direct  41.0                  US   \n",
       "\n",
       "           date_account_created date_first_booking first_affiliate_tracked  \\\n",
       "id                                                                           \n",
       "gxn3p5htnn           2010-06-28                NaN               untracked   \n",
       "820tgsjxq7           2011-05-25                NaN               untracked   \n",
       "4ft3gnwmtx           2010-09-28         2010-08-02               untracked   \n",
       "bjjt8pjhuk           2011-12-05         2012-09-08               untracked   \n",
       "87mebub9p4           2010-09-14         2010-02-18               untracked   \n",
       "\n",
       "           first_browser first_device_type     gender language signup_app  \\\n",
       "id                                                                          \n",
       "gxn3p5htnn        Chrome       Mac Desktop  -unknown-       en        Web   \n",
       "820tgsjxq7        Chrome       Mac Desktop       MALE       en        Web   \n",
       "4ft3gnwmtx            IE   Windows Desktop     FEMALE       en        Web   \n",
       "bjjt8pjhuk       Firefox       Mac Desktop     FEMALE       en        Web   \n",
       "87mebub9p4        Chrome       Mac Desktop  -unknown-       en        Web   \n",
       "\n",
       "            signup_flow signup_method  timestamp_first_active  \n",
       "id                                                             \n",
       "gxn3p5htnn            0      facebook          20090319043255  \n",
       "820tgsjxq7            0      facebook          20090523174809  \n",
       "4ft3gnwmtx            3         basic          20090609231247  \n",
       "bjjt8pjhuk            0      facebook          20091031060129  \n",
       "87mebub9p4            0         basic          20091208061105  "
      ]
     },
     "execution_count": 4,
     "metadata": {},
     "output_type": "execute_result"
    }
   ],
   "source": [
    "users = pd.concat((train_users, test_users), axis=0, ignore_index=True)\n",
    "users.set_index('id',inplace=True)\n",
    "users.head()"
   ]
  },
  {
   "cell_type": "code",
   "execution_count": 5,
   "metadata": {
    "ExecuteTime": {
     "end_time": "2019-11-16T16:31:20.557999Z",
     "start_time": "2019-11-16T16:31:20.440005Z"
    }
   },
   "outputs": [],
   "source": [
    "users.drop('date_first_booking',axis=1,inplace=True)\n",
    "#drop it because test set does't have it"
   ]
  },
  {
   "cell_type": "code",
   "execution_count": 6,
   "metadata": {
    "ExecuteTime": {
     "end_time": "2019-11-16T16:31:20.579002Z",
     "start_time": "2019-11-16T16:31:20.560001Z"
    }
   },
   "outputs": [
    {
     "data": {
      "text/html": [
       "<div>\n",
       "<style scoped>\n",
       "    .dataframe tbody tr th:only-of-type {\n",
       "        vertical-align: middle;\n",
       "    }\n",
       "\n",
       "    .dataframe tbody tr th {\n",
       "        vertical-align: top;\n",
       "    }\n",
       "\n",
       "    .dataframe thead th {\n",
       "        text-align: right;\n",
       "    }\n",
       "</style>\n",
       "<table border=\"1\" class=\"dataframe\">\n",
       "  <thead>\n",
       "    <tr style=\"text-align: right;\">\n",
       "      <th></th>\n",
       "      <th>user_id</th>\n",
       "      <th>action</th>\n",
       "      <th>action_type</th>\n",
       "      <th>action_detail</th>\n",
       "      <th>device_type</th>\n",
       "      <th>secs_elapsed</th>\n",
       "    </tr>\n",
       "  </thead>\n",
       "  <tbody>\n",
       "    <tr>\n",
       "      <th>0</th>\n",
       "      <td>d1mm9tcy42</td>\n",
       "      <td>lookup</td>\n",
       "      <td>NaN</td>\n",
       "      <td>NaN</td>\n",
       "      <td>Windows Desktop</td>\n",
       "      <td>319.0</td>\n",
       "    </tr>\n",
       "    <tr>\n",
       "      <th>1</th>\n",
       "      <td>d1mm9tcy42</td>\n",
       "      <td>search_results</td>\n",
       "      <td>click</td>\n",
       "      <td>view_search_results</td>\n",
       "      <td>Windows Desktop</td>\n",
       "      <td>67753.0</td>\n",
       "    </tr>\n",
       "    <tr>\n",
       "      <th>2</th>\n",
       "      <td>d1mm9tcy42</td>\n",
       "      <td>lookup</td>\n",
       "      <td>NaN</td>\n",
       "      <td>NaN</td>\n",
       "      <td>Windows Desktop</td>\n",
       "      <td>301.0</td>\n",
       "    </tr>\n",
       "    <tr>\n",
       "      <th>3</th>\n",
       "      <td>d1mm9tcy42</td>\n",
       "      <td>search_results</td>\n",
       "      <td>click</td>\n",
       "      <td>view_search_results</td>\n",
       "      <td>Windows Desktop</td>\n",
       "      <td>22141.0</td>\n",
       "    </tr>\n",
       "    <tr>\n",
       "      <th>4</th>\n",
       "      <td>d1mm9tcy42</td>\n",
       "      <td>lookup</td>\n",
       "      <td>NaN</td>\n",
       "      <td>NaN</td>\n",
       "      <td>Windows Desktop</td>\n",
       "      <td>435.0</td>\n",
       "    </tr>\n",
       "  </tbody>\n",
       "</table>\n",
       "</div>"
      ],
      "text/plain": [
       "      user_id          action action_type        action_detail  \\\n",
       "0  d1mm9tcy42          lookup         NaN                  NaN   \n",
       "1  d1mm9tcy42  search_results       click  view_search_results   \n",
       "2  d1mm9tcy42          lookup         NaN                  NaN   \n",
       "3  d1mm9tcy42  search_results       click  view_search_results   \n",
       "4  d1mm9tcy42          lookup         NaN                  NaN   \n",
       "\n",
       "       device_type  secs_elapsed  \n",
       "0  Windows Desktop         319.0  \n",
       "1  Windows Desktop       67753.0  \n",
       "2  Windows Desktop         301.0  \n",
       "3  Windows Desktop       22141.0  \n",
       "4  Windows Desktop         435.0  "
      ]
     },
     "execution_count": 6,
     "metadata": {},
     "output_type": "execute_result"
    }
   ],
   "source": [
    "sessions.head()"
   ]
  },
  {
   "cell_type": "code",
   "execution_count": 7,
   "metadata": {
    "ExecuteTime": {
     "end_time": "2019-11-16T16:31:20.611002Z",
     "start_time": "2019-11-16T16:31:20.583001Z"
    }
   },
   "outputs": [
    {
     "data": {
      "text/plain": [
       "array(['-unknown-', 'MALE', 'FEMALE', 'OTHER'], dtype=object)"
      ]
     },
     "execution_count": 7,
     "metadata": {},
     "output_type": "execute_result"
    }
   ],
   "source": [
    "users['gender'].unique()"
   ]
  },
  {
   "cell_type": "markdown",
   "metadata": {},
   "source": [
    "Usually the missing data comes in the way of *NaN*, but in the data above above we can see that the `gender` column some values being `-unknown-`. We transformed those values into *NaN* first and then summarised the percentage of unknowns in each field. "
   ]
  },
  {
   "cell_type": "code",
   "execution_count": 8,
   "metadata": {
    "ExecuteTime": {
     "end_time": "2019-11-16T16:31:20.658002Z",
     "start_time": "2019-11-16T16:31:20.617001Z"
    }
   },
   "outputs": [],
   "source": [
    "users['gender'].replace('-unknown-', np.nan, inplace=True)\n",
    "users['first_browser'].replace('-unknown-', np.nan, inplace=True)"
   ]
  },
  {
   "cell_type": "code",
   "execution_count": 9,
   "metadata": {
    "ExecuteTime": {
     "end_time": "2019-11-16T16:31:20.914000Z",
     "start_time": "2019-11-16T16:31:20.667003Z"
    }
   },
   "outputs": [
    {
     "data": {
      "text/plain": [
       "age                        42.412365\n",
       "first_affiliate_tracked     2.208335\n",
       "first_browser              16.111226\n",
       "gender                     46.990169\n",
       "dtype: float64"
      ]
     },
     "execution_count": 9,
     "metadata": {},
     "output_type": "execute_result"
    }
   ],
   "source": [
    "users_nan = (users.isnull().sum() / users.shape[0]) * 100\n",
    "users_nan[users_nan > 0].drop('country_destination')"
   ]
  },
  {
   "cell_type": "code",
   "execution_count": 10,
   "metadata": {
    "ExecuteTime": {
     "end_time": "2019-11-16T16:31:20.950003Z",
     "start_time": "2019-11-16T16:31:20.916001Z"
    }
   },
   "outputs": [
    {
     "data": {
      "text/plain": [
       "count    158681.000000\n",
       "mean         47.145310\n",
       "std         142.629468\n",
       "min           1.000000\n",
       "25%          28.000000\n",
       "50%          33.000000\n",
       "75%          42.000000\n",
       "max        2014.000000\n",
       "Name: age, dtype: float64"
      ]
     },
     "execution_count": 10,
     "metadata": {},
     "output_type": "execute_result"
    }
   ],
   "source": [
    "users['age'].describe()"
   ]
  },
  {
   "cell_type": "markdown",
   "metadata": {},
   "source": [
    "see above 85 and below 18"
   ]
  },
  {
   "cell_type": "code",
   "execution_count": 11,
   "metadata": {
    "ExecuteTime": {
     "end_time": "2019-11-16T16:31:21.041000Z",
     "start_time": "2019-11-16T16:31:20.954001Z"
    }
   },
   "outputs": [
    {
     "name": "stdout",
     "output_type": "stream",
     "text": [
      "Users with age greater than 100 : 2690\n",
      "Users with age less than 18 : 188\n"
     ]
    }
   ],
   "source": [
    "print('Users with age greater than 100 : ' + str(sum(users.age > 100)))\n",
    "print('Users with age less than 18 : ' + str(sum(users.age < 18)))"
   ]
  },
  {
   "cell_type": "markdown",
   "metadata": {},
   "source": [
    "Looking at the data with age more than 85 we can see that these seem to be year values . So these are possibly user entry errors which the system didnt validate."
   ]
  },
  {
   "cell_type": "code",
   "execution_count": 12,
   "metadata": {
    "ExecuteTime": {
     "end_time": "2019-11-16T16:31:21.060001Z",
     "start_time": "2019-11-16T16:31:21.043013Z"
    }
   },
   "outputs": [
    {
     "data": {
      "text/plain": [
       "count    2690.000000\n",
       "mean      690.957249\n",
       "std       877.927570\n",
       "min       101.000000\n",
       "25%       105.000000\n",
       "50%       105.000000\n",
       "75%      2014.000000\n",
       "max      2014.000000\n",
       "Name: age, dtype: float64"
      ]
     },
     "execution_count": 12,
     "metadata": {},
     "output_type": "execute_result"
    }
   ],
   "source": [
    "users[users['age'] > 100]['age'].describe()"
   ]
  },
  {
   "cell_type": "markdown",
   "metadata": {},
   "source": [
    "The values below 18 summarized below also seem to be user entry errors which needs to be corrected . We have set these values to Nan so that they dont adversely affect our models."
   ]
  },
  {
   "cell_type": "code",
   "execution_count": 13,
   "metadata": {
    "ExecuteTime": {
     "end_time": "2019-11-16T16:31:21.076004Z",
     "start_time": "2019-11-16T16:31:21.062001Z"
    }
   },
   "outputs": [
    {
     "data": {
      "text/plain": [
       "count    188.000000\n",
       "mean      12.718085\n",
       "std        5.764569\n",
       "min        1.000000\n",
       "25%        5.000000\n",
       "50%       16.000000\n",
       "75%       17.000000\n",
       "max       17.000000\n",
       "Name: age, dtype: float64"
      ]
     },
     "execution_count": 13,
     "metadata": {},
     "output_type": "execute_result"
    }
   ],
   "source": [
    "users[users['age'] < 18]['age'].describe()"
   ]
  },
  {
   "cell_type": "code",
   "execution_count": 14,
   "metadata": {
    "ExecuteTime": {
     "end_time": "2019-11-16T16:31:21.152003Z",
     "start_time": "2019-11-16T16:31:21.079002Z"
    }
   },
   "outputs": [],
   "source": [
    "user_with_year_age_mask = users['age'] > 1000\n",
    "users.loc[user_with_year_age_mask, 'age'] = 2015 - users.loc[user_with_year_age_mask, 'age']"
   ]
  },
  {
   "cell_type": "code",
   "execution_count": 15,
   "metadata": {
    "ExecuteTime": {
     "end_time": "2019-11-16T16:31:21.170999Z",
     "start_time": "2019-11-16T16:31:21.155005Z"
    }
   },
   "outputs": [],
   "source": [
    "users.loc[(users['age'] > 100) | (users['age'] < 18), 'age'] = -1"
   ]
  },
  {
   "cell_type": "code",
   "execution_count": 16,
   "metadata": {
    "ExecuteTime": {
     "end_time": "2019-11-16T16:31:21.181002Z",
     "start_time": "2019-11-16T16:31:21.173002Z"
    }
   },
   "outputs": [],
   "source": [
    "users['age'].fillna(-1, inplace=True)"
   ]
  },
  {
   "cell_type": "markdown",
   "metadata": {},
   "source": [
    "##### Convert to the right data type\n",
    "\n",
    "Categorical Data:\n",
    "   - affiliate_channel\n",
    "   - affiliate_provider\n",
    "   - country_destination\n",
    "   - first_affiliate_tracked\n",
    "   - first_browser\n",
    "   - first_device_type\n",
    "   - gender\n",
    "   - language\n",
    "   - signup_app\n",
    "   - signup_method\n",
    "\n",
    "Date :\n",
    "   - date_account_created\n",
    "   - date_first_booking\n",
    "   - date_first_active"
   ]
  },
  {
   "cell_type": "code",
   "execution_count": 17,
   "metadata": {
    "ExecuteTime": {
     "end_time": "2019-11-16T16:31:21.508034Z",
     "start_time": "2019-11-16T16:31:21.186001Z"
    }
   },
   "outputs": [],
   "source": [
    "categorical_features = [\n",
    "    'affiliate_channel',\n",
    "    'affiliate_provider',\n",
    "    'country_destination',\n",
    "    'first_affiliate_tracked',\n",
    "    'first_browser',\n",
    "    'first_device_type',\n",
    "    'gender',\n",
    "    'language',\n",
    "    'signup_app',\n",
    "    'signup_method'\n",
    "]\n",
    "\n",
    "for categorical_feature in categorical_features:\n",
    "    users[categorical_feature] = users[categorical_feature].astype('category')"
   ]
  },
  {
   "cell_type": "code",
   "execution_count": 18,
   "metadata": {
    "ExecuteTime": {
     "end_time": "2019-11-16T16:31:22.686001Z",
     "start_time": "2019-11-16T16:31:21.510002Z"
    }
   },
   "outputs": [],
   "source": [
    "users['date_account_created'] = pd.to_datetime(users['date_account_created'])\n",
    "users['date_first_active'] = pd.to_datetime(users['timestamp_first_active'], format='%Y%m%d%H%M%S')"
   ]
  },
  {
   "cell_type": "markdown",
   "metadata": {},
   "source": [
    "We further explore the month dependency by plotting the month of booking vs country destinations. We can see from the plot below that inaddition to the variations in the total number of bookings by month we also see a variations in the destination that was booked.\n",
    "For example from the plot below Australia has significantly higher bookings in months 11 and 12 (November and December) compared to other months."
   ]
  },
  {
   "cell_type": "markdown",
   "metadata": {},
   "source": [
    "### Preprocessing"
   ]
  },
  {
   "cell_type": "markdown",
   "metadata": {},
   "source": [
    "#### Age\n",
    "In the data exploration we already noted that the Age was key feature for predicting destinations. We are also aware of the outiers ie values greater than 85 and less than 18 . In this step we clean the outliers so that they dont adversely affect our model. \n",
    "\n",
    "Also , Age is really fine grained. We are going to make bins and fit each user in the proper age group so that we can predict it in categories. Below is a plot of the numbers of users in each Age group . Group 0 is largest which represents the users with no age data."
   ]
  },
  {
   "cell_type": "code",
   "execution_count": 19,
   "metadata": {
    "ExecuteTime": {
     "end_time": "2019-11-16T16:31:22.704001Z",
     "start_time": "2019-11-16T16:31:22.687999Z"
    }
   },
   "outputs": [],
   "source": [
    "bins = [-1, 20, 25, 30, 40, 50, 60, 75, 100]\n",
    "users['age_group'] = np.digitize(users['age'], bins, right=True)"
   ]
  },
  {
   "cell_type": "markdown",
   "metadata": {},
   "source": [
    "#### Date"
   ]
  },
  {
   "cell_type": "code",
   "execution_count": 20,
   "metadata": {
    "ExecuteTime": {
     "end_time": "2019-11-16T16:31:23.721998Z",
     "start_time": "2019-11-16T16:31:22.707002Z"
    }
   },
   "outputs": [],
   "source": [
    "users['date_account_created'] = pd.to_datetime(users['date_account_created'])\n",
    "users['date_first_active'] = pd.to_datetime(users['timestamp_first_active'], format='%Y%m%d%H%M%S')"
   ]
  },
  {
   "cell_type": "code",
   "execution_count": 21,
   "metadata": {
    "ExecuteTime": {
     "end_time": "2019-11-16T16:31:23.730003Z",
     "start_time": "2019-11-16T16:31:23.724000Z"
    }
   },
   "outputs": [],
   "source": [
    "date_account_created = pd.DatetimeIndex(users['date_account_created'])\n",
    "date_first_active = pd.DatetimeIndex(users['date_first_active'])"
   ]
  },
  {
   "cell_type": "code",
   "execution_count": 22,
   "metadata": {
    "ExecuteTime": {
     "end_time": "2019-11-16T16:31:24.007996Z",
     "start_time": "2019-11-16T16:31:23.734001Z"
    }
   },
   "outputs": [],
   "source": [
    "users['day_account_created'] = date_account_created.day\n",
    "users['weekday_account_created'] = date_account_created.weekday\n",
    "users['week_account_created'] = date_account_created.week\n",
    "users['month_account_created'] = date_account_created.month\n",
    "users['year_account_created'] = date_account_created.year\n",
    "users['hours_account_created'] = date_account_created.hour\n",
    "\n",
    "users['day_first_active'] = date_first_active.day\n",
    "users['weekday_first_active'] = date_first_active.weekday\n",
    "users['week_first_active'] = date_first_active.week\n",
    "users['month_first_active'] = date_first_active.month\n",
    "users['year_first_active'] = date_first_active.year\n",
    "users['hours_first_active'] = date_first_active.hour"
   ]
  },
  {
   "cell_type": "code",
   "execution_count": 23,
   "metadata": {
    "ExecuteTime": {
     "end_time": "2019-11-16T16:31:24.038001Z",
     "start_time": "2019-11-16T16:31:24.014002Z"
    }
   },
   "outputs": [],
   "source": [
    "users['time_lag'] =(date_account_created - date_first_active).days"
   ]
  },
  {
   "cell_type": "code",
   "execution_count": 24,
   "metadata": {
    "ExecuteTime": {
     "end_time": "2019-11-16T16:31:24.111998Z",
     "start_time": "2019-11-16T16:31:24.042003Z"
    }
   },
   "outputs": [],
   "source": [
    "drop_list = ['date_account_created','date_first_active'\n",
    "             ,'timestamp_first_active','age']\n",
    "\n",
    "users.drop(drop_list, axis=1, inplace=True)"
   ]
  },
  {
   "cell_type": "markdown",
   "metadata": {},
   "source": [
    "#### Session"
   ]
  },
  {
   "cell_type": "code",
   "execution_count": 25,
   "metadata": {
    "ExecuteTime": {
     "end_time": "2019-11-16T16:31:24.425105Z",
     "start_time": "2019-11-16T16:31:24.113999Z"
    }
   },
   "outputs": [],
   "source": [
    "sessions.rename(columns = {'user_id': 'id'}, inplace=True)"
   ]
  },
  {
   "cell_type": "code",
   "execution_count": 26,
   "metadata": {
    "ExecuteTime": {
     "end_time": "2019-11-16T16:33:35.975236Z",
     "start_time": "2019-11-16T16:31:24.427005Z"
    }
   },
   "outputs": [
    {
     "name": "stderr",
     "output_type": "stream",
     "text": [
      "C:\\Users\\Asyariati\\Anaconda3\\lib\\site-packages\\ipykernel_launcher.py:18: FutureWarning: Sorting because non-concatenation axis is not aligned. A future version\n",
      "of pandas will change to not sort by default.\n",
      "\n",
      "To accept the future behavior, pass 'sort=False'.\n",
      "\n",
      "To retain the current behavior and silence the warning, pass 'sort=True'.\n",
      "\n"
     ]
    }
   ],
   "source": [
    "action_count = sessions.groupby(['id'])['action'].nunique()\n",
    "\n",
    "action_type_count = sessions.groupby(['id', 'action_type'])['secs_elapsed'].agg(len).unstack()\n",
    "action_type_count.columns = action_type_count.columns.map(lambda x: str(x) + '_count')\n",
    "action_type_sum = sessions.groupby(['id', 'action_type'])['secs_elapsed'].agg(sum)\n",
    "\n",
    "action_type_pcts = action_type_sum.groupby(level=0).apply(lambda x:100 * x / float(x.sum())).unstack()\n",
    "action_type_pcts.columns = action_type_pcts.columns.map(lambda x: str(x) + '_pct')\n",
    "\n",
    "action_type_sum = action_type_sum.unstack()\n",
    "action_type_sum.columns = action_type_sum.columns.map(lambda x: str(x) + '_sum')\n",
    "action_detail_count = sessions.groupby(['id'])['action_detail'].nunique()\n",
    "\n",
    "\n",
    "device_type_sum = sessions.groupby(['id'])['device_type'].nunique()\n",
    "\n",
    "\n",
    "sessions_data = pd.concat([action_count, action_type_count, action_type_sum,action_type_pcts,action_detail_count, device_type_sum],axis=1)\n",
    "del action_count, action_type_count, action_detail_count, device_type_sum"
   ]
  },
  {
   "cell_type": "code",
   "execution_count": 27,
   "metadata": {
    "ExecuteTime": {
     "end_time": "2019-11-16T16:33:51.975133Z",
     "start_time": "2019-11-16T16:33:35.977162Z"
    }
   },
   "outputs": [],
   "source": [
    "sessions_data['most_used_device'] = sessions.groupby('id')['device_type'].max()"
   ]
  },
  {
   "cell_type": "code",
   "execution_count": 28,
   "metadata": {
    "ExecuteTime": {
     "end_time": "2019-11-16T16:33:52.017136Z",
     "start_time": "2019-11-16T16:33:51.977147Z"
    }
   },
   "outputs": [
    {
     "data": {
      "text/html": [
       "<div>\n",
       "<style scoped>\n",
       "    .dataframe tbody tr th:only-of-type {\n",
       "        vertical-align: middle;\n",
       "    }\n",
       "\n",
       "    .dataframe tbody tr th {\n",
       "        vertical-align: top;\n",
       "    }\n",
       "\n",
       "    .dataframe thead th {\n",
       "        text-align: right;\n",
       "    }\n",
       "</style>\n",
       "<table border=\"1\" class=\"dataframe\">\n",
       "  <thead>\n",
       "    <tr style=\"text-align: right;\">\n",
       "      <th></th>\n",
       "      <th>action</th>\n",
       "      <th>-unknown-_count</th>\n",
       "      <th>booking_request_count</th>\n",
       "      <th>booking_response_count</th>\n",
       "      <th>click_count</th>\n",
       "      <th>data_count</th>\n",
       "      <th>message_post_count</th>\n",
       "      <th>modify_count</th>\n",
       "      <th>partner_callback_count</th>\n",
       "      <th>submit_count</th>\n",
       "      <th>...</th>\n",
       "      <th>click_pct</th>\n",
       "      <th>data_pct</th>\n",
       "      <th>message_post_pct</th>\n",
       "      <th>modify_pct</th>\n",
       "      <th>partner_callback_pct</th>\n",
       "      <th>submit_pct</th>\n",
       "      <th>view_pct</th>\n",
       "      <th>action_detail</th>\n",
       "      <th>device_type</th>\n",
       "      <th>most_used_device</th>\n",
       "    </tr>\n",
       "  </thead>\n",
       "  <tbody>\n",
       "    <tr>\n",
       "      <th>00023iyk9l</th>\n",
       "      <td>13</td>\n",
       "      <td>NaN</td>\n",
       "      <td>1.0</td>\n",
       "      <td>NaN</td>\n",
       "      <td>4.0</td>\n",
       "      <td>9.0</td>\n",
       "      <td>1.0</td>\n",
       "      <td>NaN</td>\n",
       "      <td>1.0</td>\n",
       "      <td>NaN</td>\n",
       "      <td>...</td>\n",
       "      <td>68.136816</td>\n",
       "      <td>0.812417</td>\n",
       "      <td>14.974525</td>\n",
       "      <td>NaN</td>\n",
       "      <td>0.0</td>\n",
       "      <td>NaN</td>\n",
       "      <td>16.076242</td>\n",
       "      <td>13</td>\n",
       "      <td>2</td>\n",
       "      <td>iPhone</td>\n",
       "    </tr>\n",
       "    <tr>\n",
       "      <th>0010k6l0om</th>\n",
       "      <td>11</td>\n",
       "      <td>5.0</td>\n",
       "      <td>NaN</td>\n",
       "      <td>NaN</td>\n",
       "      <td>16.0</td>\n",
       "      <td>9.0</td>\n",
       "      <td>NaN</td>\n",
       "      <td>NaN</td>\n",
       "      <td>1.0</td>\n",
       "      <td>NaN</td>\n",
       "      <td>...</td>\n",
       "      <td>11.265926</td>\n",
       "      <td>23.272848</td>\n",
       "      <td>NaN</td>\n",
       "      <td>NaN</td>\n",
       "      <td>0.0</td>\n",
       "      <td>NaN</td>\n",
       "      <td>44.445355</td>\n",
       "      <td>8</td>\n",
       "      <td>1</td>\n",
       "      <td>Mac Desktop</td>\n",
       "    </tr>\n",
       "    <tr>\n",
       "      <th>001wyh0pz8</th>\n",
       "      <td>10</td>\n",
       "      <td>6.0</td>\n",
       "      <td>NaN</td>\n",
       "      <td>NaN</td>\n",
       "      <td>66.0</td>\n",
       "      <td>2.0</td>\n",
       "      <td>NaN</td>\n",
       "      <td>NaN</td>\n",
       "      <td>NaN</td>\n",
       "      <td>3.0</td>\n",
       "      <td>...</td>\n",
       "      <td>57.131344</td>\n",
       "      <td>0.557656</td>\n",
       "      <td>NaN</td>\n",
       "      <td>NaN</td>\n",
       "      <td>NaN</td>\n",
       "      <td>18.314871</td>\n",
       "      <td>16.015888</td>\n",
       "      <td>9</td>\n",
       "      <td>1</td>\n",
       "      <td>Android App Unknown Phone/Tablet</td>\n",
       "    </tr>\n",
       "    <tr>\n",
       "      <th>0028jgx1x1</th>\n",
       "      <td>5</td>\n",
       "      <td>1.0</td>\n",
       "      <td>NaN</td>\n",
       "      <td>NaN</td>\n",
       "      <td>9.0</td>\n",
       "      <td>5.0</td>\n",
       "      <td>NaN</td>\n",
       "      <td>NaN</td>\n",
       "      <td>NaN</td>\n",
       "      <td>1.0</td>\n",
       "      <td>...</td>\n",
       "      <td>67.271136</td>\n",
       "      <td>2.896535</td>\n",
       "      <td>NaN</td>\n",
       "      <td>NaN</td>\n",
       "      <td>NaN</td>\n",
       "      <td>0.000000</td>\n",
       "      <td>29.667688</td>\n",
       "      <td>6</td>\n",
       "      <td>2</td>\n",
       "      <td>Android Phone</td>\n",
       "    </tr>\n",
       "    <tr>\n",
       "      <th>002qnbzfs5</th>\n",
       "      <td>25</td>\n",
       "      <td>184.0</td>\n",
       "      <td>1.0</td>\n",
       "      <td>NaN</td>\n",
       "      <td>140.0</td>\n",
       "      <td>140.0</td>\n",
       "      <td>16.0</td>\n",
       "      <td>NaN</td>\n",
       "      <td>NaN</td>\n",
       "      <td>15.0</td>\n",
       "      <td>...</td>\n",
       "      <td>16.542727</td>\n",
       "      <td>7.541525</td>\n",
       "      <td>8.350274</td>\n",
       "      <td>NaN</td>\n",
       "      <td>NaN</td>\n",
       "      <td>39.480300</td>\n",
       "      <td>7.310454</td>\n",
       "      <td>22</td>\n",
       "      <td>2</td>\n",
       "      <td>iPhone</td>\n",
       "    </tr>\n",
       "  </tbody>\n",
       "</table>\n",
       "<p>5 rows × 34 columns</p>\n",
       "</div>"
      ],
      "text/plain": [
       "            action  -unknown-_count  booking_request_count  \\\n",
       "00023iyk9l      13              NaN                    1.0   \n",
       "0010k6l0om      11              5.0                    NaN   \n",
       "001wyh0pz8      10              6.0                    NaN   \n",
       "0028jgx1x1       5              1.0                    NaN   \n",
       "002qnbzfs5      25            184.0                    1.0   \n",
       "\n",
       "            booking_response_count  click_count  data_count  \\\n",
       "00023iyk9l                     NaN          4.0         9.0   \n",
       "0010k6l0om                     NaN         16.0         9.0   \n",
       "001wyh0pz8                     NaN         66.0         2.0   \n",
       "0028jgx1x1                     NaN          9.0         5.0   \n",
       "002qnbzfs5                     NaN        140.0       140.0   \n",
       "\n",
       "            message_post_count  modify_count  partner_callback_count  \\\n",
       "00023iyk9l                 1.0           NaN                     1.0   \n",
       "0010k6l0om                 NaN           NaN                     1.0   \n",
       "001wyh0pz8                 NaN           NaN                     NaN   \n",
       "0028jgx1x1                 NaN           NaN                     NaN   \n",
       "002qnbzfs5                16.0           NaN                     NaN   \n",
       "\n",
       "            submit_count  ...  click_pct   data_pct  message_post_pct  \\\n",
       "00023iyk9l           NaN  ...  68.136816   0.812417         14.974525   \n",
       "0010k6l0om           NaN  ...  11.265926  23.272848               NaN   \n",
       "001wyh0pz8           3.0  ...  57.131344   0.557656               NaN   \n",
       "0028jgx1x1           1.0  ...  67.271136   2.896535               NaN   \n",
       "002qnbzfs5          15.0  ...  16.542727   7.541525          8.350274   \n",
       "\n",
       "            modify_pct  partner_callback_pct  submit_pct   view_pct  \\\n",
       "00023iyk9l         NaN                   0.0         NaN  16.076242   \n",
       "0010k6l0om         NaN                   0.0         NaN  44.445355   \n",
       "001wyh0pz8         NaN                   NaN   18.314871  16.015888   \n",
       "0028jgx1x1         NaN                   NaN    0.000000  29.667688   \n",
       "002qnbzfs5         NaN                   NaN   39.480300   7.310454   \n",
       "\n",
       "            action_detail  device_type                  most_used_device  \n",
       "00023iyk9l             13            2                            iPhone  \n",
       "0010k6l0om              8            1                       Mac Desktop  \n",
       "001wyh0pz8              9            1  Android App Unknown Phone/Tablet  \n",
       "0028jgx1x1              6            2                     Android Phone  \n",
       "002qnbzfs5             22            2                            iPhone  \n",
       "\n",
       "[5 rows x 34 columns]"
      ]
     },
     "execution_count": 28,
     "metadata": {},
     "output_type": "execute_result"
    }
   ],
   "source": [
    "sessions_data.head()"
   ]
  },
  {
   "cell_type": "code",
   "execution_count": 29,
   "metadata": {
    "ExecuteTime": {
     "end_time": "2019-11-16T16:33:52.031131Z",
     "start_time": "2019-11-16T16:33:52.022137Z"
    }
   },
   "outputs": [],
   "source": [
    "sessions_data.index.names = ['id']\n",
    "sessions_data.reset_index(inplace=True)"
   ]
  },
  {
   "cell_type": "code",
   "execution_count": 30,
   "metadata": {
    "ExecuteTime": {
     "end_time": "2019-11-16T16:36:15.942158Z",
     "start_time": "2019-11-16T16:33:52.036133Z"
    }
   },
   "outputs": [
    {
     "name": "stderr",
     "output_type": "stream",
     "text": [
      "C:\\Users\\Asyariati\\Anaconda3\\lib\\site-packages\\ipykernel_launcher.py:15: FutureWarning: using a dict on a Series for aggregation\n",
      "is deprecated and will be removed in a future version\n",
      "  from ipykernel import kernelapp as app\n"
     ]
    }
   ],
   "source": [
    "secs_elapsed = sessions.groupby('id')['secs_elapsed']\n",
    "\n",
    "secs_elapsed = secs_elapsed.agg(\n",
    "    {\n",
    "        'secs_elapsed_sum': np.sum,\n",
    "        'secs_elapsed_mean': np.mean,\n",
    "        'secs_elapsed_min': np.min,\n",
    "        'secs_elapsed_max': np.max,\n",
    "        'secs_elapsed_median': np.median,\n",
    "        'secs_elapsed_std': np.std,\n",
    "        'secs_elapsed_var': np.var,\n",
    "        'day_pauses': lambda x: (x > 86400).sum(),\n",
    "        'long_pauses': lambda x: (x > 300000).sum(),\n",
    "        'short_pauses': lambda x: (x < 3600).sum(),\n",
    "        'session_length' : np.count_nonzero})\n"
   ]
  },
  {
   "cell_type": "code",
   "execution_count": 31,
   "metadata": {
    "ExecuteTime": {
     "end_time": "2019-11-16T16:36:16.171136Z",
     "start_time": "2019-11-16T16:36:15.944135Z"
    }
   },
   "outputs": [],
   "source": [
    "secs_elapsed.reset_index(inplace=True)\n",
    "sessions_secs_elapsed = pd.merge(sessions_data, secs_elapsed, on='id', how='left')"
   ]
  },
  {
   "cell_type": "code",
   "execution_count": 32,
   "metadata": {
    "ExecuteTime": {
     "end_time": "2019-11-16T16:36:16.204133Z",
     "start_time": "2019-11-16T16:36:16.174133Z"
    }
   },
   "outputs": [
    {
     "data": {
      "text/html": [
       "<div>\n",
       "<style scoped>\n",
       "    .dataframe tbody tr th:only-of-type {\n",
       "        vertical-align: middle;\n",
       "    }\n",
       "\n",
       "    .dataframe tbody tr th {\n",
       "        vertical-align: top;\n",
       "    }\n",
       "\n",
       "    .dataframe thead th {\n",
       "        text-align: right;\n",
       "    }\n",
       "</style>\n",
       "<table border=\"1\" class=\"dataframe\">\n",
       "  <thead>\n",
       "    <tr style=\"text-align: right;\">\n",
       "      <th></th>\n",
       "      <th>id</th>\n",
       "      <th>action</th>\n",
       "      <th>-unknown-_count</th>\n",
       "      <th>booking_request_count</th>\n",
       "      <th>booking_response_count</th>\n",
       "      <th>click_count</th>\n",
       "      <th>data_count</th>\n",
       "      <th>message_post_count</th>\n",
       "      <th>modify_count</th>\n",
       "      <th>partner_callback_count</th>\n",
       "      <th>...</th>\n",
       "      <th>secs_elapsed_mean</th>\n",
       "      <th>secs_elapsed_min</th>\n",
       "      <th>secs_elapsed_max</th>\n",
       "      <th>secs_elapsed_median</th>\n",
       "      <th>secs_elapsed_std</th>\n",
       "      <th>secs_elapsed_var</th>\n",
       "      <th>day_pauses</th>\n",
       "      <th>long_pauses</th>\n",
       "      <th>short_pauses</th>\n",
       "      <th>session_length</th>\n",
       "    </tr>\n",
       "  </thead>\n",
       "  <tbody>\n",
       "    <tr>\n",
       "      <th>0</th>\n",
       "      <td>00023iyk9l</td>\n",
       "      <td>13</td>\n",
       "      <td>NaN</td>\n",
       "      <td>1.0</td>\n",
       "      <td>NaN</td>\n",
       "      <td>4.0</td>\n",
       "      <td>9.0</td>\n",
       "      <td>1.0</td>\n",
       "      <td>NaN</td>\n",
       "      <td>1.0</td>\n",
       "      <td>...</td>\n",
       "      <td>22253.743590</td>\n",
       "      <td>0.0</td>\n",
       "      <td>567165.0</td>\n",
       "      <td>850.0</td>\n",
       "      <td>92242.561900</td>\n",
       "      <td>8.508690e+09</td>\n",
       "      <td>2.0</td>\n",
       "      <td>1.0</td>\n",
       "      <td>29.0</td>\n",
       "      <td>39.0</td>\n",
       "    </tr>\n",
       "    <tr>\n",
       "      <th>1</th>\n",
       "      <td>0010k6l0om</td>\n",
       "      <td>11</td>\n",
       "      <td>5.0</td>\n",
       "      <td>NaN</td>\n",
       "      <td>NaN</td>\n",
       "      <td>16.0</td>\n",
       "      <td>9.0</td>\n",
       "      <td>NaN</td>\n",
       "      <td>NaN</td>\n",
       "      <td>1.0</td>\n",
       "      <td>...</td>\n",
       "      <td>9460.370968</td>\n",
       "      <td>3.0</td>\n",
       "      <td>127898.0</td>\n",
       "      <td>948.5</td>\n",
       "      <td>22751.227918</td>\n",
       "      <td>5.176184e+08</td>\n",
       "      <td>2.0</td>\n",
       "      <td>0.0</td>\n",
       "      <td>46.0</td>\n",
       "      <td>63.0</td>\n",
       "    </tr>\n",
       "    <tr>\n",
       "      <th>2</th>\n",
       "      <td>001wyh0pz8</td>\n",
       "      <td>10</td>\n",
       "      <td>6.0</td>\n",
       "      <td>NaN</td>\n",
       "      <td>NaN</td>\n",
       "      <td>66.0</td>\n",
       "      <td>2.0</td>\n",
       "      <td>NaN</td>\n",
       "      <td>NaN</td>\n",
       "      <td>NaN</td>\n",
       "      <td>...</td>\n",
       "      <td>3179.382022</td>\n",
       "      <td>35.0</td>\n",
       "      <td>50548.0</td>\n",
       "      <td>1105.0</td>\n",
       "      <td>6569.648182</td>\n",
       "      <td>4.316028e+07</td>\n",
       "      <td>0.0</td>\n",
       "      <td>0.0</td>\n",
       "      <td>71.0</td>\n",
       "      <td>90.0</td>\n",
       "    </tr>\n",
       "    <tr>\n",
       "      <th>3</th>\n",
       "      <td>0028jgx1x1</td>\n",
       "      <td>5</td>\n",
       "      <td>1.0</td>\n",
       "      <td>NaN</td>\n",
       "      <td>NaN</td>\n",
       "      <td>9.0</td>\n",
       "      <td>5.0</td>\n",
       "      <td>NaN</td>\n",
       "      <td>NaN</td>\n",
       "      <td>NaN</td>\n",
       "      <td>...</td>\n",
       "      <td>9900.333333</td>\n",
       "      <td>3.0</td>\n",
       "      <td>84636.0</td>\n",
       "      <td>1614.0</td>\n",
       "      <td>18004.964337</td>\n",
       "      <td>3.241787e+08</td>\n",
       "      <td>0.0</td>\n",
       "      <td>0.0</td>\n",
       "      <td>17.0</td>\n",
       "      <td>31.0</td>\n",
       "    </tr>\n",
       "    <tr>\n",
       "      <th>4</th>\n",
       "      <td>002qnbzfs5</td>\n",
       "      <td>25</td>\n",
       "      <td>184.0</td>\n",
       "      <td>1.0</td>\n",
       "      <td>NaN</td>\n",
       "      <td>140.0</td>\n",
       "      <td>140.0</td>\n",
       "      <td>16.0</td>\n",
       "      <td>NaN</td>\n",
       "      <td>NaN</td>\n",
       "      <td>...</td>\n",
       "      <td>8232.335025</td>\n",
       "      <td>0.0</td>\n",
       "      <td>1418284.0</td>\n",
       "      <td>498.0</td>\n",
       "      <td>58110.646170</td>\n",
       "      <td>3.376847e+09</td>\n",
       "      <td>13.0</td>\n",
       "      <td>3.0</td>\n",
       "      <td>602.0</td>\n",
       "      <td>787.0</td>\n",
       "    </tr>\n",
       "  </tbody>\n",
       "</table>\n",
       "<p>5 rows × 46 columns</p>\n",
       "</div>"
      ],
      "text/plain": [
       "           id  action  -unknown-_count  booking_request_count  \\\n",
       "0  00023iyk9l      13              NaN                    1.0   \n",
       "1  0010k6l0om      11              5.0                    NaN   \n",
       "2  001wyh0pz8      10              6.0                    NaN   \n",
       "3  0028jgx1x1       5              1.0                    NaN   \n",
       "4  002qnbzfs5      25            184.0                    1.0   \n",
       "\n",
       "   booking_response_count  click_count  data_count  message_post_count  \\\n",
       "0                     NaN          4.0         9.0                 1.0   \n",
       "1                     NaN         16.0         9.0                 NaN   \n",
       "2                     NaN         66.0         2.0                 NaN   \n",
       "3                     NaN          9.0         5.0                 NaN   \n",
       "4                     NaN        140.0       140.0                16.0   \n",
       "\n",
       "   modify_count  partner_callback_count  ...  secs_elapsed_mean  \\\n",
       "0           NaN                     1.0  ...       22253.743590   \n",
       "1           NaN                     1.0  ...        9460.370968   \n",
       "2           NaN                     NaN  ...        3179.382022   \n",
       "3           NaN                     NaN  ...        9900.333333   \n",
       "4           NaN                     NaN  ...        8232.335025   \n",
       "\n",
       "   secs_elapsed_min  secs_elapsed_max  secs_elapsed_median  secs_elapsed_std  \\\n",
       "0               0.0          567165.0                850.0      92242.561900   \n",
       "1               3.0          127898.0                948.5      22751.227918   \n",
       "2              35.0           50548.0               1105.0       6569.648182   \n",
       "3               3.0           84636.0               1614.0      18004.964337   \n",
       "4               0.0         1418284.0                498.0      58110.646170   \n",
       "\n",
       "   secs_elapsed_var  day_pauses  long_pauses  short_pauses  session_length  \n",
       "0      8.508690e+09         2.0          1.0          29.0            39.0  \n",
       "1      5.176184e+08         2.0          0.0          46.0            63.0  \n",
       "2      4.316028e+07         0.0          0.0          71.0            90.0  \n",
       "3      3.241787e+08         0.0          0.0          17.0            31.0  \n",
       "4      3.376847e+09        13.0          3.0         602.0           787.0  \n",
       "\n",
       "[5 rows x 46 columns]"
      ]
     },
     "execution_count": 32,
     "metadata": {},
     "output_type": "execute_result"
    }
   ],
   "source": [
    "sessions_secs_elapsed.head()"
   ]
  },
  {
   "cell_type": "code",
   "execution_count": 33,
   "metadata": {
    "ExecuteTime": {
     "end_time": "2019-11-16T16:36:16.242132Z",
     "start_time": "2019-11-16T16:36:16.207136Z"
    }
   },
   "outputs": [
    {
     "data": {
      "text/html": [
       "<div>\n",
       "<style scoped>\n",
       "    .dataframe tbody tr th:only-of-type {\n",
       "        vertical-align: middle;\n",
       "    }\n",
       "\n",
       "    .dataframe tbody tr th {\n",
       "        vertical-align: top;\n",
       "    }\n",
       "\n",
       "    .dataframe thead th {\n",
       "        text-align: right;\n",
       "    }\n",
       "</style>\n",
       "<table border=\"1\" class=\"dataframe\">\n",
       "  <thead>\n",
       "    <tr style=\"text-align: right;\">\n",
       "      <th></th>\n",
       "      <th>affiliate_channel</th>\n",
       "      <th>affiliate_provider</th>\n",
       "      <th>country_destination</th>\n",
       "      <th>first_affiliate_tracked</th>\n",
       "      <th>first_browser</th>\n",
       "      <th>first_device_type</th>\n",
       "      <th>gender</th>\n",
       "      <th>language</th>\n",
       "      <th>signup_app</th>\n",
       "      <th>signup_flow</th>\n",
       "      <th>...</th>\n",
       "      <th>month_account_created</th>\n",
       "      <th>year_account_created</th>\n",
       "      <th>hours_account_created</th>\n",
       "      <th>day_first_active</th>\n",
       "      <th>weekday_first_active</th>\n",
       "      <th>week_first_active</th>\n",
       "      <th>month_first_active</th>\n",
       "      <th>year_first_active</th>\n",
       "      <th>hours_first_active</th>\n",
       "      <th>time_lag</th>\n",
       "    </tr>\n",
       "    <tr>\n",
       "      <th>id</th>\n",
       "      <th></th>\n",
       "      <th></th>\n",
       "      <th></th>\n",
       "      <th></th>\n",
       "      <th></th>\n",
       "      <th></th>\n",
       "      <th></th>\n",
       "      <th></th>\n",
       "      <th></th>\n",
       "      <th></th>\n",
       "      <th></th>\n",
       "      <th></th>\n",
       "      <th></th>\n",
       "      <th></th>\n",
       "      <th></th>\n",
       "      <th></th>\n",
       "      <th></th>\n",
       "      <th></th>\n",
       "      <th></th>\n",
       "      <th></th>\n",
       "      <th></th>\n",
       "    </tr>\n",
       "  </thead>\n",
       "  <tbody>\n",
       "    <tr>\n",
       "      <th>gxn3p5htnn</th>\n",
       "      <td>direct</td>\n",
       "      <td>direct</td>\n",
       "      <td>NDF</td>\n",
       "      <td>untracked</td>\n",
       "      <td>Chrome</td>\n",
       "      <td>Mac Desktop</td>\n",
       "      <td>NaN</td>\n",
       "      <td>en</td>\n",
       "      <td>Web</td>\n",
       "      <td>0</td>\n",
       "      <td>...</td>\n",
       "      <td>6</td>\n",
       "      <td>2010</td>\n",
       "      <td>0</td>\n",
       "      <td>19</td>\n",
       "      <td>3</td>\n",
       "      <td>12</td>\n",
       "      <td>3</td>\n",
       "      <td>2009</td>\n",
       "      <td>4</td>\n",
       "      <td>465</td>\n",
       "    </tr>\n",
       "    <tr>\n",
       "      <th>820tgsjxq7</th>\n",
       "      <td>seo</td>\n",
       "      <td>google</td>\n",
       "      <td>NDF</td>\n",
       "      <td>untracked</td>\n",
       "      <td>Chrome</td>\n",
       "      <td>Mac Desktop</td>\n",
       "      <td>MALE</td>\n",
       "      <td>en</td>\n",
       "      <td>Web</td>\n",
       "      <td>0</td>\n",
       "      <td>...</td>\n",
       "      <td>5</td>\n",
       "      <td>2011</td>\n",
       "      <td>0</td>\n",
       "      <td>23</td>\n",
       "      <td>5</td>\n",
       "      <td>21</td>\n",
       "      <td>5</td>\n",
       "      <td>2009</td>\n",
       "      <td>17</td>\n",
       "      <td>731</td>\n",
       "    </tr>\n",
       "    <tr>\n",
       "      <th>4ft3gnwmtx</th>\n",
       "      <td>direct</td>\n",
       "      <td>direct</td>\n",
       "      <td>US</td>\n",
       "      <td>untracked</td>\n",
       "      <td>IE</td>\n",
       "      <td>Windows Desktop</td>\n",
       "      <td>FEMALE</td>\n",
       "      <td>en</td>\n",
       "      <td>Web</td>\n",
       "      <td>3</td>\n",
       "      <td>...</td>\n",
       "      <td>9</td>\n",
       "      <td>2010</td>\n",
       "      <td>0</td>\n",
       "      <td>9</td>\n",
       "      <td>1</td>\n",
       "      <td>24</td>\n",
       "      <td>6</td>\n",
       "      <td>2009</td>\n",
       "      <td>23</td>\n",
       "      <td>475</td>\n",
       "    </tr>\n",
       "    <tr>\n",
       "      <th>bjjt8pjhuk</th>\n",
       "      <td>direct</td>\n",
       "      <td>direct</td>\n",
       "      <td>other</td>\n",
       "      <td>untracked</td>\n",
       "      <td>Firefox</td>\n",
       "      <td>Mac Desktop</td>\n",
       "      <td>FEMALE</td>\n",
       "      <td>en</td>\n",
       "      <td>Web</td>\n",
       "      <td>0</td>\n",
       "      <td>...</td>\n",
       "      <td>12</td>\n",
       "      <td>2011</td>\n",
       "      <td>0</td>\n",
       "      <td>31</td>\n",
       "      <td>5</td>\n",
       "      <td>44</td>\n",
       "      <td>10</td>\n",
       "      <td>2009</td>\n",
       "      <td>6</td>\n",
       "      <td>764</td>\n",
       "    </tr>\n",
       "    <tr>\n",
       "      <th>87mebub9p4</th>\n",
       "      <td>direct</td>\n",
       "      <td>direct</td>\n",
       "      <td>US</td>\n",
       "      <td>untracked</td>\n",
       "      <td>Chrome</td>\n",
       "      <td>Mac Desktop</td>\n",
       "      <td>NaN</td>\n",
       "      <td>en</td>\n",
       "      <td>Web</td>\n",
       "      <td>0</td>\n",
       "      <td>...</td>\n",
       "      <td>9</td>\n",
       "      <td>2010</td>\n",
       "      <td>0</td>\n",
       "      <td>8</td>\n",
       "      <td>1</td>\n",
       "      <td>50</td>\n",
       "      <td>12</td>\n",
       "      <td>2009</td>\n",
       "      <td>6</td>\n",
       "      <td>279</td>\n",
       "    </tr>\n",
       "  </tbody>\n",
       "</table>\n",
       "<p>5 rows × 25 columns</p>\n",
       "</div>"
      ],
      "text/plain": [
       "           affiliate_channel affiliate_provider country_destination  \\\n",
       "id                                                                    \n",
       "gxn3p5htnn            direct             direct                 NDF   \n",
       "820tgsjxq7               seo             google                 NDF   \n",
       "4ft3gnwmtx            direct             direct                  US   \n",
       "bjjt8pjhuk            direct             direct               other   \n",
       "87mebub9p4            direct             direct                  US   \n",
       "\n",
       "           first_affiliate_tracked first_browser first_device_type  gender  \\\n",
       "id                                                                           \n",
       "gxn3p5htnn               untracked        Chrome       Mac Desktop     NaN   \n",
       "820tgsjxq7               untracked        Chrome       Mac Desktop    MALE   \n",
       "4ft3gnwmtx               untracked            IE   Windows Desktop  FEMALE   \n",
       "bjjt8pjhuk               untracked       Firefox       Mac Desktop  FEMALE   \n",
       "87mebub9p4               untracked        Chrome       Mac Desktop     NaN   \n",
       "\n",
       "           language signup_app  signup_flow  ... month_account_created  \\\n",
       "id                                           ...                         \n",
       "gxn3p5htnn       en        Web            0  ...                     6   \n",
       "820tgsjxq7       en        Web            0  ...                     5   \n",
       "4ft3gnwmtx       en        Web            3  ...                     9   \n",
       "bjjt8pjhuk       en        Web            0  ...                    12   \n",
       "87mebub9p4       en        Web            0  ...                     9   \n",
       "\n",
       "            year_account_created  hours_account_created  day_first_active  \\\n",
       "id                                                                          \n",
       "gxn3p5htnn                  2010                      0                19   \n",
       "820tgsjxq7                  2011                      0                23   \n",
       "4ft3gnwmtx                  2010                      0                 9   \n",
       "bjjt8pjhuk                  2011                      0                31   \n",
       "87mebub9p4                  2010                      0                 8   \n",
       "\n",
       "            weekday_first_active  week_first_active  month_first_active  \\\n",
       "id                                                                        \n",
       "gxn3p5htnn                     3                 12                   3   \n",
       "820tgsjxq7                     5                 21                   5   \n",
       "4ft3gnwmtx                     1                 24                   6   \n",
       "bjjt8pjhuk                     5                 44                  10   \n",
       "87mebub9p4                     1                 50                  12   \n",
       "\n",
       "            year_first_active  hours_first_active  time_lag  \n",
       "id                                                           \n",
       "gxn3p5htnn               2009                   4       465  \n",
       "820tgsjxq7               2009                  17       731  \n",
       "4ft3gnwmtx               2009                  23       475  \n",
       "bjjt8pjhuk               2009                   6       764  \n",
       "87mebub9p4               2009                   6       279  \n",
       "\n",
       "[5 rows x 25 columns]"
      ]
     },
     "execution_count": 33,
     "metadata": {},
     "output_type": "execute_result"
    }
   ],
   "source": [
    "users.head()"
   ]
  },
  {
   "cell_type": "code",
   "execution_count": 34,
   "metadata": {
    "ExecuteTime": {
     "end_time": "2019-11-16T16:36:16.924130Z",
     "start_time": "2019-11-16T16:36:16.244132Z"
    }
   },
   "outputs": [],
   "source": [
    "users=pd.merge(users, sessions_secs_elapsed, on='id', how = 'left')"
   ]
  },
  {
   "cell_type": "code",
   "execution_count": 35,
   "metadata": {
    "ExecuteTime": {
     "end_time": "2019-11-16T16:36:16.969133Z",
     "start_time": "2019-11-16T16:36:16.926131Z"
    }
   },
   "outputs": [
    {
     "data": {
      "text/html": [
       "<div>\n",
       "<style scoped>\n",
       "    .dataframe tbody tr th:only-of-type {\n",
       "        vertical-align: middle;\n",
       "    }\n",
       "\n",
       "    .dataframe tbody tr th {\n",
       "        vertical-align: top;\n",
       "    }\n",
       "\n",
       "    .dataframe thead th {\n",
       "        text-align: right;\n",
       "    }\n",
       "</style>\n",
       "<table border=\"1\" class=\"dataframe\">\n",
       "  <thead>\n",
       "    <tr style=\"text-align: right;\">\n",
       "      <th></th>\n",
       "      <th>id</th>\n",
       "      <th>affiliate_channel</th>\n",
       "      <th>affiliate_provider</th>\n",
       "      <th>country_destination</th>\n",
       "      <th>first_affiliate_tracked</th>\n",
       "      <th>first_browser</th>\n",
       "      <th>first_device_type</th>\n",
       "      <th>gender</th>\n",
       "      <th>language</th>\n",
       "      <th>signup_app</th>\n",
       "      <th>...</th>\n",
       "      <th>secs_elapsed_mean</th>\n",
       "      <th>secs_elapsed_min</th>\n",
       "      <th>secs_elapsed_max</th>\n",
       "      <th>secs_elapsed_median</th>\n",
       "      <th>secs_elapsed_std</th>\n",
       "      <th>secs_elapsed_var</th>\n",
       "      <th>day_pauses</th>\n",
       "      <th>long_pauses</th>\n",
       "      <th>short_pauses</th>\n",
       "      <th>session_length</th>\n",
       "    </tr>\n",
       "  </thead>\n",
       "  <tbody>\n",
       "    <tr>\n",
       "      <th>0</th>\n",
       "      <td>gxn3p5htnn</td>\n",
       "      <td>direct</td>\n",
       "      <td>direct</td>\n",
       "      <td>NDF</td>\n",
       "      <td>untracked</td>\n",
       "      <td>Chrome</td>\n",
       "      <td>Mac Desktop</td>\n",
       "      <td>NaN</td>\n",
       "      <td>en</td>\n",
       "      <td>Web</td>\n",
       "      <td>...</td>\n",
       "      <td>NaN</td>\n",
       "      <td>NaN</td>\n",
       "      <td>NaN</td>\n",
       "      <td>NaN</td>\n",
       "      <td>NaN</td>\n",
       "      <td>NaN</td>\n",
       "      <td>NaN</td>\n",
       "      <td>NaN</td>\n",
       "      <td>NaN</td>\n",
       "      <td>NaN</td>\n",
       "    </tr>\n",
       "    <tr>\n",
       "      <th>1</th>\n",
       "      <td>820tgsjxq7</td>\n",
       "      <td>seo</td>\n",
       "      <td>google</td>\n",
       "      <td>NDF</td>\n",
       "      <td>untracked</td>\n",
       "      <td>Chrome</td>\n",
       "      <td>Mac Desktop</td>\n",
       "      <td>MALE</td>\n",
       "      <td>en</td>\n",
       "      <td>Web</td>\n",
       "      <td>...</td>\n",
       "      <td>NaN</td>\n",
       "      <td>NaN</td>\n",
       "      <td>NaN</td>\n",
       "      <td>NaN</td>\n",
       "      <td>NaN</td>\n",
       "      <td>NaN</td>\n",
       "      <td>NaN</td>\n",
       "      <td>NaN</td>\n",
       "      <td>NaN</td>\n",
       "      <td>NaN</td>\n",
       "    </tr>\n",
       "    <tr>\n",
       "      <th>2</th>\n",
       "      <td>4ft3gnwmtx</td>\n",
       "      <td>direct</td>\n",
       "      <td>direct</td>\n",
       "      <td>US</td>\n",
       "      <td>untracked</td>\n",
       "      <td>IE</td>\n",
       "      <td>Windows Desktop</td>\n",
       "      <td>FEMALE</td>\n",
       "      <td>en</td>\n",
       "      <td>Web</td>\n",
       "      <td>...</td>\n",
       "      <td>NaN</td>\n",
       "      <td>NaN</td>\n",
       "      <td>NaN</td>\n",
       "      <td>NaN</td>\n",
       "      <td>NaN</td>\n",
       "      <td>NaN</td>\n",
       "      <td>NaN</td>\n",
       "      <td>NaN</td>\n",
       "      <td>NaN</td>\n",
       "      <td>NaN</td>\n",
       "    </tr>\n",
       "    <tr>\n",
       "      <th>3</th>\n",
       "      <td>bjjt8pjhuk</td>\n",
       "      <td>direct</td>\n",
       "      <td>direct</td>\n",
       "      <td>other</td>\n",
       "      <td>untracked</td>\n",
       "      <td>Firefox</td>\n",
       "      <td>Mac Desktop</td>\n",
       "      <td>FEMALE</td>\n",
       "      <td>en</td>\n",
       "      <td>Web</td>\n",
       "      <td>...</td>\n",
       "      <td>NaN</td>\n",
       "      <td>NaN</td>\n",
       "      <td>NaN</td>\n",
       "      <td>NaN</td>\n",
       "      <td>NaN</td>\n",
       "      <td>NaN</td>\n",
       "      <td>NaN</td>\n",
       "      <td>NaN</td>\n",
       "      <td>NaN</td>\n",
       "      <td>NaN</td>\n",
       "    </tr>\n",
       "    <tr>\n",
       "      <th>4</th>\n",
       "      <td>87mebub9p4</td>\n",
       "      <td>direct</td>\n",
       "      <td>direct</td>\n",
       "      <td>US</td>\n",
       "      <td>untracked</td>\n",
       "      <td>Chrome</td>\n",
       "      <td>Mac Desktop</td>\n",
       "      <td>NaN</td>\n",
       "      <td>en</td>\n",
       "      <td>Web</td>\n",
       "      <td>...</td>\n",
       "      <td>NaN</td>\n",
       "      <td>NaN</td>\n",
       "      <td>NaN</td>\n",
       "      <td>NaN</td>\n",
       "      <td>NaN</td>\n",
       "      <td>NaN</td>\n",
       "      <td>NaN</td>\n",
       "      <td>NaN</td>\n",
       "      <td>NaN</td>\n",
       "      <td>NaN</td>\n",
       "    </tr>\n",
       "  </tbody>\n",
       "</table>\n",
       "<p>5 rows × 71 columns</p>\n",
       "</div>"
      ],
      "text/plain": [
       "           id affiliate_channel affiliate_provider country_destination  \\\n",
       "0  gxn3p5htnn            direct             direct                 NDF   \n",
       "1  820tgsjxq7               seo             google                 NDF   \n",
       "2  4ft3gnwmtx            direct             direct                  US   \n",
       "3  bjjt8pjhuk            direct             direct               other   \n",
       "4  87mebub9p4            direct             direct                  US   \n",
       "\n",
       "  first_affiliate_tracked first_browser first_device_type  gender language  \\\n",
       "0               untracked        Chrome       Mac Desktop     NaN       en   \n",
       "1               untracked        Chrome       Mac Desktop    MALE       en   \n",
       "2               untracked            IE   Windows Desktop  FEMALE       en   \n",
       "3               untracked       Firefox       Mac Desktop  FEMALE       en   \n",
       "4               untracked        Chrome       Mac Desktop     NaN       en   \n",
       "\n",
       "  signup_app  ...  secs_elapsed_mean secs_elapsed_min  secs_elapsed_max  \\\n",
       "0        Web  ...                NaN              NaN               NaN   \n",
       "1        Web  ...                NaN              NaN               NaN   \n",
       "2        Web  ...                NaN              NaN               NaN   \n",
       "3        Web  ...                NaN              NaN               NaN   \n",
       "4        Web  ...                NaN              NaN               NaN   \n",
       "\n",
       "   secs_elapsed_median  secs_elapsed_std  secs_elapsed_var  day_pauses  \\\n",
       "0                  NaN               NaN               NaN         NaN   \n",
       "1                  NaN               NaN               NaN         NaN   \n",
       "2                  NaN               NaN               NaN         NaN   \n",
       "3                  NaN               NaN               NaN         NaN   \n",
       "4                  NaN               NaN               NaN         NaN   \n",
       "\n",
       "   long_pauses  short_pauses  session_length  \n",
       "0          NaN           NaN             NaN  \n",
       "1          NaN           NaN             NaN  \n",
       "2          NaN           NaN             NaN  \n",
       "3          NaN           NaN             NaN  \n",
       "4          NaN           NaN             NaN  \n",
       "\n",
       "[5 rows x 71 columns]"
      ]
     },
     "execution_count": 35,
     "metadata": {},
     "output_type": "execute_result"
    }
   ],
   "source": [
    "users.head()"
   ]
  },
  {
   "cell_type": "code",
   "execution_count": 36,
   "metadata": {
    "ExecuteTime": {
     "end_time": "2019-11-16T16:36:17.510133Z",
     "start_time": "2019-11-16T16:36:16.972132Z"
    }
   },
   "outputs": [
    {
     "name": "stdout",
     "output_type": "stream",
     "text": [
      "<class 'pandas.core.frame.DataFrame'>\n",
      "Int64Index: 275547 entries, 0 to 275546\n",
      "Data columns (total 71 columns):\n",
      "id                         275547 non-null object\n",
      "affiliate_channel          275547 non-null category\n",
      "affiliate_provider         275547 non-null category\n",
      "country_destination        213451 non-null category\n",
      "first_affiliate_tracked    269462 non-null category\n",
      "first_browser              231153 non-null category\n",
      "first_device_type          275547 non-null category\n",
      "gender                     146067 non-null category\n",
      "language                   275547 non-null category\n",
      "signup_app                 275547 non-null category\n",
      "signup_flow                275547 non-null int64\n",
      "signup_method              275547 non-null category\n",
      "age_group                  275547 non-null int64\n",
      "day_account_created        275547 non-null int64\n",
      "weekday_account_created    275547 non-null int64\n",
      "week_account_created       275547 non-null int64\n",
      "month_account_created      275547 non-null int64\n",
      "year_account_created       275547 non-null int64\n",
      "hours_account_created      275547 non-null int64\n",
      "day_first_active           275547 non-null int64\n",
      "weekday_first_active       275547 non-null int64\n",
      "week_first_active          275547 non-null int64\n",
      "month_first_active         275547 non-null int64\n",
      "year_first_active          275547 non-null int64\n",
      "hours_first_active         275547 non-null int64\n",
      "time_lag                   275547 non-null int64\n",
      "action                     135483 non-null float64\n",
      "-unknown-_count            108415 non-null float64\n",
      "booking_request_count      17495 non-null float64\n",
      "booking_response_count     4 non-null float64\n",
      "click_count                112420 non-null float64\n",
      "data_count                 125510 non-null float64\n",
      "message_post_count         43834 non-null float64\n",
      "modify_count               450 non-null float64\n",
      "partner_callback_count     14428 non-null float64\n",
      "submit_count               125538 non-null float64\n",
      "view_count                 123270 non-null float64\n",
      "-unknown-_sum              108415 non-null float64\n",
      "booking_request_sum        17495 non-null float64\n",
      "booking_response_sum       4 non-null float64\n",
      "click_sum                  112420 non-null float64\n",
      "data_sum                   125510 non-null float64\n",
      "message_post_sum           43834 non-null float64\n",
      "modify_sum                 450 non-null float64\n",
      "partner_callback_sum       14428 non-null float64\n",
      "submit_sum                 125538 non-null float64\n",
      "view_sum                   123270 non-null float64\n",
      "-unknown-_pct              108303 non-null float64\n",
      "booking_request_pct        17418 non-null float64\n",
      "booking_response_pct       4 non-null float64\n",
      "click_pct                  112255 non-null float64\n",
      "data_pct                   125482 non-null float64\n",
      "message_post_pct           43453 non-null float64\n",
      "modify_pct                 450 non-null float64\n",
      "partner_callback_pct       14393 non-null float64\n",
      "submit_pct                 124880 non-null float64\n",
      "view_pct                   123193 non-null float64\n",
      "action_detail              135483 non-null float64\n",
      "device_type                135483 non-null float64\n",
      "most_used_device           135483 non-null object\n",
      "secs_elapsed_sum           135483 non-null float64\n",
      "secs_elapsed_mean          134057 non-null float64\n",
      "secs_elapsed_min           134057 non-null float64\n",
      "secs_elapsed_max           134057 non-null float64\n",
      "secs_elapsed_median        134057 non-null float64\n",
      "secs_elapsed_std           130796 non-null float64\n",
      "secs_elapsed_var           130796 non-null float64\n",
      "day_pauses                 135483 non-null float64\n",
      "long_pauses                135483 non-null float64\n",
      "short_pauses               135483 non-null float64\n",
      "session_length             135483 non-null float64\n",
      "dtypes: category(10), float64(44), int64(15), object(2)\n",
      "memory usage: 133.0+ MB\n"
     ]
    }
   ],
   "source": [
    "users.info()"
   ]
  },
  {
   "cell_type": "markdown",
   "metadata": {},
   "source": [
    "### Encode categorical features"
   ]
  },
  {
   "cell_type": "code",
   "execution_count": 37,
   "metadata": {
    "ExecuteTime": {
     "end_time": "2019-11-16T16:36:17.963133Z",
     "start_time": "2019-11-16T16:36:17.513133Z"
    }
   },
   "outputs": [],
   "source": [
    "categorical_features = [\n",
    "    'gender', 'signup_method', 'signup_flow', 'language',\n",
    "    'affiliate_channel', 'affiliate_provider', 'first_affiliate_tracked',\n",
    "    'signup_app', 'first_device_type', 'first_browser', 'most_used_device'\n",
    "]\n",
    "users = pd.get_dummies(users, columns=categorical_features,drop_first=True)"
   ]
  },
  {
   "cell_type": "raw",
   "metadata": {
    "ExecuteTime": {
     "end_time": "2019-11-16T14:45:59.437343Z",
     "start_time": "2019-11-16T14:45:55.145341Z"
    }
   },
   "source": [
    "from sklearn.preprocessing import LabelEncoder\n",
    "categorical_features = ['gender', 'signup_method', 'signup_flow', 'language','affiliate_channel', 'age_group',\n",
    "                        'weekday_account_created','month_account_created','day_account_created','week_account_created',\n",
    "                        'hours_account_created','day_first_active','weekday_first_active','month_first_active',\n",
    "                        'week_first_active','year_first_active','hours_first_active','signup_app',\n",
    "                        'affiliate_provider', 'first_affiliate_tracked','first_device_type', 'first_browser']\n",
    "\n",
    "users_sc = users.copy(deep=True)\n",
    "encode = LabelEncoder()\n",
    "for j in categorical_features:\n",
    "    users_sc[j] = encode.fit_transform(users[j].astype('str'))"
   ]
  },
  {
   "cell_type": "code",
   "execution_count": 38,
   "metadata": {
    "ExecuteTime": {
     "end_time": "2019-11-16T16:37:13.913383Z",
     "start_time": "2019-11-16T16:36:17.966132Z"
    }
   },
   "outputs": [],
   "source": [
    "users.to_csv('data_preprocessed.csv')"
   ]
  },
  {
   "cell_type": "code",
   "execution_count": 39,
   "metadata": {
    "ExecuteTime": {
     "end_time": "2019-11-16T16:37:13.950353Z",
     "start_time": "2019-11-16T16:37:13.916351Z"
    }
   },
   "outputs": [
    {
     "data": {
      "text/html": [
       "<div>\n",
       "<style scoped>\n",
       "    .dataframe tbody tr th:only-of-type {\n",
       "        vertical-align: middle;\n",
       "    }\n",
       "\n",
       "    .dataframe tbody tr th {\n",
       "        vertical-align: top;\n",
       "    }\n",
       "\n",
       "    .dataframe thead th {\n",
       "        text-align: right;\n",
       "    }\n",
       "</style>\n",
       "<table border=\"1\" class=\"dataframe\">\n",
       "  <thead>\n",
       "    <tr style=\"text-align: right;\">\n",
       "      <th></th>\n",
       "      <th>id</th>\n",
       "      <th>country_destination</th>\n",
       "      <th>age_group</th>\n",
       "      <th>day_account_created</th>\n",
       "      <th>weekday_account_created</th>\n",
       "      <th>week_account_created</th>\n",
       "      <th>month_account_created</th>\n",
       "      <th>year_account_created</th>\n",
       "      <th>hours_account_created</th>\n",
       "      <th>day_first_active</th>\n",
       "      <th>...</th>\n",
       "      <th>most_used_device_Chromebook</th>\n",
       "      <th>most_used_device_Linux Desktop</th>\n",
       "      <th>most_used_device_Mac Desktop</th>\n",
       "      <th>most_used_device_Opera Phone</th>\n",
       "      <th>most_used_device_Tablet</th>\n",
       "      <th>most_used_device_Windows Desktop</th>\n",
       "      <th>most_used_device_Windows Phone</th>\n",
       "      <th>most_used_device_iPad Tablet</th>\n",
       "      <th>most_used_device_iPhone</th>\n",
       "      <th>most_used_device_iPodtouch</th>\n",
       "    </tr>\n",
       "  </thead>\n",
       "  <tbody>\n",
       "    <tr>\n",
       "      <th>0</th>\n",
       "      <td>gxn3p5htnn</td>\n",
       "      <td>NDF</td>\n",
       "      <td>0</td>\n",
       "      <td>28</td>\n",
       "      <td>0</td>\n",
       "      <td>26</td>\n",
       "      <td>6</td>\n",
       "      <td>2010</td>\n",
       "      <td>0</td>\n",
       "      <td>19</td>\n",
       "      <td>...</td>\n",
       "      <td>0</td>\n",
       "      <td>0</td>\n",
       "      <td>0</td>\n",
       "      <td>0</td>\n",
       "      <td>0</td>\n",
       "      <td>0</td>\n",
       "      <td>0</td>\n",
       "      <td>0</td>\n",
       "      <td>0</td>\n",
       "      <td>0</td>\n",
       "    </tr>\n",
       "    <tr>\n",
       "      <th>1</th>\n",
       "      <td>820tgsjxq7</td>\n",
       "      <td>NDF</td>\n",
       "      <td>4</td>\n",
       "      <td>25</td>\n",
       "      <td>2</td>\n",
       "      <td>21</td>\n",
       "      <td>5</td>\n",
       "      <td>2011</td>\n",
       "      <td>0</td>\n",
       "      <td>23</td>\n",
       "      <td>...</td>\n",
       "      <td>0</td>\n",
       "      <td>0</td>\n",
       "      <td>0</td>\n",
       "      <td>0</td>\n",
       "      <td>0</td>\n",
       "      <td>0</td>\n",
       "      <td>0</td>\n",
       "      <td>0</td>\n",
       "      <td>0</td>\n",
       "      <td>0</td>\n",
       "    </tr>\n",
       "    <tr>\n",
       "      <th>2</th>\n",
       "      <td>4ft3gnwmtx</td>\n",
       "      <td>US</td>\n",
       "      <td>6</td>\n",
       "      <td>28</td>\n",
       "      <td>1</td>\n",
       "      <td>39</td>\n",
       "      <td>9</td>\n",
       "      <td>2010</td>\n",
       "      <td>0</td>\n",
       "      <td>9</td>\n",
       "      <td>...</td>\n",
       "      <td>0</td>\n",
       "      <td>0</td>\n",
       "      <td>0</td>\n",
       "      <td>0</td>\n",
       "      <td>0</td>\n",
       "      <td>0</td>\n",
       "      <td>0</td>\n",
       "      <td>0</td>\n",
       "      <td>0</td>\n",
       "      <td>0</td>\n",
       "    </tr>\n",
       "    <tr>\n",
       "      <th>3</th>\n",
       "      <td>bjjt8pjhuk</td>\n",
       "      <td>other</td>\n",
       "      <td>5</td>\n",
       "      <td>5</td>\n",
       "      <td>0</td>\n",
       "      <td>49</td>\n",
       "      <td>12</td>\n",
       "      <td>2011</td>\n",
       "      <td>0</td>\n",
       "      <td>31</td>\n",
       "      <td>...</td>\n",
       "      <td>0</td>\n",
       "      <td>0</td>\n",
       "      <td>0</td>\n",
       "      <td>0</td>\n",
       "      <td>0</td>\n",
       "      <td>0</td>\n",
       "      <td>0</td>\n",
       "      <td>0</td>\n",
       "      <td>0</td>\n",
       "      <td>0</td>\n",
       "    </tr>\n",
       "    <tr>\n",
       "      <th>4</th>\n",
       "      <td>87mebub9p4</td>\n",
       "      <td>US</td>\n",
       "      <td>5</td>\n",
       "      <td>14</td>\n",
       "      <td>1</td>\n",
       "      <td>37</td>\n",
       "      <td>9</td>\n",
       "      <td>2010</td>\n",
       "      <td>0</td>\n",
       "      <td>8</td>\n",
       "      <td>...</td>\n",
       "      <td>0</td>\n",
       "      <td>0</td>\n",
       "      <td>0</td>\n",
       "      <td>0</td>\n",
       "      <td>0</td>\n",
       "      <td>0</td>\n",
       "      <td>0</td>\n",
       "      <td>0</td>\n",
       "      <td>0</td>\n",
       "      <td>0</td>\n",
       "    </tr>\n",
       "  </tbody>\n",
       "</table>\n",
       "<p>5 rows × 214 columns</p>\n",
       "</div>"
      ],
      "text/plain": [
       "           id country_destination  age_group  day_account_created  \\\n",
       "0  gxn3p5htnn                 NDF          0                   28   \n",
       "1  820tgsjxq7                 NDF          4                   25   \n",
       "2  4ft3gnwmtx                  US          6                   28   \n",
       "3  bjjt8pjhuk               other          5                    5   \n",
       "4  87mebub9p4                  US          5                   14   \n",
       "\n",
       "   weekday_account_created  week_account_created  month_account_created  \\\n",
       "0                        0                    26                      6   \n",
       "1                        2                    21                      5   \n",
       "2                        1                    39                      9   \n",
       "3                        0                    49                     12   \n",
       "4                        1                    37                      9   \n",
       "\n",
       "   year_account_created  hours_account_created  day_first_active  ...  \\\n",
       "0                  2010                      0                19  ...   \n",
       "1                  2011                      0                23  ...   \n",
       "2                  2010                      0                 9  ...   \n",
       "3                  2011                      0                31  ...   \n",
       "4                  2010                      0                 8  ...   \n",
       "\n",
       "   most_used_device_Chromebook  most_used_device_Linux Desktop  \\\n",
       "0                            0                               0   \n",
       "1                            0                               0   \n",
       "2                            0                               0   \n",
       "3                            0                               0   \n",
       "4                            0                               0   \n",
       "\n",
       "   most_used_device_Mac Desktop  most_used_device_Opera Phone  \\\n",
       "0                             0                             0   \n",
       "1                             0                             0   \n",
       "2                             0                             0   \n",
       "3                             0                             0   \n",
       "4                             0                             0   \n",
       "\n",
       "   most_used_device_Tablet  most_used_device_Windows Desktop  \\\n",
       "0                        0                                 0   \n",
       "1                        0                                 0   \n",
       "2                        0                                 0   \n",
       "3                        0                                 0   \n",
       "4                        0                                 0   \n",
       "\n",
       "   most_used_device_Windows Phone  most_used_device_iPad Tablet  \\\n",
       "0                               0                             0   \n",
       "1                               0                             0   \n",
       "2                               0                             0   \n",
       "3                               0                             0   \n",
       "4                               0                             0   \n",
       "\n",
       "   most_used_device_iPhone  most_used_device_iPodtouch  \n",
       "0                        0                           0  \n",
       "1                        0                           0  \n",
       "2                        0                           0  \n",
       "3                        0                           0  \n",
       "4                        0                           0  \n",
       "\n",
       "[5 rows x 214 columns]"
      ]
     },
     "execution_count": 39,
     "metadata": {},
     "output_type": "execute_result"
    }
   ],
   "source": [
    "users.head()"
   ]
  },
  {
   "cell_type": "markdown",
   "metadata": {},
   "source": [
    "### Feature Selection\n",
    "__VarianceThreshold__ is a simple baseline approach to feature selection. It removes all features whose variance doesn’t meet some threshold. By default, it removes all zero-variance features, i.e. features that have the same value in all samples.\n",
    "As an example, suppose that we have a dataset with boolean features, and we want to remove all features that are either one or zero (on or off) in more than 80% of the samples. \n",
    "\n",
    "These features which are common for more than 80 % of the data dont necessarily capture all the avriations in the data and will not be good predictors . So we eliminate the variables with low threshold and arrived at a final list of features which are listed below.\n",
    "\n",
    "Below is the final list of features which used to build our models."
   ]
  },
  {
   "cell_type": "code",
   "execution_count": null,
   "metadata": {
    "ExecuteTime": {
     "start_time": "2019-11-16T16:45:47.575Z"
    }
   },
   "outputs": [],
   "source": [
    "colx = users.columns.tolist()\n",
    "rm_list = ['id','country_destination']\n",
    "for x in rm_list:\n",
    "    colx.remove(x)\n",
    "X = users[~(users['country_destination'].isnull())][colx]\n",
    "X.fillna(0,inplace=True)\n",
    "\n",
    "from sklearn.feature_selection import VarianceThreshold\n",
    "sel = VarianceThreshold(threshold=(0.8))\n",
    "sel.fit_transform(X)\n",
    "idxs = sel.get_support(indices=True)\n",
    "colo = [X.columns.tolist()[i] for i in idxs]\n",
    "print ('\\n'.join(colo))\n",
    "for y in rm_list:\n",
    "    colo.append(y)"
   ]
  },
  {
   "cell_type": "code",
   "execution_count": null,
   "metadata": {
    "ExecuteTime": {
     "start_time": "2019-11-16T16:45:50.162Z"
    }
   },
   "outputs": [],
   "source": [
    "len(colo)"
   ]
  },
  {
   "cell_type": "markdown",
   "metadata": {},
   "source": [
    "There are 50 column that has above 80% variance"
   ]
  },
  {
   "cell_type": "code",
   "execution_count": 42,
   "metadata": {
    "ExecuteTime": {
     "end_time": "2019-11-16T16:37:32.593351Z",
     "start_time": "2019-11-16T16:37:16.174349Z"
    }
   },
   "outputs": [],
   "source": [
    "categorical_features_1 = [val for val in categorical_features if val in colo]\n",
    "users_encode = pd.get_dummies(users[colo], columns=categorical_features_1)\n",
    "users_encode.to_csv('users_data_feature.csv')"
   ]
  },
  {
   "cell_type": "code",
   "execution_count": 43,
   "metadata": {
    "ExecuteTime": {
     "end_time": "2019-11-16T16:37:32.630353Z",
     "start_time": "2019-11-16T16:37:32.596350Z"
    }
   },
   "outputs": [
    {
     "data": {
      "text/html": [
       "<div>\n",
       "<style scoped>\n",
       "    .dataframe tbody tr th:only-of-type {\n",
       "        vertical-align: middle;\n",
       "    }\n",
       "\n",
       "    .dataframe tbody tr th {\n",
       "        vertical-align: top;\n",
       "    }\n",
       "\n",
       "    .dataframe thead th {\n",
       "        text-align: right;\n",
       "    }\n",
       "</style>\n",
       "<table border=\"1\" class=\"dataframe\">\n",
       "  <thead>\n",
       "    <tr style=\"text-align: right;\">\n",
       "      <th></th>\n",
       "      <th>age_group</th>\n",
       "      <th>day_account_created</th>\n",
       "      <th>weekday_account_created</th>\n",
       "      <th>week_account_created</th>\n",
       "      <th>month_account_created</th>\n",
       "      <th>year_account_created</th>\n",
       "      <th>day_first_active</th>\n",
       "      <th>weekday_first_active</th>\n",
       "      <th>week_first_active</th>\n",
       "      <th>month_first_active</th>\n",
       "      <th>...</th>\n",
       "      <th>secs_elapsed_max</th>\n",
       "      <th>secs_elapsed_median</th>\n",
       "      <th>secs_elapsed_std</th>\n",
       "      <th>secs_elapsed_var</th>\n",
       "      <th>day_pauses</th>\n",
       "      <th>long_pauses</th>\n",
       "      <th>short_pauses</th>\n",
       "      <th>session_length</th>\n",
       "      <th>id</th>\n",
       "      <th>country_destination</th>\n",
       "    </tr>\n",
       "  </thead>\n",
       "  <tbody>\n",
       "    <tr>\n",
       "      <th>0</th>\n",
       "      <td>0</td>\n",
       "      <td>28</td>\n",
       "      <td>0</td>\n",
       "      <td>26</td>\n",
       "      <td>6</td>\n",
       "      <td>2010</td>\n",
       "      <td>19</td>\n",
       "      <td>3</td>\n",
       "      <td>12</td>\n",
       "      <td>3</td>\n",
       "      <td>...</td>\n",
       "      <td>NaN</td>\n",
       "      <td>NaN</td>\n",
       "      <td>NaN</td>\n",
       "      <td>NaN</td>\n",
       "      <td>NaN</td>\n",
       "      <td>NaN</td>\n",
       "      <td>NaN</td>\n",
       "      <td>NaN</td>\n",
       "      <td>gxn3p5htnn</td>\n",
       "      <td>NDF</td>\n",
       "    </tr>\n",
       "    <tr>\n",
       "      <th>1</th>\n",
       "      <td>4</td>\n",
       "      <td>25</td>\n",
       "      <td>2</td>\n",
       "      <td>21</td>\n",
       "      <td>5</td>\n",
       "      <td>2011</td>\n",
       "      <td>23</td>\n",
       "      <td>5</td>\n",
       "      <td>21</td>\n",
       "      <td>5</td>\n",
       "      <td>...</td>\n",
       "      <td>NaN</td>\n",
       "      <td>NaN</td>\n",
       "      <td>NaN</td>\n",
       "      <td>NaN</td>\n",
       "      <td>NaN</td>\n",
       "      <td>NaN</td>\n",
       "      <td>NaN</td>\n",
       "      <td>NaN</td>\n",
       "      <td>820tgsjxq7</td>\n",
       "      <td>NDF</td>\n",
       "    </tr>\n",
       "    <tr>\n",
       "      <th>2</th>\n",
       "      <td>6</td>\n",
       "      <td>28</td>\n",
       "      <td>1</td>\n",
       "      <td>39</td>\n",
       "      <td>9</td>\n",
       "      <td>2010</td>\n",
       "      <td>9</td>\n",
       "      <td>1</td>\n",
       "      <td>24</td>\n",
       "      <td>6</td>\n",
       "      <td>...</td>\n",
       "      <td>NaN</td>\n",
       "      <td>NaN</td>\n",
       "      <td>NaN</td>\n",
       "      <td>NaN</td>\n",
       "      <td>NaN</td>\n",
       "      <td>NaN</td>\n",
       "      <td>NaN</td>\n",
       "      <td>NaN</td>\n",
       "      <td>4ft3gnwmtx</td>\n",
       "      <td>US</td>\n",
       "    </tr>\n",
       "    <tr>\n",
       "      <th>3</th>\n",
       "      <td>5</td>\n",
       "      <td>5</td>\n",
       "      <td>0</td>\n",
       "      <td>49</td>\n",
       "      <td>12</td>\n",
       "      <td>2011</td>\n",
       "      <td>31</td>\n",
       "      <td>5</td>\n",
       "      <td>44</td>\n",
       "      <td>10</td>\n",
       "      <td>...</td>\n",
       "      <td>NaN</td>\n",
       "      <td>NaN</td>\n",
       "      <td>NaN</td>\n",
       "      <td>NaN</td>\n",
       "      <td>NaN</td>\n",
       "      <td>NaN</td>\n",
       "      <td>NaN</td>\n",
       "      <td>NaN</td>\n",
       "      <td>bjjt8pjhuk</td>\n",
       "      <td>other</td>\n",
       "    </tr>\n",
       "    <tr>\n",
       "      <th>4</th>\n",
       "      <td>5</td>\n",
       "      <td>14</td>\n",
       "      <td>1</td>\n",
       "      <td>37</td>\n",
       "      <td>9</td>\n",
       "      <td>2010</td>\n",
       "      <td>8</td>\n",
       "      <td>1</td>\n",
       "      <td>50</td>\n",
       "      <td>12</td>\n",
       "      <td>...</td>\n",
       "      <td>NaN</td>\n",
       "      <td>NaN</td>\n",
       "      <td>NaN</td>\n",
       "      <td>NaN</td>\n",
       "      <td>NaN</td>\n",
       "      <td>NaN</td>\n",
       "      <td>NaN</td>\n",
       "      <td>NaN</td>\n",
       "      <td>87mebub9p4</td>\n",
       "      <td>US</td>\n",
       "    </tr>\n",
       "  </tbody>\n",
       "</table>\n",
       "<p>5 rows × 51 columns</p>\n",
       "</div>"
      ],
      "text/plain": [
       "   age_group  day_account_created  weekday_account_created  \\\n",
       "0          0                   28                        0   \n",
       "1          4                   25                        2   \n",
       "2          6                   28                        1   \n",
       "3          5                    5                        0   \n",
       "4          5                   14                        1   \n",
       "\n",
       "   week_account_created  month_account_created  year_account_created  \\\n",
       "0                    26                      6                  2010   \n",
       "1                    21                      5                  2011   \n",
       "2                    39                      9                  2010   \n",
       "3                    49                     12                  2011   \n",
       "4                    37                      9                  2010   \n",
       "\n",
       "   day_first_active  weekday_first_active  week_first_active  \\\n",
       "0                19                     3                 12   \n",
       "1                23                     5                 21   \n",
       "2                 9                     1                 24   \n",
       "3                31                     5                 44   \n",
       "4                 8                     1                 50   \n",
       "\n",
       "   month_first_active  ...  secs_elapsed_max  secs_elapsed_median  \\\n",
       "0                   3  ...               NaN                  NaN   \n",
       "1                   5  ...               NaN                  NaN   \n",
       "2                   6  ...               NaN                  NaN   \n",
       "3                  10  ...               NaN                  NaN   \n",
       "4                  12  ...               NaN                  NaN   \n",
       "\n",
       "   secs_elapsed_std  secs_elapsed_var  day_pauses  long_pauses  short_pauses  \\\n",
       "0               NaN               NaN         NaN          NaN           NaN   \n",
       "1               NaN               NaN         NaN          NaN           NaN   \n",
       "2               NaN               NaN         NaN          NaN           NaN   \n",
       "3               NaN               NaN         NaN          NaN           NaN   \n",
       "4               NaN               NaN         NaN          NaN           NaN   \n",
       "\n",
       "   session_length          id  country_destination  \n",
       "0             NaN  gxn3p5htnn                  NDF  \n",
       "1             NaN  820tgsjxq7                  NDF  \n",
       "2             NaN  4ft3gnwmtx                   US  \n",
       "3             NaN  bjjt8pjhuk                other  \n",
       "4             NaN  87mebub9p4                   US  \n",
       "\n",
       "[5 rows x 51 columns]"
      ]
     },
     "execution_count": 43,
     "metadata": {},
     "output_type": "execute_result"
    }
   ],
   "source": [
    "users_encode.head()"
   ]
  },
  {
   "cell_type": "markdown",
   "metadata": {},
   "source": [
    "### Model Building"
   ]
  },
  {
   "cell_type": "code",
   "execution_count": 44,
   "metadata": {
    "ExecuteTime": {
     "end_time": "2019-11-16T16:37:32.655349Z",
     "start_time": "2019-11-16T16:37:32.634351Z"
    }
   },
   "outputs": [],
   "source": [
    "users = users_encode\n",
    "users.set_index('id',inplace=True)"
   ]
  },
  {
   "cell_type": "code",
   "execution_count": 45,
   "metadata": {
    "ExecuteTime": {
     "end_time": "2019-11-16T16:37:33.539350Z",
     "start_time": "2019-11-16T16:37:32.660350Z"
    }
   },
   "outputs": [],
   "source": [
    "from sklearn.model_selection import train_test_split\n",
    "\n",
    "colx = users.columns.tolist()\n",
    "\n",
    "rm_list = ['country_destination']\n",
    "\n",
    "for x in rm_list:\n",
    "    colx.remove(x)\n",
    "    \n",
    "X_1 = users[(users['country_destination'].isnull())][colx]\n",
    "X_1.fillna(0,inplace=True)\n",
    "\n",
    "X = users[~(users['country_destination'].isnull())][colx]\n",
    "X.fillna(0,inplace=True)\n",
    "\n",
    "Y = users[~(users['country_destination'].isnull())]['country_destination']\n",
    "\n",
    "X_train, X_test, y_train, y_test = train_test_split(X, Y, test_size=0.2, random_state=42,stratify=Y)"
   ]
  },
  {
   "cell_type": "code",
   "execution_count": 46,
   "metadata": {
    "ExecuteTime": {
     "end_time": "2019-11-16T16:37:33.578354Z",
     "start_time": "2019-11-16T16:37:33.542353Z"
    }
   },
   "outputs": [
    {
     "data": {
      "text/html": [
       "<div>\n",
       "<style scoped>\n",
       "    .dataframe tbody tr th:only-of-type {\n",
       "        vertical-align: middle;\n",
       "    }\n",
       "\n",
       "    .dataframe tbody tr th {\n",
       "        vertical-align: top;\n",
       "    }\n",
       "\n",
       "    .dataframe thead th {\n",
       "        text-align: right;\n",
       "    }\n",
       "</style>\n",
       "<table border=\"1\" class=\"dataframe\">\n",
       "  <thead>\n",
       "    <tr style=\"text-align: right;\">\n",
       "      <th></th>\n",
       "      <th>age_group</th>\n",
       "      <th>day_account_created</th>\n",
       "      <th>weekday_account_created</th>\n",
       "      <th>week_account_created</th>\n",
       "      <th>month_account_created</th>\n",
       "      <th>year_account_created</th>\n",
       "      <th>day_first_active</th>\n",
       "      <th>weekday_first_active</th>\n",
       "      <th>week_first_active</th>\n",
       "      <th>month_first_active</th>\n",
       "      <th>...</th>\n",
       "      <th>secs_elapsed_mean</th>\n",
       "      <th>secs_elapsed_min</th>\n",
       "      <th>secs_elapsed_max</th>\n",
       "      <th>secs_elapsed_median</th>\n",
       "      <th>secs_elapsed_std</th>\n",
       "      <th>secs_elapsed_var</th>\n",
       "      <th>day_pauses</th>\n",
       "      <th>long_pauses</th>\n",
       "      <th>short_pauses</th>\n",
       "      <th>session_length</th>\n",
       "    </tr>\n",
       "    <tr>\n",
       "      <th>id</th>\n",
       "      <th></th>\n",
       "      <th></th>\n",
       "      <th></th>\n",
       "      <th></th>\n",
       "      <th></th>\n",
       "      <th></th>\n",
       "      <th></th>\n",
       "      <th></th>\n",
       "      <th></th>\n",
       "      <th></th>\n",
       "      <th></th>\n",
       "      <th></th>\n",
       "      <th></th>\n",
       "      <th></th>\n",
       "      <th></th>\n",
       "      <th></th>\n",
       "      <th></th>\n",
       "      <th></th>\n",
       "      <th></th>\n",
       "      <th></th>\n",
       "      <th></th>\n",
       "    </tr>\n",
       "  </thead>\n",
       "  <tbody>\n",
       "    <tr>\n",
       "      <th>93nvi68rdl</th>\n",
       "      <td>4</td>\n",
       "      <td>14</td>\n",
       "      <td>4</td>\n",
       "      <td>7</td>\n",
       "      <td>2</td>\n",
       "      <td>2014</td>\n",
       "      <td>14</td>\n",
       "      <td>4</td>\n",
       "      <td>7</td>\n",
       "      <td>2</td>\n",
       "      <td>...</td>\n",
       "      <td>20704.428571</td>\n",
       "      <td>6.0</td>\n",
       "      <td>242607.0</td>\n",
       "      <td>4010.5</td>\n",
       "      <td>38234.884462</td>\n",
       "      <td>1.461906e+09</td>\n",
       "      <td>2.0</td>\n",
       "      <td>0.0</td>\n",
       "      <td>28.0</td>\n",
       "      <td>57.0</td>\n",
       "    </tr>\n",
       "    <tr>\n",
       "      <th>cddglyavhs</th>\n",
       "      <td>4</td>\n",
       "      <td>4</td>\n",
       "      <td>4</td>\n",
       "      <td>40</td>\n",
       "      <td>10</td>\n",
       "      <td>2013</td>\n",
       "      <td>4</td>\n",
       "      <td>4</td>\n",
       "      <td>40</td>\n",
       "      <td>10</td>\n",
       "      <td>...</td>\n",
       "      <td>0.000000</td>\n",
       "      <td>0.0</td>\n",
       "      <td>0.0</td>\n",
       "      <td>0.0</td>\n",
       "      <td>0.000000</td>\n",
       "      <td>0.000000e+00</td>\n",
       "      <td>0.0</td>\n",
       "      <td>0.0</td>\n",
       "      <td>0.0</td>\n",
       "      <td>0.0</td>\n",
       "    </tr>\n",
       "    <tr>\n",
       "      <th>l796vt2san</th>\n",
       "      <td>4</td>\n",
       "      <td>12</td>\n",
       "      <td>3</td>\n",
       "      <td>50</td>\n",
       "      <td>12</td>\n",
       "      <td>2013</td>\n",
       "      <td>12</td>\n",
       "      <td>3</td>\n",
       "      <td>50</td>\n",
       "      <td>12</td>\n",
       "      <td>...</td>\n",
       "      <td>0.000000</td>\n",
       "      <td>0.0</td>\n",
       "      <td>0.0</td>\n",
       "      <td>0.0</td>\n",
       "      <td>0.000000</td>\n",
       "      <td>0.000000e+00</td>\n",
       "      <td>0.0</td>\n",
       "      <td>0.0</td>\n",
       "      <td>0.0</td>\n",
       "      <td>0.0</td>\n",
       "    </tr>\n",
       "    <tr>\n",
       "      <th>o523j6oc71</th>\n",
       "      <td>7</td>\n",
       "      <td>29</td>\n",
       "      <td>4</td>\n",
       "      <td>43</td>\n",
       "      <td>10</td>\n",
       "      <td>2010</td>\n",
       "      <td>29</td>\n",
       "      <td>4</td>\n",
       "      <td>43</td>\n",
       "      <td>10</td>\n",
       "      <td>...</td>\n",
       "      <td>0.000000</td>\n",
       "      <td>0.0</td>\n",
       "      <td>0.0</td>\n",
       "      <td>0.0</td>\n",
       "      <td>0.000000</td>\n",
       "      <td>0.000000e+00</td>\n",
       "      <td>0.0</td>\n",
       "      <td>0.0</td>\n",
       "      <td>0.0</td>\n",
       "      <td>0.0</td>\n",
       "    </tr>\n",
       "    <tr>\n",
       "      <th>j0dfrdbydz</th>\n",
       "      <td>4</td>\n",
       "      <td>27</td>\n",
       "      <td>2</td>\n",
       "      <td>30</td>\n",
       "      <td>7</td>\n",
       "      <td>2011</td>\n",
       "      <td>27</td>\n",
       "      <td>2</td>\n",
       "      <td>30</td>\n",
       "      <td>7</td>\n",
       "      <td>...</td>\n",
       "      <td>0.000000</td>\n",
       "      <td>0.0</td>\n",
       "      <td>0.0</td>\n",
       "      <td>0.0</td>\n",
       "      <td>0.000000</td>\n",
       "      <td>0.000000e+00</td>\n",
       "      <td>0.0</td>\n",
       "      <td>0.0</td>\n",
       "      <td>0.0</td>\n",
       "      <td>0.0</td>\n",
       "    </tr>\n",
       "  </tbody>\n",
       "</table>\n",
       "<p>5 rows × 49 columns</p>\n",
       "</div>"
      ],
      "text/plain": [
       "            age_group  day_account_created  weekday_account_created  \\\n",
       "id                                                                    \n",
       "93nvi68rdl          4                   14                        4   \n",
       "cddglyavhs          4                    4                        4   \n",
       "l796vt2san          4                   12                        3   \n",
       "o523j6oc71          7                   29                        4   \n",
       "j0dfrdbydz          4                   27                        2   \n",
       "\n",
       "            week_account_created  month_account_created  year_account_created  \\\n",
       "id                                                                              \n",
       "93nvi68rdl                     7                      2                  2014   \n",
       "cddglyavhs                    40                     10                  2013   \n",
       "l796vt2san                    50                     12                  2013   \n",
       "o523j6oc71                    43                     10                  2010   \n",
       "j0dfrdbydz                    30                      7                  2011   \n",
       "\n",
       "            day_first_active  weekday_first_active  week_first_active  \\\n",
       "id                                                                      \n",
       "93nvi68rdl                14                     4                  7   \n",
       "cddglyavhs                 4                     4                 40   \n",
       "l796vt2san                12                     3                 50   \n",
       "o523j6oc71                29                     4                 43   \n",
       "j0dfrdbydz                27                     2                 30   \n",
       "\n",
       "            month_first_active  ...  secs_elapsed_mean  secs_elapsed_min  \\\n",
       "id                              ...                                        \n",
       "93nvi68rdl                   2  ...       20704.428571               6.0   \n",
       "cddglyavhs                  10  ...           0.000000               0.0   \n",
       "l796vt2san                  12  ...           0.000000               0.0   \n",
       "o523j6oc71                  10  ...           0.000000               0.0   \n",
       "j0dfrdbydz                   7  ...           0.000000               0.0   \n",
       "\n",
       "            secs_elapsed_max  secs_elapsed_median  secs_elapsed_std  \\\n",
       "id                                                                    \n",
       "93nvi68rdl          242607.0               4010.5      38234.884462   \n",
       "cddglyavhs               0.0                  0.0          0.000000   \n",
       "l796vt2san               0.0                  0.0          0.000000   \n",
       "o523j6oc71               0.0                  0.0          0.000000   \n",
       "j0dfrdbydz               0.0                  0.0          0.000000   \n",
       "\n",
       "            secs_elapsed_var  day_pauses  long_pauses  short_pauses  \\\n",
       "id                                                                    \n",
       "93nvi68rdl      1.461906e+09         2.0          0.0          28.0   \n",
       "cddglyavhs      0.000000e+00         0.0          0.0           0.0   \n",
       "l796vt2san      0.000000e+00         0.0          0.0           0.0   \n",
       "o523j6oc71      0.000000e+00         0.0          0.0           0.0   \n",
       "j0dfrdbydz      0.000000e+00         0.0          0.0           0.0   \n",
       "\n",
       "            session_length  \n",
       "id                          \n",
       "93nvi68rdl            57.0  \n",
       "cddglyavhs             0.0  \n",
       "l796vt2san             0.0  \n",
       "o523j6oc71             0.0  \n",
       "j0dfrdbydz             0.0  \n",
       "\n",
       "[5 rows x 49 columns]"
      ]
     },
     "execution_count": 46,
     "metadata": {},
     "output_type": "execute_result"
    }
   ],
   "source": [
    "X_train.head()"
   ]
  },
  {
   "cell_type": "markdown",
   "metadata": {},
   "source": [
    "### Logistic Regression"
   ]
  },
  {
   "cell_type": "code",
   "execution_count": 47,
   "metadata": {
    "ExecuteTime": {
     "end_time": "2019-11-16T16:38:32.969350Z",
     "start_time": "2019-11-16T16:37:33.581352Z"
    }
   },
   "outputs": [
    {
     "name": "stderr",
     "output_type": "stream",
     "text": [
      "C:\\Users\\Asyariati\\Anaconda3\\lib\\site-packages\\sklearn\\linear_model\\logistic.py:432: FutureWarning: Default solver will be changed to 'lbfgs' in 0.22. Specify a solver to silence this warning.\n",
      "  FutureWarning)\n",
      "C:\\Users\\Asyariati\\Anaconda3\\lib\\site-packages\\sklearn\\linear_model\\logistic.py:469: FutureWarning: Default multi_class will be changed to 'auto' in 0.22. Specify the multi_class option to silence this warning.\n",
      "  \"this warning.\", FutureWarning)\n",
      "C:\\Users\\Asyariati\\Anaconda3\\lib\\site-packages\\sklearn\\svm\\base.py:929: ConvergenceWarning: Liblinear failed to converge, increase the number of iterations.\n",
      "  \"the number of iterations.\", ConvergenceWarning)\n"
     ]
    },
    {
     "data": {
      "text/plain": [
       "LogisticRegression(C=1.0, class_weight=None, dual=False, fit_intercept=True,\n",
       "                   intercept_scaling=1, l1_ratio=None, max_iter=100,\n",
       "                   multi_class='warn', n_jobs=None, penalty='l2',\n",
       "                   random_state=None, solver='warn', tol=0.0001, verbose=0,\n",
       "                   warm_start=False)"
      ]
     },
     "execution_count": 47,
     "metadata": {},
     "output_type": "execute_result"
    }
   ],
   "source": [
    "from sklearn.linear_model import LogisticRegression\n",
    "logr = LogisticRegression()\n",
    "logr.fit(X_train, y_train)"
   ]
  },
  {
   "cell_type": "markdown",
   "metadata": {},
   "source": [
    "### Gaussian Naive Bayes"
   ]
  },
  {
   "cell_type": "code",
   "execution_count": 48,
   "metadata": {
    "ExecuteTime": {
     "end_time": "2019-11-16T16:38:33.651350Z",
     "start_time": "2019-11-16T16:38:32.972354Z"
    }
   },
   "outputs": [
    {
     "data": {
      "text/plain": [
       "GaussianNB(priors=None, var_smoothing=1e-09)"
      ]
     },
     "execution_count": 48,
     "metadata": {},
     "output_type": "execute_result"
    }
   ],
   "source": [
    "from sklearn.naive_bayes import GaussianNB\n",
    "\n",
    "gnb = GaussianNB()\n",
    "gnb.fit(X_train,y_train)"
   ]
  },
  {
   "cell_type": "markdown",
   "metadata": {},
   "source": [
    "## SVM Linear"
   ]
  },
  {
   "cell_type": "code",
   "execution_count": null,
   "metadata": {
    "ExecuteTime": {
     "start_time": "2019-11-16T16:31:09.149Z"
    }
   },
   "outputs": [],
   "source": [
    "from sklearn.svm import LinearSVC\n",
    "svc = LinearSVC(random_state=42)\n",
    "svc.fit(X_train, y_train)"
   ]
  },
  {
   "cell_type": "markdown",
   "metadata": {},
   "source": [
    "## Decision Tree"
   ]
  },
  {
   "cell_type": "code",
   "execution_count": null,
   "metadata": {
    "ExecuteTime": {
     "start_time": "2019-11-16T16:31:09.153Z"
    }
   },
   "outputs": [],
   "source": [
    "from sklearn.tree import DecisionTreeClassifier\n",
    "\n",
    "dt = DecisionTreeClassifier()\n",
    "dt.fit(X_train, y_train)"
   ]
  },
  {
   "cell_type": "code",
   "execution_count": null,
   "metadata": {
    "ExecuteTime": {
     "start_time": "2019-11-16T16:31:09.158Z"
    }
   },
   "outputs": [],
   "source": [
    "feature_imp = pd.DataFrame(sorted(zip(map(lambda x: round(x, 4), dt.feature_importances_), X.columns.tolist()), reverse=True))\n",
    "feature_imp.columns = ['value','feature']\n",
    "feature_imp.set_index('feature',inplace=True)\n",
    "feature_imp.head(10)"
   ]
  },
  {
   "cell_type": "code",
   "execution_count": null,
   "metadata": {
    "ExecuteTime": {
     "start_time": "2019-11-16T16:31:09.161Z"
    }
   },
   "outputs": [],
   "source": [
    "feature_imp.head(10).plot(kind='barh')"
   ]
  },
  {
   "cell_type": "markdown",
   "metadata": {},
   "source": [
    "## Random Forest"
   ]
  },
  {
   "cell_type": "code",
   "execution_count": null,
   "metadata": {
    "ExecuteTime": {
     "start_time": "2019-11-16T16:31:09.165Z"
    }
   },
   "outputs": [],
   "source": [
    "from sklearn.ensemble import RandomForestClassifier\n",
    "\n",
    "clf = RandomForestClassifier(n_estimators=64,n_jobs=-1)\n",
    "clf.fit(X_train, y_train)"
   ]
  },
  {
   "cell_type": "code",
   "execution_count": null,
   "metadata": {
    "ExecuteTime": {
     "start_time": "2019-11-16T16:31:09.170Z"
    }
   },
   "outputs": [],
   "source": [
    "feature_imp = pd.DataFrame(sorted(zip(map(lambda x: round(x, 4), clf.feature_importances_), X.columns.tolist()), reverse=True))\n",
    "feature_imp.columns = ['value','feature']\n",
    "feature_imp.set_index('feature',inplace=True)\n",
    "feature_imp.head(10)"
   ]
  },
  {
   "cell_type": "code",
   "execution_count": null,
   "metadata": {
    "ExecuteTime": {
     "start_time": "2019-11-16T16:31:09.174Z"
    }
   },
   "outputs": [],
   "source": [
    "feature_imp.head(10).plot(kind='barh')"
   ]
  },
  {
   "cell_type": "markdown",
   "metadata": {},
   "source": [
    "## Gradient Boost"
   ]
  },
  {
   "cell_type": "code",
   "execution_count": null,
   "metadata": {
    "ExecuteTime": {
     "start_time": "2019-11-16T16:31:09.179Z"
    }
   },
   "outputs": [],
   "source": [
    "from sklearn.ensemble import GradientBoostingClassifier\n",
    "\n",
    "gbs=GradientBoostingClassifier()\n",
    "gbs.fit(X_train, y_train)"
   ]
  },
  {
   "cell_type": "code",
   "execution_count": null,
   "metadata": {
    "ExecuteTime": {
     "start_time": "2019-11-16T16:31:09.183Z"
    }
   },
   "outputs": [],
   "source": [
    "feature_imp = pd.DataFrame(sorted(zip(map(lambda x: round(x, 4), gbs.feature_importances_), X.columns.tolist()), reverse=True))\n",
    "feature_imp.columns = ['value','feature']\n",
    "feature_imp.set_index('feature',inplace=True)\n",
    "feature_imp.head(10)"
   ]
  },
  {
   "cell_type": "code",
   "execution_count": null,
   "metadata": {
    "ExecuteTime": {
     "start_time": "2019-11-16T16:31:09.186Z"
    }
   },
   "outputs": [],
   "source": [
    "feature_imp.head(10).plot(kind='barh')"
   ]
  },
  {
   "cell_type": "markdown",
   "metadata": {},
   "source": [
    "## XGBoost"
   ]
  },
  {
   "cell_type": "code",
   "execution_count": null,
   "metadata": {
    "ExecuteTime": {
     "start_time": "2019-11-16T16:31:09.190Z"
    }
   },
   "outputs": [],
   "source": [
    "from xgboost.sklearn import XGBClassifier\n",
    "\n",
    "xgb=XGBClassifier(n_jobs=-1)\n",
    "xgb.fit(X_train, y_train)"
   ]
  },
  {
   "cell_type": "code",
   "execution_count": null,
   "metadata": {
    "ExecuteTime": {
     "start_time": "2019-11-16T16:31:09.194Z"
    }
   },
   "outputs": [],
   "source": [
    "feature_imp = pd.DataFrame(sorted(zip(map(lambda x: round(x, 4), xgb.feature_importances_), X.columns.tolist()), reverse=True))\n",
    "feature_imp.columns = ['value','feature']\n",
    "feature_imp.set_index('feature',inplace=True)\n",
    "feature_imp.head(10)"
   ]
  },
  {
   "cell_type": "code",
   "execution_count": null,
   "metadata": {
    "ExecuteTime": {
     "start_time": "2019-11-16T16:31:09.198Z"
    }
   },
   "outputs": [],
   "source": [
    "feature_imp.head(10).plot(kind='barh')"
   ]
  },
  {
   "cell_type": "markdown",
   "metadata": {},
   "source": [
    "### LightGBM"
   ]
  },
  {
   "cell_type": "code",
   "execution_count": null,
   "metadata": {
    "ExecuteTime": {
     "start_time": "2019-11-16T16:31:09.203Z"
    }
   },
   "outputs": [],
   "source": [
    "from lightgbm import LGBMClassifier\n",
    "\n",
    "lgbm=LGBMClassifier()\n",
    "lgbm.fit(X_train,y_train)"
   ]
  },
  {
   "cell_type": "code",
   "execution_count": null,
   "metadata": {
    "ExecuteTime": {
     "start_time": "2019-11-16T16:31:09.208Z"
    }
   },
   "outputs": [],
   "source": [
    "feature_imp = pd.DataFrame(sorted(zip(map(lambda x: round(x, 4), lgbm.feature_importances_), X.columns.tolist()), reverse=True))\n",
    "feature_imp.columns = ['value','feature']\n",
    "feature_imp.set_index('feature',inplace=True)\n",
    "feature_imp.head(10)"
   ]
  },
  {
   "cell_type": "code",
   "execution_count": null,
   "metadata": {
    "ExecuteTime": {
     "start_time": "2019-11-16T16:31:09.213Z"
    }
   },
   "outputs": [],
   "source": [
    "feature_imp.head(10).plot(kind='barh')"
   ]
  },
  {
   "cell_type": "markdown",
   "metadata": {},
   "source": [
    "## 5. Results"
   ]
  },
  {
   "cell_type": "code",
   "execution_count": null,
   "metadata": {
    "ExecuteTime": {
     "start_time": "2019-11-16T16:31:09.218Z"
    }
   },
   "outputs": [],
   "source": [
    "from sklearn.preprocessing import LabelBinarizer\n",
    "from sklearn.metrics import make_scorer\n",
    "\n",
    "\n",
    "def dcg_score(y_true, y_score, k=5):\n",
    "    order = np.argsort(y_score)[::-1]\n",
    "    y_true = np.take(y_true, order[:k])\n",
    "    gain = 2 ** y_true - 1\n",
    "    discounts = np.log2(np.arange(len(y_true)) + 2)\n",
    "    return np.sum(gain / discounts)\n",
    "\n",
    "\n",
    "def ndcg_score(ground_truth, predictions, k=5):\n",
    "    lb = LabelBinarizer()\n",
    "    lb.fit(range(predictions.shape[1]+ 1))\n",
    "    T = lb.transform(ground_truth)\n",
    "\n",
    "    scores = []\n",
    "    for y_true, y_score in zip(T, predictions):\n",
    "        actual = dcg_score(y_true, y_score, k)\n",
    "        best = dcg_score(y_true, y_true, k)\n",
    "        score = float(actual) / float(best)\n",
    "        scores.append(score)\n",
    "\n",
    "    return np.mean(scores)\n",
    "\n",
    "model_perf={}"
   ]
  },
  {
   "cell_type": "markdown",
   "metadata": {},
   "source": [
    "### Logistic Regression - OVR"
   ]
  },
  {
   "cell_type": "code",
   "execution_count": null,
   "metadata": {
    "ExecuteTime": {
     "start_time": "2019-11-16T16:31:09.225Z"
    }
   },
   "outputs": [],
   "source": [
    "y_pred_logr=logr.predict(X_test)\n",
    "pd.crosstab(y_test, y_pred_logr, rownames=['Actual Destination'], colnames=['Predicted Destination'])"
   ]
  },
  {
   "cell_type": "code",
   "execution_count": null,
   "metadata": {
    "ExecuteTime": {
     "start_time": "2019-11-16T16:31:09.228Z"
    }
   },
   "outputs": [],
   "source": [
    "from sklearn.metrics import accuracy_score\n",
    "\n",
    "print ('Accuracy:' + str(accuracy_score(y_test, y_pred_logr)))\n",
    "model_perf['logr','Accuracy'] = accuracy_score(y_test, y_pred_logr)"
   ]
  },
  {
   "cell_type": "code",
   "execution_count": null,
   "metadata": {
    "ExecuteTime": {
     "start_time": "2019-11-16T16:31:09.233Z"
    }
   },
   "outputs": [],
   "source": [
    "logr.classes_.tolist()"
   ]
  },
  {
   "cell_type": "code",
   "execution_count": null,
   "metadata": {
    "ExecuteTime": {
     "start_time": "2019-11-16T16:31:09.237Z"
    }
   },
   "outputs": [],
   "source": [
    "y_conv = [logr.classes_.tolist().index(k) for k in y_test.tolist()] \n",
    "y_pred_prob_logr=logr.predict_proba(X_test)\n",
    "print('logr:' + str(ndcg_score(y_conv,y_pred_prob_logr)))\n",
    "ndcg_score(y_conv,y_pred_prob_logr)\n",
    "model_perf['logr','nDCG'] = ndcg_score(y_conv,y_pred_prob_logr)"
   ]
  },
  {
   "cell_type": "markdown",
   "metadata": {},
   "source": [
    "### Naive Bayes"
   ]
  },
  {
   "cell_type": "code",
   "execution_count": null,
   "metadata": {
    "ExecuteTime": {
     "start_time": "2019-11-16T16:31:09.241Z"
    }
   },
   "outputs": [],
   "source": [
    "y_pred_nb=gnb.predict(X_test)\n",
    "pd.crosstab(y_test, y_pred_nb, rownames=['Actual Destination'], colnames=['Predicted Destination'])"
   ]
  },
  {
   "cell_type": "code",
   "execution_count": null,
   "metadata": {
    "ExecuteTime": {
     "start_time": "2019-11-16T16:31:09.244Z"
    }
   },
   "outputs": [],
   "source": [
    "print ('Accuracy:' + str(accuracy_score(y_test, y_pred_nb)))\n",
    "model_perf['GNB','Accuracy'] = accuracy_score(y_test, y_pred_nb)"
   ]
  },
  {
   "cell_type": "code",
   "execution_count": null,
   "metadata": {
    "ExecuteTime": {
     "start_time": "2019-11-16T16:31:09.247Z"
    }
   },
   "outputs": [],
   "source": [
    "y_conv = [gnb.classes_.tolist().index(k) for k in y_test.tolist()]\n",
    "y_pred_prob_gnb=gnb.predict_proba(X_test)\n",
    "print('GNB:' + str(ndcg_score(y_conv,y_pred_prob_gnb)))\n",
    "ndcg_score(y_conv,y_pred_prob_gnb)\n",
    "model_perf['GNB','nDCG'] = ndcg_score(y_conv,y_pred_prob_gnb)"
   ]
  },
  {
   "cell_type": "markdown",
   "metadata": {},
   "source": [
    "### SVM Linear"
   ]
  },
  {
   "cell_type": "code",
   "execution_count": null,
   "metadata": {
    "ExecuteTime": {
     "start_time": "2019-11-16T16:31:09.254Z"
    }
   },
   "outputs": [],
   "source": [
    "y_pred_svc=svc.predict(X_test)\n",
    "pd.crosstab(y_test, y_pred_svc, rownames=['Actual Destination'], colnames=['Predicted Destination'])"
   ]
  },
  {
   "cell_type": "code",
   "execution_count": null,
   "metadata": {
    "ExecuteTime": {
     "start_time": "2019-11-16T16:31:09.258Z"
    }
   },
   "outputs": [],
   "source": [
    "from sklearn.metrics import accuracy_score,confusion_matrix\n",
    "print ('Accuracy:' + str(accuracy_score(y_test, y_pred_svc)))\n",
    "model_perf['svc','Accuracy'] = accuracy_score(y_test, y_pred_svc)"
   ]
  },
  {
   "cell_type": "markdown",
   "metadata": {},
   "source": [
    "### Decision Tree"
   ]
  },
  {
   "cell_type": "code",
   "execution_count": null,
   "metadata": {
    "ExecuteTime": {
     "start_time": "2019-11-16T16:31:09.263Z"
    }
   },
   "outputs": [],
   "source": [
    "y_pred_dt=dt.predict(X_test)\n",
    "pd.crosstab(y_test, y_pred_dt, rownames=['Actual Destination'], colnames=['Predicted Destination'])"
   ]
  },
  {
   "cell_type": "code",
   "execution_count": null,
   "metadata": {
    "ExecuteTime": {
     "start_time": "2019-11-16T16:31:09.266Z"
    }
   },
   "outputs": [],
   "source": [
    "from sklearn.metrics import accuracy_score,confusion_matrix\n",
    "print ('Accuracy:' + str(accuracy_score(y_test, y_pred_dt)))\n",
    "model_perf['dt','Accuracy'] = accuracy_score(y_test, y_pred_dt)"
   ]
  },
  {
   "cell_type": "code",
   "execution_count": null,
   "metadata": {
    "ExecuteTime": {
     "start_time": "2019-11-16T16:31:09.269Z"
    }
   },
   "outputs": [],
   "source": [
    "y_conv = [dt.classes_.tolist().index(k) for k in y_test.tolist()]\n",
    "y_pred_prob_dt=dt.predict_proba(X_test)\n",
    "print('nDCG:' + str(ndcg_score(y_conv,y_pred_prob_dt)))\n",
    "ndcg_score(y_conv,y_pred_prob_dt)\n",
    "model_perf['dt','nDCG'] = ndcg_score(y_conv,y_pred_prob_dt)"
   ]
  },
  {
   "cell_type": "markdown",
   "metadata": {},
   "source": [
    "###  Random Forest"
   ]
  },
  {
   "cell_type": "code",
   "execution_count": null,
   "metadata": {
    "ExecuteTime": {
     "start_time": "2019-11-16T16:31:09.274Z"
    }
   },
   "outputs": [],
   "source": [
    "y_pred=clf.predict(X_test)\n",
    "pd.crosstab(y_test, y_pred, rownames=['Actual Destination'], colnames=['Predicted Destination'])"
   ]
  },
  {
   "cell_type": "code",
   "execution_count": null,
   "metadata": {
    "ExecuteTime": {
     "start_time": "2019-11-16T16:31:09.277Z"
    }
   },
   "outputs": [],
   "source": [
    "from sklearn.metrics import accuracy_score,confusion_matrix\n",
    "print ('Accuracy:' + str(accuracy_score(y_test, y_pred)))\n",
    "model_perf['rf','Accuracy'] = accuracy_score(y_test, y_pred)"
   ]
  },
  {
   "cell_type": "code",
   "execution_count": null,
   "metadata": {
    "ExecuteTime": {
     "start_time": "2019-11-16T16:31:09.280Z"
    }
   },
   "outputs": [],
   "source": [
    "y_conv = [clf.classes_.tolist().index(k) for k in y_test.tolist()]\n",
    "y_pred_prob=clf.predict_proba(X_test)\n",
    "print('nDCG:' + str(ndcg_score(y_conv,y_pred_prob)))\n",
    "model_perf['rf','nDCG'] = ndcg_score(y_conv,y_pred_prob)"
   ]
  },
  {
   "cell_type": "markdown",
   "metadata": {},
   "source": [
    "## Gradient Boosting"
   ]
  },
  {
   "cell_type": "code",
   "execution_count": null,
   "metadata": {
    "ExecuteTime": {
     "start_time": "2019-11-16T16:31:09.285Z"
    }
   },
   "outputs": [],
   "source": [
    "y_pred=gbs.predict(X_test)\n",
    "pd.crosstab(y_test, y_pred, rownames=['Actual Destination'], colnames=['Predicted Destination'])"
   ]
  },
  {
   "cell_type": "code",
   "execution_count": null,
   "metadata": {
    "ExecuteTime": {
     "start_time": "2019-11-16T16:31:09.289Z"
    }
   },
   "outputs": [],
   "source": [
    "from sklearn.metrics import accuracy_score,confusion_matrix\n",
    "print ('Accuracy:' + str(accuracy_score(y_test, y_pred)))\n",
    "model_perf['rf','Accuracy'] = accuracy_score(y_test, y_pred)"
   ]
  },
  {
   "cell_type": "code",
   "execution_count": null,
   "metadata": {
    "ExecuteTime": {
     "start_time": "2019-11-16T16:31:09.292Z"
    }
   },
   "outputs": [],
   "source": [
    "y_conv = [gbs.classes_.tolist().index(k) for k in y_test.tolist()]\n",
    "y_pred_prob=gbs.predict_proba(X_test)\n",
    "print('nDCG:' + str(ndcg_score(y_conv,y_pred_prob)))\n",
    "model_perf['rf','nDCG'] = ndcg_score(y_conv,y_pred_prob)"
   ]
  },
  {
   "cell_type": "markdown",
   "metadata": {},
   "source": [
    "## XGboost"
   ]
  },
  {
   "cell_type": "code",
   "execution_count": null,
   "metadata": {
    "ExecuteTime": {
     "start_time": "2019-11-16T16:31:09.296Z"
    }
   },
   "outputs": [],
   "source": [
    "y_pred=xgb.predict(X_test)\n",
    "pd.crosstab(y_test, y_pred, rownames=['Actual Destination'], colnames=['Predicted Destination'])"
   ]
  },
  {
   "cell_type": "code",
   "execution_count": null,
   "metadata": {
    "ExecuteTime": {
     "start_time": "2019-11-16T16:31:09.300Z"
    }
   },
   "outputs": [],
   "source": [
    "from sklearn.metrics import accuracy_score,confusion_matrix\n",
    "print ('Accuracy:' + str(accuracy_score(y_test, y_pred)))\n",
    "model_perf['rf','Accuracy'] = accuracy_score(y_test, y_pred)"
   ]
  },
  {
   "cell_type": "code",
   "execution_count": null,
   "metadata": {
    "ExecuteTime": {
     "start_time": "2019-11-16T16:31:09.303Z"
    }
   },
   "outputs": [],
   "source": [
    "y_conv = [xgb.classes_.tolist().index(k) for k in y_test.tolist()]\n",
    "y_pred_prob=xgb.predict_proba(X_test)\n",
    "print('nDCG:' + str(ndcg_score(y_conv,y_pred_prob)))\n",
    "model_perf['rf','nDCG'] = ndcg_score(y_conv,y_pred_prob)"
   ]
  },
  {
   "cell_type": "markdown",
   "metadata": {},
   "source": [
    "### Light GBM"
   ]
  },
  {
   "cell_type": "code",
   "execution_count": null,
   "metadata": {
    "ExecuteTime": {
     "start_time": "2019-11-16T16:31:09.308Z"
    }
   },
   "outputs": [],
   "source": [
    "y_pred=lgbm.predict(X_test)\n",
    "pd.crosstab(y_test, y_pred, rownames=['Actual Destination'], colnames=['Predicted Destination'])"
   ]
  },
  {
   "cell_type": "code",
   "execution_count": null,
   "metadata": {
    "ExecuteTime": {
     "start_time": "2019-11-16T16:31:09.312Z"
    }
   },
   "outputs": [],
   "source": [
    "from sklearn.metrics import accuracy_score,confusion_matrix\n",
    "print ('Accuracy:' + str(accuracy_score(y_test, y_pred)))\n",
    "model_perf['lgbm','Accuracy'] = accuracy_score(y_test, y_pred)"
   ]
  },
  {
   "cell_type": "code",
   "execution_count": null,
   "metadata": {
    "ExecuteTime": {
     "start_time": "2019-11-16T16:31:09.316Z"
    }
   },
   "outputs": [],
   "source": [
    "y_conv = [lgbm.classes_.tolist().index(k) for k in y_test.tolist()]\n",
    "y_pred_prob=lgbm.predict_proba(X_test)\n",
    "print('nDCG:' + str(ndcg_score(y_conv,y_pred_prob)))\n",
    "model_perf['lgbm','nDCG'] = ndcg_score(y_conv,y_pred_prob)"
   ]
  },
  {
   "cell_type": "markdown",
   "metadata": {},
   "source": [
    "### Predict for Test Dataset"
   ]
  },
  {
   "cell_type": "code",
   "execution_count": null,
   "metadata": {
    "ExecuteTime": {
     "start_time": "2019-11-16T16:31:09.320Z"
    }
   },
   "outputs": [],
   "source": [
    "y_pred_prob_1=dt.predict_proba(X_1)\n",
    "id_test = X_1.reset_index()['id']\n",
    "ids = []  #list of ids\n",
    "cts = []  #list of countries\n",
    "for i in range(len(id_test)):\n",
    "    idx = id_test[i]\n",
    "    ids += [idx] * 5\n",
    "    arr = [dt.classes_.tolist()[k] for k in np.argsort(y_pred_prob_1[i])[::-1]] \n",
    "    cts += arr[:5]\n",
    "\n",
    "#Generate submission\n",
    "sub = pd.DataFrame(np.column_stack((ids, cts)), columns=['id', 'country'])\n",
    "sub.to_csv('sub_dt.csv',index=False)"
   ]
  },
  {
   "cell_type": "code",
   "execution_count": null,
   "metadata": {
    "ExecuteTime": {
     "start_time": "2019-11-16T16:31:09.323Z"
    }
   },
   "outputs": [],
   "source": [
    "y_pred_prob_1=clf.predict_proba(X_1)\n",
    "id_test = X_1.reset_index()['id']\n",
    "ids = []  #list of ids\n",
    "cts = []  #list of countries\n",
    "for i in range(len(id_test)):\n",
    "    idx = id_test[i]\n",
    "    ids += [idx] * 5\n",
    "    arr = [clf.classes_.tolist()[k] for k in np.argsort(y_pred_prob_1[i])[::-1]] \n",
    "    cts += arr[:5]\n",
    "\n",
    "#Generate submission\n",
    "sub = pd.DataFrame(np.column_stack((ids, cts)), columns=['id', 'country'])\n",
    "sub.to_csv('sub_rf.csv',index=False)"
   ]
  },
  {
   "cell_type": "code",
   "execution_count": null,
   "metadata": {
    "ExecuteTime": {
     "start_time": "2019-11-16T16:31:09.327Z"
    }
   },
   "outputs": [],
   "source": [
    "y_pred_prob_1=logr.predict_proba(X_1)\n",
    "id_test = X_1.reset_index()['id']\n",
    "ids = []  #list of ids\n",
    "cts = []  #list of countries\n",
    "for i in range(len(id_test)):\n",
    "    idx = id_test[i]\n",
    "    ids += [idx] * 5\n",
    "    arr = [logr.classes_.tolist()[k] for k in np.argsort(y_pred_prob_1[i])[::-1]] \n",
    "    cts += arr[:5]\n",
    "\n",
    "#Generate submission\n",
    "sub = pd.DataFrame(np.column_stack((ids, cts)), columns=['id', 'country'])\n",
    "sub.to_csv('sub_logr.csv',index=False)"
   ]
  },
  {
   "cell_type": "code",
   "execution_count": null,
   "metadata": {
    "ExecuteTime": {
     "start_time": "2019-11-16T16:31:09.331Z"
    }
   },
   "outputs": [],
   "source": [
    "y_pred_prob_1=gnb.predict_proba(X_1)\n",
    "id_test = X_1.reset_index()['id']\n",
    "ids = []  #list of ids\n",
    "cts = []  #list of countries\n",
    "for i in range(len(id_test)):\n",
    "    idx = id_test[i]\n",
    "    ids += [idx] * 5\n",
    "    arr = [gnb.classes_.tolist()[k] for k in np.argsort(y_pred_prob_1[i])[::-1]] \n",
    "    cts += arr[:5]\n",
    "\n",
    "#Generate submission\n",
    "sub = pd.DataFrame(np.column_stack((ids, cts)), columns=['id', 'country'])\n",
    "sub.to_csv('sub_gnb.csv',index=False)"
   ]
  },
  {
   "cell_type": "code",
   "execution_count": null,
   "metadata": {
    "ExecuteTime": {
     "start_time": "2019-11-16T16:31:09.334Z"
    }
   },
   "outputs": [],
   "source": [
    "y_pred_prob_1=gbs.predict_proba(X_1)\n",
    "id_test = X_1.reset_index()['id']\n",
    "ids = []  #list of ids\n",
    "cts = []  #list of countries\n",
    "for i in range(len(id_test)):\n",
    "    idx = id_test[i]\n",
    "    ids += [idx] * 5\n",
    "    arr = [gbs.classes_.tolist()[k] for k in np.argsort(y_pred_prob_1[i])[::-1]] \n",
    "    cts += arr[:5]\n",
    "\n",
    "#Generate submission\n",
    "sub = pd.DataFrame(np.column_stack((ids, cts)), columns=['id', 'country'])\n",
    "sub.to_csv('sub_gbs.csv',index=False)"
   ]
  },
  {
   "cell_type": "code",
   "execution_count": null,
   "metadata": {
    "ExecuteTime": {
     "start_time": "2019-11-16T16:31:09.339Z"
    }
   },
   "outputs": [],
   "source": [
    "y_pred_prob_1=xgb.predict_proba(X_1)\n",
    "id_test = X_1.reset_index()['id']\n",
    "ids = []  #list of ids\n",
    "cts = []  #list of countries\n",
    "for i in range(len(id_test)):\n",
    "    idx = id_test[i]\n",
    "    ids += [idx] * 5\n",
    "    arr = [xgb.classes_.tolist()[k] for k in np.argsort(y_pred_prob_1[i])[::-1]] \n",
    "    cts += arr[:5]\n",
    "\n",
    "#Generate submission\n",
    "sub = pd.DataFrame(np.column_stack((ids, cts)), columns=['id', 'country'])\n",
    "sub.to_csv('sub_xgb.csv',index=False)"
   ]
  },
  {
   "cell_type": "code",
   "execution_count": null,
   "metadata": {
    "ExecuteTime": {
     "start_time": "2019-11-16T16:31:09.342Z"
    }
   },
   "outputs": [],
   "source": [
    "y_pred_prob_1=lgbm.predict_proba(X_1)\n",
    "id_test = X_1.reset_index()['id']\n",
    "ids = []  #list of ids\n",
    "cts = []  #list of countries\n",
    "for i in range(len(id_test)):\n",
    "    idx = id_test[i]\n",
    "    ids += [idx] * 5\n",
    "    arr = [lgbm.classes_.tolist()[k] for k in np.argsort(y_pred_prob_1[i])[::-1]] \n",
    "    cts += arr[:5]\n",
    "\n",
    "#Generate submission\n",
    "sub = pd.DataFrame(np.column_stack((ids, cts)), columns=['id', 'country'])\n",
    "sub.to_csv('sub_lgbm.csv',index=False)"
   ]
  },
  {
   "cell_type": "markdown",
   "metadata": {},
   "source": [
    "#### Sample Output"
   ]
  },
  {
   "cell_type": "code",
   "execution_count": null,
   "metadata": {
    "ExecuteTime": {
     "start_time": "2019-11-16T16:31:09.347Z"
    }
   },
   "outputs": [],
   "source": [
    "sub.head(10)"
   ]
  },
  {
   "cell_type": "code",
   "execution_count": null,
   "metadata": {
    "ExecuteTime": {
     "start_time": "2019-11-16T16:31:09.350Z"
    }
   },
   "outputs": [],
   "source": [
    "sub.set_index('id').loc['5uwns89zht','country'].values.tolist()"
   ]
  },
  {
   "cell_type": "markdown",
   "metadata": {},
   "source": [
    "#### Summary Results"
   ]
  },
  {
   "cell_type": "code",
   "execution_count": null,
   "metadata": {
    "ExecuteTime": {
     "start_time": "2019-11-16T16:31:09.353Z"
    }
   },
   "outputs": [],
   "source": [
    "model_perf"
   ]
  },
  {
   "cell_type": "code",
   "execution_count": null,
   "metadata": {},
   "outputs": [],
   "source": []
  }
 ],
 "metadata": {
  "kernelspec": {
   "display_name": "Python 3",
   "language": "python",
   "name": "python3"
  },
  "language_info": {
   "codemirror_mode": {
    "name": "ipython",
    "version": 3
   },
   "file_extension": ".py",
   "mimetype": "text/x-python",
   "name": "python",
   "nbconvert_exporter": "python",
   "pygments_lexer": "ipython3",
   "version": "3.7.3"
  }
 },
 "nbformat": 4,
 "nbformat_minor": 1
}
